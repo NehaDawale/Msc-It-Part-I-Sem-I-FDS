{
  "nbformat": 4,
  "nbformat_minor": 0,
  "metadata": {
    "colab": {
      "name": "Python.ipynb",
      "provenance": [],
      "collapsed_sections": []
    },
    "kernelspec": {
      "display_name": "Python 3",
      "name": "python3"
    }
  },
  "cells": [
    {
      "cell_type": "markdown",
      "metadata": {
        "id": "yxEmbaqGwGkH"
      },
      "source": [
        "**What is Python?**\r\n",
        "\r\n",
        "Python is a popular programming language.\r\n",
        "**It is used for:**\r\n",
        "\r\n",
        "\r\n",
        "\r\n",
        "\r\n",
        "* web development (server-side),\r\n",
        "* software development, \r\n",
        "\r\n",
        "*  mathematics, \r\n",
        "*  system scripting.\r\n",
        "\r\n",
        "\r\n",
        "\r\n",
        "\r\n",
        "\r\n",
        "\r\n"
      ]
    },
    {
      "cell_type": "markdown",
      "metadata": {
        "id": "PC2_bsIS4V-_"
      },
      "source": [
        "**What can Python do?**\r\n",
        "\r\n",
        "\r\n",
        "\r\n",
        "*   Python can be used on a server to create web applications.\r\n",
        "\r\n",
        "*   Python can be used alongside software to create workflows.\r\n",
        "\r\n",
        "*   Python can connect to database systems. It can also read and modify files.\r\n",
        "\r\n"
      ]
    },
    {
      "cell_type": "markdown",
      "metadata": {
        "id": "WYZTh9FK47qC"
      },
      "source": [
        "**Why Python?**\r\n",
        "\r\n",
        "\r\n",
        "*  Python works on different platforms (Windows, Mac, Linux, Raspberry Pi, etc).\r\n",
        "\r\n",
        "*  Python has a simple syntax similar to the English language.\r\n",
        "\r\n",
        "*   Python has syntax that allows developers to write programs with fewer lines than some other programming languages.\r\n",
        "*   Python runs on an interpreter system, meaning that code can be executed as soon as it is written. This means that prototyping can be very quick.\r\n",
        "\r\n",
        "\r\n",
        "*  Python can be treated in a procedural way, an object-oriented way or a functional way.\r\n",
        "\r\n",
        "\r\n",
        "\r\n"
      ]
    },
    {
      "cell_type": "markdown",
      "metadata": {
        "id": "eD18rRkP5ks2"
      },
      "source": [
        "**Python Syntax compared to other programming languages**\r\n",
        "\r\n",
        "\r\n",
        "*  Python was designed for readability, and has some similarities to the English language with influence from mathematics.\r\n",
        "\r\n",
        "*   Python uses new lines to complete a command, as opposed to other programming languages which often use semicolons or parentheses.\r\n",
        "*   Python relies on indentation, using whitespace, to define scope; such as the scope of loops, functions and classes. Other programming languages often use curly-brackets for this purpose.\r\n",
        "\r\n",
        " **Example**\r\n",
        "\r\n",
        "\r\n"
      ]
    },
    {
      "cell_type": "code",
      "metadata": {
        "id": "lk7fuHJu53Yj",
        "colab": {
          "base_uri": "https://localhost:8080/"
        },
        "outputId": "2201c641-4ee8-4f28-b630-7aa997c054a3"
      },
      "source": [
        "print(\"Hello, World!\")"
      ],
      "execution_count": null,
      "outputs": [
        {
          "output_type": "stream",
          "text": [
            "Hello, World!\n"
          ],
          "name": "stdout"
        }
      ]
    },
    {
      "cell_type": "markdown",
      "metadata": {
        "id": "1o2AxEamwyFG"
      },
      "source": [
        "**1) Python Comments**\r\n",
        "\r\n",
        "Comments can be used to explain Python code."
      ]
    },
    {
      "cell_type": "markdown",
      "metadata": {
        "id": "_HAFm1flxKbq"
      },
      "source": [
        "**i) Creating a Comment**\r\n",
        "\r\n",
        "Comments starts with a #, and Python will ignore them:\r\n",
        "\r\n",
        "\r\n",
        "**Example**"
      ]
    },
    {
      "cell_type": "code",
      "metadata": {
        "colab": {
          "base_uri": "https://localhost:8080/"
        },
        "id": "6POm3XyfxauY",
        "outputId": "764b5607-ac9e-41aa-d93b-a49e273deb9e"
      },
      "source": [
        "#This is a comment\r\n",
        "print(\"Hello, World!\")"
      ],
      "execution_count": null,
      "outputs": [
        {
          "output_type": "stream",
          "text": [
            "Hello, World!\n"
          ],
          "name": "stdout"
        }
      ]
    },
    {
      "cell_type": "markdown",
      "metadata": {
        "id": "9T0ohEJ0xvdd"
      },
      "source": [
        "**ii)** A comment does not have to be text that explains the \r\n",
        "\r\n",
        "\r\n",
        "\r\n",
        "code, it can also be used to prevent Python from executing code:"
      ]
    },
    {
      "cell_type": "code",
      "metadata": {
        "colab": {
          "base_uri": "https://localhost:8080/"
        },
        "id": "orBqG3UGyCyz",
        "outputId": "81e4d16f-edee-497c-adbc-5c4847c0b841"
      },
      "source": [
        "#print(\"Hello, World!\")\r\n",
        "print(\"Neha, Rj!\")"
      ],
      "execution_count": null,
      "outputs": [
        {
          "output_type": "stream",
          "text": [
            "Neha, Rj!\n"
          ],
          "name": "stdout"
        }
      ]
    },
    {
      "cell_type": "markdown",
      "metadata": {
        "id": "s6-yXh-0yNEP"
      },
      "source": [
        "**iii**) **Multi Line Comments**\r\n",
        "\r\n",
        "\r\n",
        "Python does not really have a syntax for multi line comments.\r\n",
        "\r\n",
        "\r\n",
        "To add a multiline comment you could insert a # for each line:\r\n",
        "\r\n",
        "**Example**"
      ]
    },
    {
      "cell_type": "code",
      "metadata": {
        "colab": {
          "base_uri": "https://localhost:8080/"
        },
        "id": "8m7AInCyye5a",
        "outputId": "8dc0465c-9c26-47dd-9220-685301377ff5"
      },
      "source": [
        "#This is a comment\r\n",
        "#written in\r\n",
        "#more than just one line\r\n",
        "print(\"Hello, World!\")"
      ],
      "execution_count": null,
      "outputs": [
        {
          "output_type": "stream",
          "text": [
            "Hello, World!\n"
          ],
          "name": "stdout"
        }
      ]
    },
    {
      "cell_type": "markdown",
      "metadata": {
        "id": "z-ckmGBMzPxw"
      },
      "source": [
        "**2) Python Variables**\r\n",
        "\r\n",
        "**Variables**\r\n",
        "\r\n",
        "Variables are containers for storing data values.\r\n",
        "\r\n"
      ]
    },
    {
      "cell_type": "markdown",
      "metadata": {
        "id": "xLljPXSG0Bsw"
      },
      "source": [
        "**i) Creating Variables**\r\n",
        "\r\n",
        "Python has no command for declaring a variable.\r\n",
        "\r\n",
        "A variable is created the moment you first assign a value to it."
      ]
    },
    {
      "cell_type": "code",
      "metadata": {
        "colab": {
          "base_uri": "https://localhost:8080/"
        },
        "id": "IuVAnPb10Out",
        "outputId": "08160972-db84-40d5-f0c3-9468bcb8b361"
      },
      "source": [
        "x = 5\r\n",
        "y = \"Neha\"\r\n",
        "print(x)\r\n",
        "print(y)"
      ],
      "execution_count": null,
      "outputs": [
        {
          "output_type": "stream",
          "text": [
            "5\n",
            "Neha\n"
          ],
          "name": "stdout"
        }
      ]
    },
    {
      "cell_type": "markdown",
      "metadata": {
        "id": "j7juySdI0WRV"
      },
      "source": [
        "**ii) Casting**\r\n",
        "\r\n",
        "If you want to specify the data type of a variable, this can be done with casting.\r\n",
        "\r\n",
        "\r\n",
        "**Example**"
      ]
    },
    {
      "cell_type": "code",
      "metadata": {
        "colab": {
          "base_uri": "https://localhost:8080/"
        },
        "id": "Tqd2CVjR0dwU",
        "outputId": "e437cb72-4c56-412c-8e4f-8db02e0054bc"
      },
      "source": [
        "x = str(3)\r\n",
        "y = int(3)\r\n",
        "z = float(3)\r\n",
        "\r\n",
        "print(x)\r\n",
        "print(y)\r\n",
        "print(z)"
      ],
      "execution_count": null,
      "outputs": [
        {
          "output_type": "stream",
          "text": [
            "3\n",
            "3\n",
            "3.0\n"
          ],
          "name": "stdout"
        }
      ]
    },
    {
      "cell_type": "markdown",
      "metadata": {
        "id": "1ewecnYb0oZE"
      },
      "source": [
        "**iii) Get the Type**\r\n",
        "\r\n",
        "You can get the data type of a variable with the **type()** \r\n",
        "function.\r\n",
        "\r\n",
        "**Example**"
      ]
    },
    {
      "cell_type": "code",
      "metadata": {
        "colab": {
          "base_uri": "https://localhost:8080/"
        },
        "id": "XpDRdwEc0wqF",
        "outputId": "9cca48c7-8235-49f4-f7f3-3b07fcb04298"
      },
      "source": [
        "x = 5\r\n",
        "y = \"Pooja\"\r\n",
        "print(type(x))\r\n",
        "print(type(y))"
      ],
      "execution_count": null,
      "outputs": [
        {
          "output_type": "stream",
          "text": [
            "<class 'int'>\n",
            "<class 'str'>\n"
          ],
          "name": "stdout"
        }
      ]
    },
    {
      "cell_type": "markdown",
      "metadata": {
        "id": "0pFfFFVz0-Qt"
      },
      "source": [
        ""
      ]
    },
    {
      "cell_type": "markdown",
      "metadata": {
        "id": "eCyIW48R1FHb"
      },
      "source": [
        "**iv)** **Single or Double Quotes?**\r\n",
        "\r\n",
        "String variables can be declared either by using single or double quotes:\r\n",
        "\r\n",
        "**Example**"
      ]
    },
    {
      "cell_type": "code",
      "metadata": {
        "colab": {
          "base_uri": "https://localhost:8080/"
        },
        "id": "Ng8A4Ofi1P_O",
        "outputId": "b13e822d-6d3b-4383-a144-923197dc9126"
      },
      "source": [
        "x = \"Teju\"\r\n",
        "print(x)\r\n",
        "#double quotes are the same as single quotes:\r\n",
        "x = 'Teju'\r\n",
        "print(x)"
      ],
      "execution_count": null,
      "outputs": [
        {
          "output_type": "stream",
          "text": [
            "Teju\n",
            "Teju\n"
          ],
          "name": "stdout"
        }
      ]
    },
    {
      "cell_type": "markdown",
      "metadata": {
        "id": "EmMs1sev1c2w"
      },
      "source": [
        "**v)** **Case-Sensitive**\r\n",
        "\r\n",
        "Variable names are case-sensitive.\r\n",
        "\r\n",
        "**Example**\r\n",
        "\r\n",
        "This will create two variables:"
      ]
    },
    {
      "cell_type": "code",
      "metadata": {
        "colab": {
          "base_uri": "https://localhost:8080/"
        },
        "id": "wOswgJh-1t1p",
        "outputId": "1ce21742-ad2b-4003-a94e-92136f91677b"
      },
      "source": [
        "a = 4\r\n",
        "A = \"Sally\"\r\n",
        "\r\n",
        "print(a)\r\n",
        "print(A)\r\n"
      ],
      "execution_count": null,
      "outputs": [
        {
          "output_type": "stream",
          "text": [
            "4\n",
            "Sally\n"
          ],
          "name": "stdout"
        }
      ]
    },
    {
      "cell_type": "markdown",
      "metadata": {
        "id": "vY8yWM5Z11kD"
      },
      "source": [
        "**3) Python - Variable Names**\r\n",
        "\r\n",
        "**Variable Names**\r\n",
        "\r\n",
        "A variable can have a short name (like x and y) or a more descriptive name (age, carname, total_volume). Rules for Python variables:\r\n",
        " \r\n",
        "\r\n",
        "*  A variable name must start with a letter or the underscore character\r\n",
        "\r\n",
        "*  A variable name cannot start with a number\r\n",
        "\r\n",
        "\r\n"
      ]
    },
    {
      "cell_type": "markdown",
      "metadata": {
        "id": "cTgXGUxe2rz7"
      },
      "source": [
        "**Example**\r\n",
        "\r\n",
        "Legal variable names:"
      ]
    },
    {
      "cell_type": "code",
      "metadata": {
        "colab": {
          "base_uri": "https://localhost:8080/"
        },
        "id": "Vo_YdJio2yE1",
        "outputId": "7470837f-822e-40ba-9e91-4e811e370611"
      },
      "source": [
        "myvar = \"Neha\"\r\n",
        "my_var = \"Neha\"\r\n",
        "_my_var = \"Neha\"\r\n",
        "myVar = \"Neha\"\r\n",
        "MYVAR = \"Neha\"\r\n",
        "myvar2 = \"Neha\"\r\n",
        "\r\n",
        "\r\n",
        "print(myvar)\r\n",
        "print(my_var)\r\n",
        "print(_my_var)\r\n",
        "print(myVar)\r\n",
        "print(MYVAR)\r\n",
        "print(myvar2)\r\n"
      ],
      "execution_count": null,
      "outputs": [
        {
          "output_type": "stream",
          "text": [
            "Neha\n",
            "Neha\n",
            "Neha\n",
            "Neha\n",
            "Neha\n",
            "Neha\n"
          ],
          "name": "stdout"
        }
      ]
    },
    {
      "cell_type": "markdown",
      "metadata": {
        "id": "OcepelYy3w6N"
      },
      "source": [
        "**4) Python Variables - Assign Multiple Values**\r\n",
        "\r\n",
        "**i**) **Many Values to Multiple Variables**\r\n",
        "\r\n",
        "Python allows you to assign values to multiple variables in one line:\r\n",
        "\r\n",
        "**Example**"
      ]
    },
    {
      "cell_type": "code",
      "metadata": {
        "colab": {
          "base_uri": "https://localhost:8080/"
        },
        "id": "8J_r8__N3_xI",
        "outputId": "390f3da4-c79d-4169-9a91-42df5692fb7c"
      },
      "source": [
        "x, y, z = \"Orange\", \"Banana\", \"Cherry\"\r\n",
        "print(x)\r\n",
        "print(y)\r\n",
        "print(z)"
      ],
      "execution_count": null,
      "outputs": [
        {
          "output_type": "stream",
          "text": [
            "Orange\n",
            "Banana\n",
            "Cherry\n"
          ],
          "name": "stdout"
        }
      ]
    },
    {
      "cell_type": "markdown",
      "metadata": {
        "id": "k8Yd4Hpk4Ozo"
      },
      "source": [
        "**ii) One Value to Multiple Variables**\r\n",
        "\r\n",
        "And you can assign the same value to multiple variables in one line:\r\n",
        "\r\n",
        "**Example**"
      ]
    },
    {
      "cell_type": "code",
      "metadata": {
        "colab": {
          "base_uri": "https://localhost:8080/"
        },
        "id": "1BDSecN84dhY",
        "outputId": "5ad22563-1db8-4950-85a3-0635d1990993"
      },
      "source": [
        "x = y = z = \"Orange\"\r\n",
        "print(x)\r\n",
        "print(y)\r\n",
        "print(z)"
      ],
      "execution_count": null,
      "outputs": [
        {
          "output_type": "stream",
          "text": [
            "Orange\n",
            "Orange\n",
            "Orange\n"
          ],
          "name": "stdout"
        }
      ]
    },
    {
      "cell_type": "markdown",
      "metadata": {
        "id": "5uWeZZvd4kA8"
      },
      "source": [
        "**iii) Unpack a Collection**\r\n",
        "\r\n",
        "If you have a collection of values in a list, tuple etc. Python allows you extract the values into variables. This is called unpacking.\r\n",
        "\r\n",
        "**Example**\r\n"
      ]
    },
    {
      "cell_type": "code",
      "metadata": {
        "colab": {
          "base_uri": "https://localhost:8080/"
        },
        "id": "rCzLoUw74wfA",
        "outputId": "e7bc5239-d46b-43b2-c99b-e53b83c227b6"
      },
      "source": [
        "fruits = [\"apple\", \"banana\", \"cherry\"]\r\n",
        "x, y, z = fruits\r\n",
        "print(x)\r\n",
        "print(y)\r\n",
        "print(z)"
      ],
      "execution_count": null,
      "outputs": [
        {
          "output_type": "stream",
          "text": [
            "apple\n",
            "banana\n",
            "cherry\n"
          ],
          "name": "stdout"
        }
      ]
    },
    {
      "cell_type": "markdown",
      "metadata": {
        "id": "fjhniqx541CV"
      },
      "source": [
        "**5) Python - Output Variables**\r\n",
        "\r\n",
        "**Output Variables**\r\n",
        "\r\n",
        "The Python print statement is often used to output variables.\r\n",
        "\r\n",
        "To combine both text and a variable, Python uses the + character:\r\n",
        "\r\n",
        "**Example**"
      ]
    },
    {
      "cell_type": "code",
      "metadata": {
        "colab": {
          "base_uri": "https://localhost:8080/"
        },
        "id": "WUpyUW0X5DkR",
        "outputId": "34090e80-5810-4943-8c55-483e13466631"
      },
      "source": [
        "x = \"awesome\"\r\n",
        "print(\"Python is \" + x)"
      ],
      "execution_count": null,
      "outputs": [
        {
          "output_type": "stream",
          "text": [
            "Python is awesome\n"
          ],
          "name": "stdout"
        }
      ]
    },
    {
      "cell_type": "markdown",
      "metadata": {
        "id": "YFHDGgk15MeC"
      },
      "source": [
        "**i)** You can also use the **+** character to add a variable to another variable:\r\n",
        "\r\n",
        "**Example**"
      ]
    },
    {
      "cell_type": "code",
      "metadata": {
        "colab": {
          "base_uri": "https://localhost:8080/"
        },
        "id": "mbiaR3Nc5Vpg",
        "outputId": "5a75267d-0205-4a5c-9a16-65e418fccf26"
      },
      "source": [
        "x = \"Python is \"\r\n",
        "y = \"awesome\"\r\n",
        "z =  x + y\r\n",
        "print(z)"
      ],
      "execution_count": null,
      "outputs": [
        {
          "output_type": "stream",
          "text": [
            "Python is awesome\n"
          ],
          "name": "stdout"
        }
      ]
    },
    {
      "cell_type": "markdown",
      "metadata": {
        "id": "vkh8IbxD5fZx"
      },
      "source": [
        "**ii)** For numbers, the **+** character works as a mathematical operator:"
      ]
    },
    {
      "cell_type": "code",
      "metadata": {
        "colab": {
          "base_uri": "https://localhost:8080/"
        },
        "id": "XS8P3XJd5qdQ",
        "outputId": "c1d0eb9d-1729-4f55-9b5e-cc92a4d7ba64"
      },
      "source": [
        "x = 5\r\n",
        "y = 10\r\n",
        "print(x + y)"
      ],
      "execution_count": null,
      "outputs": [
        {
          "output_type": "stream",
          "text": [
            "15\n"
          ],
          "name": "stdout"
        }
      ]
    },
    {
      "cell_type": "markdown",
      "metadata": {
        "id": "6WAFcks45uyP"
      },
      "source": [
        "**6) Python - Global Variables**\r\n",
        "\r\n",
        "**i) Global Variables**\r\n",
        "\r\n",
        "Variables that are created outside of a function (as in all of the examples above) are known as global variables.\r\n",
        "\r\n",
        "Global variables can be used by everyone, both inside of functions and outside."
      ]
    },
    {
      "cell_type": "markdown",
      "metadata": {
        "id": "Bd8r_SRZ-KX9"
      },
      "source": [
        "**Example**\r\n",
        "\r\n",
        "Create a variable outside of a function, and use it inside the function"
      ]
    },
    {
      "cell_type": "code",
      "metadata": {
        "colab": {
          "base_uri": "https://localhost:8080/"
        },
        "id": "JfWVjw4h-P_U",
        "outputId": "f8edc373-e176-4920-e956-7770fd739095"
      },
      "source": [
        "x = \"awesome\"\r\n",
        "\r\n",
        "def myfunc():\r\n",
        "  print(\"Python is \" + x)\r\n",
        "\r\n",
        "myfunc()"
      ],
      "execution_count": null,
      "outputs": [
        {
          "output_type": "stream",
          "text": [
            "Python is awesome\n"
          ],
          "name": "stdout"
        }
      ]
    },
    {
      "cell_type": "markdown",
      "metadata": {
        "id": "J7ARwDFIESPG"
      },
      "source": [
        "**7) The global Keyword**\r\n",
        "\r\n",
        "Normally, when you create a variable inside a function, that variable is local, and can only be used inside that function.\r\n",
        "\r\n",
        "\r\n",
        "To create a **global** variable inside a function, you can use the global keyword."
      ]
    },
    {
      "cell_type": "markdown",
      "metadata": {
        "id": "E7zsXEplEYyC"
      },
      "source": [
        "**Example**\r\n",
        "\r\n",
        "If you use the **global** keyword, the variable belongs to the global scope:"
      ]
    },
    {
      "cell_type": "code",
      "metadata": {
        "colab": {
          "base_uri": "https://localhost:8080/"
        },
        "id": "Q4YGFJnaEiyn",
        "outputId": "b05071f2-fd67-4a4d-c83a-9d222e6eee7f"
      },
      "source": [
        "def myfunc():\r\n",
        "  global x\r\n",
        "  x = \"fantastic\"\r\n",
        "\r\n",
        "myfunc()\r\n",
        "\r\n",
        "print(\"Python is \" + x)"
      ],
      "execution_count": null,
      "outputs": [
        {
          "output_type": "stream",
          "text": [
            "Python is fantastic\n"
          ],
          "name": "stdout"
        }
      ]
    },
    {
      "cell_type": "markdown",
      "metadata": {
        "id": "M0OHZe0XEq3M"
      },
      "source": [
        "**i)** Also, use the global keyword if you want to change a global variable inside a function.\r\n",
        "\r\n",
        "**Example**\r\n",
        "\r\n",
        "To change the value of a global variable inside a function, refer to the variable by using the **global** keyword:"
      ]
    },
    {
      "cell_type": "code",
      "metadata": {
        "colab": {
          "base_uri": "https://localhost:8080/"
        },
        "id": "lk2kG8RrE3pM",
        "outputId": "6a8e17a2-df4b-447e-c37a-3e7208199d6c"
      },
      "source": [
        "x = \"awesome\"\r\n",
        "\r\n",
        "def myfunc():\r\n",
        "  global x\r\n",
        "  x = \"fantastic\"\r\n",
        "\r\n",
        "myfunc()\r\n",
        "\r\n",
        "print(\"Python is \" + x)"
      ],
      "execution_count": null,
      "outputs": [
        {
          "output_type": "stream",
          "text": [
            "Python is fantastic\n"
          ],
          "name": "stdout"
        }
      ]
    },
    {
      "cell_type": "markdown",
      "metadata": {
        "id": "bjoZdYewE7zn"
      },
      "source": [
        "**8) Python Data Types**\r\n",
        "\r\n",
        "Python has the following data types built-in by default, in these categories:\r\n",
        "\r\n",
        "Text Type:\t**str**\r\n",
        "\r\n",
        "Numeric Types:\t**int, float, complex**\r\n",
        "\r\n",
        "Sequence Types:\t**list, tuple, range**\r\n",
        "\r\n",
        "Mapping Type:\t**dict**\r\n",
        "\r\n",
        "Set Types:\t**set, frozenset**\r\n",
        "\r\n",
        "Boolean Type:\t**bool**\r\n",
        "\r\n",
        "Binary Types:\t**bytes, bytearray, memoryview**"
      ]
    },
    {
      "cell_type": "markdown",
      "metadata": {
        "id": "5TsjvKljFq4K"
      },
      "source": [
        "**i) Getting the Data Type**\r\n",
        "\r\n",
        "You can get the data type of any object by using the **type()**function:\r\n",
        "\r\n",
        "**Example**\r\n",
        "\r\n",
        "Print the data type of the variable x:"
      ]
    },
    {
      "cell_type": "code",
      "metadata": {
        "colab": {
          "base_uri": "https://localhost:8080/"
        },
        "id": "ugQB8TtUF27w",
        "outputId": "9d561b27-add2-4432-f88f-b1af7897b4db"
      },
      "source": [
        "x = 5\r\n",
        "print(type(x))"
      ],
      "execution_count": null,
      "outputs": [
        {
          "output_type": "stream",
          "text": [
            "<class 'int'>\n"
          ],
          "name": "stdout"
        }
      ]
    },
    {
      "cell_type": "markdown",
      "metadata": {
        "id": "ArIiT2bNF810"
      },
      "source": [
        "**ii) Setting the Data Type**\r\n",
        "\r\n",
        "In Python, the data type is set when you assign a value to a variable:\r\n",
        "\r\n",
        "**Example**\r\n",
        "**Usig Data Type str**"
      ]
    },
    {
      "cell_type": "code",
      "metadata": {
        "colab": {
          "base_uri": "https://localhost:8080/"
        },
        "id": "UZFw7aaKGKhU",
        "outputId": "513e52ff-7553-4cea-9a74-725f46dce62d"
      },
      "source": [
        "x = \"Hello World\"\r\n",
        "\r\n",
        "#display x:\r\n",
        "print(x)\r\n",
        "\r\n",
        "#display the data type of x:\r\n",
        "print(type(x)) "
      ],
      "execution_count": null,
      "outputs": [
        {
          "output_type": "stream",
          "text": [
            "Hello World\n",
            "<class 'str'>\n"
          ],
          "name": "stdout"
        }
      ]
    },
    {
      "cell_type": "markdown",
      "metadata": {
        "id": "iaXT_7BnGa8x"
      },
      "source": [
        "**Using Data Type int**"
      ]
    },
    {
      "cell_type": "code",
      "metadata": {
        "colab": {
          "base_uri": "https://localhost:8080/"
        },
        "id": "EHTcnL6FGpvE",
        "outputId": "3d5cb135-774b-47fc-adf7-9c7786b3aa52"
      },
      "source": [
        "x = 20\r\n",
        "\r\n",
        "#display x:\r\n",
        "print(x)\r\n",
        "\r\n",
        "#display the data type of x:\r\n",
        "print(type(x)) "
      ],
      "execution_count": null,
      "outputs": [
        {
          "output_type": "stream",
          "text": [
            "20\n",
            "<class 'int'>\n"
          ],
          "name": "stdout"
        }
      ]
    },
    {
      "cell_type": "markdown",
      "metadata": {
        "id": "A3RgVrQpGzbH"
      },
      "source": [
        "**Using Data Type Float**"
      ]
    },
    {
      "cell_type": "code",
      "metadata": {
        "colab": {
          "base_uri": "https://localhost:8080/"
        },
        "id": "K5GGT9k5HZbc",
        "outputId": "cc2a499b-8b75-4240-a128-befa9613601e"
      },
      "source": [
        "x = 20.5\r\n",
        "\r\n",
        "#display x:\r\n",
        "print(x)\r\n",
        "\r\n",
        "#display the data type of x:\r\n",
        "print(type(x)) \r\n"
      ],
      "execution_count": null,
      "outputs": [
        {
          "output_type": "stream",
          "text": [
            "20.5\n",
            "<class 'float'>\n"
          ],
          "name": "stdout"
        }
      ]
    },
    {
      "cell_type": "markdown",
      "metadata": {
        "id": "Rq8lda3kHbuS"
      },
      "source": [
        "**Using Data Type Complex**"
      ]
    },
    {
      "cell_type": "code",
      "metadata": {
        "colab": {
          "base_uri": "https://localhost:8080/"
        },
        "id": "yvRHRAq7Hw5K",
        "outputId": "96857fbf-8429-4d21-de77-f4750c6c9295"
      },
      "source": [
        "x = 1j\r\n",
        "\r\n",
        "#display x:\r\n",
        "print(x)\r\n",
        "\r\n",
        "#display the data type of x:\r\n",
        "print(type(x)) \r\n"
      ],
      "execution_count": null,
      "outputs": [
        {
          "output_type": "stream",
          "text": [
            "1j\n",
            "<class 'complex'>\n"
          ],
          "name": "stdout"
        }
      ]
    },
    {
      "cell_type": "markdown",
      "metadata": {
        "id": "3iuOei7ZISso"
      },
      "source": [
        "**Using Data Type list**"
      ]
    },
    {
      "cell_type": "code",
      "metadata": {
        "colab": {
          "base_uri": "https://localhost:8080/"
        },
        "id": "LwN2lenQIYRN",
        "outputId": "1b0463f6-75e8-4ced-d72a-d454cf3bd9f8"
      },
      "source": [
        "x = [\"apple\", \"banana\", \"cherry\"]\r\n",
        "\r\n",
        "#display x:\r\n",
        "print(x)\r\n",
        "\r\n",
        "#display the data type of x:\r\n",
        "print(type(x)) \r\n"
      ],
      "execution_count": null,
      "outputs": [
        {
          "output_type": "stream",
          "text": [
            "['apple', 'banana', 'cherry']\n",
            "<class 'list'>\n"
          ],
          "name": "stdout"
        }
      ]
    },
    {
      "cell_type": "markdown",
      "metadata": {
        "id": "DDhgL5uYIcP3"
      },
      "source": [
        "**Using Data Type tuple**"
      ]
    },
    {
      "cell_type": "code",
      "metadata": {
        "colab": {
          "base_uri": "https://localhost:8080/"
        },
        "id": "1jsf0zjGIhhA",
        "outputId": "362d4853-9db0-4f8c-a3c8-4f92b6125b46"
      },
      "source": [
        "x = (\"apple\", \"banana\", \"cherry\")\r\n",
        "\r\n",
        "#display x:\r\n",
        "print(x)\r\n",
        "\r\n",
        "#display the data type of x:\r\n",
        "print(type(x)) \r\n"
      ],
      "execution_count": null,
      "outputs": [
        {
          "output_type": "stream",
          "text": [
            "('apple', 'banana', 'cherry')\n",
            "<class 'tuple'>\n"
          ],
          "name": "stdout"
        }
      ]
    },
    {
      "cell_type": "markdown",
      "metadata": {
        "id": "cwI3HbPBImEg"
      },
      "source": [
        "**Using Data Type range**"
      ]
    },
    {
      "cell_type": "code",
      "metadata": {
        "colab": {
          "base_uri": "https://localhost:8080/"
        },
        "id": "ZZ5K7py7Iq8U",
        "outputId": "c6338d52-faae-4e79-d7fd-257c29f81afa"
      },
      "source": [
        "x = range(6)\r\n",
        "\r\n",
        "#display x:\r\n",
        "print(x)\r\n",
        "\r\n",
        "#display the data type of x:\r\n",
        "print(type(x)) \r\n"
      ],
      "execution_count": null,
      "outputs": [
        {
          "output_type": "stream",
          "text": [
            "range(0, 6)\n",
            "<class 'range'>\n"
          ],
          "name": "stdout"
        }
      ]
    },
    {
      "cell_type": "markdown",
      "metadata": {
        "id": "KCjORxZMIwQt"
      },
      "source": [
        "**Using Data Type dict**"
      ]
    },
    {
      "cell_type": "code",
      "metadata": {
        "colab": {
          "base_uri": "https://localhost:8080/"
        },
        "id": "OMyB4GuxI2AK",
        "outputId": "8d3de885-2d80-4ff1-e4ed-94f774f67a13"
      },
      "source": [
        "x = {\"name\" : \"John\", \"age\" : 36}\r\n",
        "\r\n",
        "#display x:\r\n",
        "print(x)\r\n",
        "\r\n",
        "#display the data type of x:\r\n",
        "print(type(x)) \r\n"
      ],
      "execution_count": null,
      "outputs": [
        {
          "output_type": "stream",
          "text": [
            "{'name': 'John', 'age': 36}\n",
            "<class 'dict'>\n"
          ],
          "name": "stdout"
        }
      ]
    },
    {
      "cell_type": "markdown",
      "metadata": {
        "id": "FTPnl0AnI6u5"
      },
      "source": [
        "**Using Data Type set**"
      ]
    },
    {
      "cell_type": "code",
      "metadata": {
        "colab": {
          "base_uri": "https://localhost:8080/"
        },
        "id": "OaKV8LF7JBa4",
        "outputId": "113d032f-65a0-436d-ce28-9ce68ca4b426"
      },
      "source": [
        "x = {\"apple\", \"banana\", \"cherry\"}\r\n",
        "\r\n",
        "#display x:\r\n",
        "print(x)\r\n",
        "\r\n",
        "#display the data type of x:\r\n",
        "print(type(x)) \r\n"
      ],
      "execution_count": null,
      "outputs": [
        {
          "output_type": "stream",
          "text": [
            "{'banana', 'apple', 'cherry'}\n",
            "<class 'set'>\n"
          ],
          "name": "stdout"
        }
      ]
    },
    {
      "cell_type": "markdown",
      "metadata": {
        "id": "XMCexuf9JGB2"
      },
      "source": [
        "**Using Data Type frozenset**"
      ]
    },
    {
      "cell_type": "code",
      "metadata": {
        "colab": {
          "base_uri": "https://localhost:8080/"
        },
        "id": "YddeUvhpJMtz",
        "outputId": "e0d2e129-7203-4cdf-d56f-49194bff4299"
      },
      "source": [
        "x = frozenset({\"apple\", \"banana\", \"cherry\"})\r\n",
        "\r\n",
        "#display x:\r\n",
        "print(x)\r\n",
        "\r\n",
        "#display the data type of x:\r\n",
        "print(type(x)) \r\n"
      ],
      "execution_count": null,
      "outputs": [
        {
          "output_type": "stream",
          "text": [
            "frozenset({'banana', 'apple', 'cherry'})\n",
            "<class 'frozenset'>\n"
          ],
          "name": "stdout"
        }
      ]
    },
    {
      "cell_type": "markdown",
      "metadata": {
        "id": "KBf7Nk6QJQ93"
      },
      "source": [
        "**Using Data Type bool**"
      ]
    },
    {
      "cell_type": "code",
      "metadata": {
        "colab": {
          "base_uri": "https://localhost:8080/"
        },
        "id": "28Bq9mM4JVTN",
        "outputId": "00749be0-bf49-4147-8203-518a07bbf3f0"
      },
      "source": [
        "x = True\r\n",
        "\r\n",
        "#display x:\r\n",
        "print(x)\r\n",
        "\r\n",
        "#display the data type of x:\r\n",
        "print(type(x)) "
      ],
      "execution_count": null,
      "outputs": [
        {
          "output_type": "stream",
          "text": [
            "True\n",
            "<class 'bool'>\n"
          ],
          "name": "stdout"
        }
      ]
    },
    {
      "cell_type": "markdown",
      "metadata": {
        "id": "X8ATm9JVJZ_y"
      },
      "source": [
        "**Using Data Type bytes**"
      ]
    },
    {
      "cell_type": "code",
      "metadata": {
        "colab": {
          "base_uri": "https://localhost:8080/"
        },
        "id": "sNip-5J7JgyR",
        "outputId": "bd729189-97bb-466e-d0be-b22d2f27c40d"
      },
      "source": [
        "x = b\"Hello\"\r\n",
        "\r\n",
        "#display x:\r\n",
        "print(x)\r\n",
        "\r\n",
        "#display the data type of x:\r\n",
        "print(type(x)) \r\n"
      ],
      "execution_count": null,
      "outputs": [
        {
          "output_type": "stream",
          "text": [
            "b'Hello'\n",
            "<class 'bytes'>\n"
          ],
          "name": "stdout"
        }
      ]
    },
    {
      "cell_type": "markdown",
      "metadata": {
        "id": "Yv9rZPzMJikz"
      },
      "source": [
        "**Using Data Type bytearray**"
      ]
    },
    {
      "cell_type": "code",
      "metadata": {
        "colab": {
          "base_uri": "https://localhost:8080/"
        },
        "id": "jKHiv8V_Jnpu",
        "outputId": "49fe9723-7102-40cb-c41c-4ab64cc3aa98"
      },
      "source": [
        "x = bytearray(5)\r\n",
        "\r\n",
        "#display x:\r\n",
        "print(x)\r\n",
        "\r\n",
        "#display the data type of x:\r\n",
        "print(type(x)) "
      ],
      "execution_count": null,
      "outputs": [
        {
          "output_type": "stream",
          "text": [
            "bytearray(b'\\x00\\x00\\x00\\x00\\x00')\n",
            "<class 'bytearray'>\n"
          ],
          "name": "stdout"
        }
      ]
    },
    {
      "cell_type": "markdown",
      "metadata": {
        "id": "mSqMGdcMJraX"
      },
      "source": [
        "**Using Data Type memoryview**"
      ]
    },
    {
      "cell_type": "code",
      "metadata": {
        "colab": {
          "base_uri": "https://localhost:8080/"
        },
        "id": "GZtYDNc4J3GK",
        "outputId": "4e3d7ef7-c773-4881-f1a2-4f368f3eefb9"
      },
      "source": [
        "x = memoryview(bytes(5))\r\n",
        "\r\n",
        "#display x:\r\n",
        "print(x)\r\n",
        "\r\n",
        "#display the data type of x:\r\n",
        "print(type(x)) \r\n"
      ],
      "execution_count": null,
      "outputs": [
        {
          "output_type": "stream",
          "text": [
            "<memory at 0x7f7f7baa9ef0>\n",
            "<class 'memoryview'>\n"
          ],
          "name": "stdout"
        }
      ]
    },
    {
      "cell_type": "markdown",
      "metadata": {
        "id": "XVV_17T4KFTE"
      },
      "source": [
        "**iii) Setting the Specific Data Type**\r\n",
        "\r\n",
        "If you want to specify the data type, you can use the following constructor functions:\r\n",
        "**Example**"
      ]
    },
    {
      "cell_type": "markdown",
      "metadata": {
        "id": "Jm1eT7ndKQYf"
      },
      "source": [
        "**Using Data Type str**"
      ]
    },
    {
      "cell_type": "code",
      "metadata": {
        "colab": {
          "base_uri": "https://localhost:8080/"
        },
        "id": "KSKRHtLEKVQX",
        "outputId": "52944ff5-487e-4b30-8e62-ea0ccca8d813"
      },
      "source": [
        "x = str(\"Hello World\")\r\n",
        "\r\n",
        "#display x:\r\n",
        "print(x)\r\n",
        "\r\n",
        "#display the data type of x:\r\n",
        "print(type(x)) \r\n"
      ],
      "execution_count": null,
      "outputs": [
        {
          "output_type": "stream",
          "text": [
            "Hello World\n",
            "<class 'str'>\n"
          ],
          "name": "stdout"
        }
      ]
    },
    {
      "cell_type": "markdown",
      "metadata": {
        "id": "K3YDNFKVKZsG"
      },
      "source": [
        "**Using Data Type int**"
      ]
    },
    {
      "cell_type": "code",
      "metadata": {
        "colab": {
          "base_uri": "https://localhost:8080/"
        },
        "id": "GLq1mzoaKdFx",
        "outputId": "028e0578-4e10-43e1-9bf8-022a98dcdfad"
      },
      "source": [
        "x = int(20)\r\n",
        "\r\n",
        "#display x:\r\n",
        "print(x)\r\n",
        "\r\n",
        "#display the data type of x:\r\n",
        "print(type(x)) \r\n"
      ],
      "execution_count": null,
      "outputs": [
        {
          "output_type": "stream",
          "text": [
            "20\n",
            "<class 'int'>\n"
          ],
          "name": "stdout"
        }
      ]
    },
    {
      "cell_type": "markdown",
      "metadata": {
        "id": "q6VhvEewKi1K"
      },
      "source": [
        "**Using Data Type float**"
      ]
    },
    {
      "cell_type": "code",
      "metadata": {
        "colab": {
          "base_uri": "https://localhost:8080/"
        },
        "id": "mAQ3GRKxKpBM",
        "outputId": "918e41bd-e4b5-463d-c755-c8ea99b50150"
      },
      "source": [
        "x = float(20.5)\r\n",
        "\r\n",
        "#display x:\r\n",
        "print(x)\r\n",
        "\r\n",
        "#display the data type of x:\r\n",
        "print(type(x)) \r\n"
      ],
      "execution_count": null,
      "outputs": [
        {
          "output_type": "stream",
          "text": [
            "20.5\n",
            "<class 'float'>\n"
          ],
          "name": "stdout"
        }
      ]
    },
    {
      "cell_type": "markdown",
      "metadata": {
        "id": "fOXkbPeRKtAX"
      },
      "source": [
        "**Using Data Type complex**"
      ]
    },
    {
      "cell_type": "code",
      "metadata": {
        "colab": {
          "base_uri": "https://localhost:8080/"
        },
        "id": "p3UkYXIXKxgA",
        "outputId": "9fdfa6f5-680b-4f7d-a2f1-de561122bc5c"
      },
      "source": [
        "x = complex(1j)\r\n",
        "\r\n",
        "#display x:\r\n",
        "print(x)\r\n",
        "\r\n",
        "#display the data type of x:\r\n",
        "print(type(x)) \r\n"
      ],
      "execution_count": null,
      "outputs": [
        {
          "output_type": "stream",
          "text": [
            "1j\n",
            "<class 'complex'>\n"
          ],
          "name": "stdout"
        }
      ]
    },
    {
      "cell_type": "markdown",
      "metadata": {
        "id": "42PJkHx2K2kP"
      },
      "source": [
        "**Using Data Type list**"
      ]
    },
    {
      "cell_type": "code",
      "metadata": {
        "colab": {
          "base_uri": "https://localhost:8080/"
        },
        "id": "00KfdeNyK8Al",
        "outputId": "70b7921c-9a2b-4e61-8c50-5f439a93de7f"
      },
      "source": [
        "x = list((\"apple\", \"banana\", \"cherry\"))\r\n",
        "\r\n",
        "#display x:\r\n",
        "print(x)\r\n",
        "\r\n",
        "#display the data type of x:\r\n",
        "print(type(x)) "
      ],
      "execution_count": null,
      "outputs": [
        {
          "output_type": "stream",
          "text": [
            "['apple', 'banana', 'cherry']\n",
            "<class 'list'>\n"
          ],
          "name": "stdout"
        }
      ]
    },
    {
      "cell_type": "markdown",
      "metadata": {
        "id": "s3Y7iTAlLAdH"
      },
      "source": [
        "**Using Data Type tuple**"
      ]
    },
    {
      "cell_type": "code",
      "metadata": {
        "colab": {
          "base_uri": "https://localhost:8080/"
        },
        "id": "CA4-fT9iLFeD",
        "outputId": "fd8ec5a3-86db-4576-93aa-41f42bc27efc"
      },
      "source": [
        "x = tuple((\"apple\", \"banana\", \"cherry\"))\r\n",
        "\r\n",
        "#display x:\r\n",
        "print(x)\r\n",
        "\r\n",
        "#display the data type of x:\r\n",
        "print(type(x)) \r\n"
      ],
      "execution_count": null,
      "outputs": [
        {
          "output_type": "stream",
          "text": [
            "('apple', 'banana', 'cherry')\n",
            "<class 'tuple'>\n"
          ],
          "name": "stdout"
        }
      ]
    },
    {
      "cell_type": "markdown",
      "metadata": {
        "id": "gsNQSRt9LJNt"
      },
      "source": [
        "**Using Data Type range**"
      ]
    },
    {
      "cell_type": "code",
      "metadata": {
        "colab": {
          "base_uri": "https://localhost:8080/"
        },
        "id": "Aq9thoEjLQ7N",
        "outputId": "2404d6c6-364c-45c0-b84d-795b8b4bd5eb"
      },
      "source": [
        "x = range(6)\r\n",
        "\r\n",
        "#display x:\r\n",
        "print(x)\r\n",
        "\r\n",
        "#display the data type of x:\r\n",
        "print(type(x)) \r\n"
      ],
      "execution_count": null,
      "outputs": [
        {
          "output_type": "stream",
          "text": [
            "range(0, 6)\n",
            "<class 'range'>\n"
          ],
          "name": "stdout"
        }
      ]
    },
    {
      "cell_type": "markdown",
      "metadata": {
        "id": "AeEeBfqqLU8v"
      },
      "source": [
        "**Using Data Type dict**"
      ]
    },
    {
      "cell_type": "code",
      "metadata": {
        "colab": {
          "base_uri": "https://localhost:8080/"
        },
        "id": "GX4I8xznLgKo",
        "outputId": "0a52b372-a0e4-428b-8125-f1b81e142e55"
      },
      "source": [
        "x = dict(name=\"John\", age=36)\r\n",
        "\r\n",
        "#display x:\r\n",
        "print(x)\r\n",
        "\r\n",
        "#display the data type of x:\r\n",
        "print(type(x)) \r\n"
      ],
      "execution_count": null,
      "outputs": [
        {
          "output_type": "stream",
          "text": [
            "{'name': 'John', 'age': 36}\n",
            "<class 'dict'>\n"
          ],
          "name": "stdout"
        }
      ]
    },
    {
      "cell_type": "markdown",
      "metadata": {
        "id": "Fl1mFys_Lpbg"
      },
      "source": [
        "**Using Data Type set**"
      ]
    },
    {
      "cell_type": "code",
      "metadata": {
        "colab": {
          "base_uri": "https://localhost:8080/"
        },
        "id": "xG1jZXUsLuPz",
        "outputId": "85f392ea-bdd4-4224-f8b8-77cf278937ce"
      },
      "source": [
        "x = set((\"apple\", \"banana\", \"cherry\"))\r\n",
        "\r\n",
        "#display x:\r\n",
        "print(x)\r\n",
        "\r\n",
        "#display the data type of x:\r\n",
        "print(type(x)) "
      ],
      "execution_count": null,
      "outputs": [
        {
          "output_type": "stream",
          "text": [
            "{'banana', 'apple', 'cherry'}\n",
            "<class 'set'>\n"
          ],
          "name": "stdout"
        }
      ]
    },
    {
      "cell_type": "markdown",
      "metadata": {
        "id": "GcLAy4WbLzCz"
      },
      "source": [
        "**Using Data Type frozenset**"
      ]
    },
    {
      "cell_type": "code",
      "metadata": {
        "colab": {
          "base_uri": "https://localhost:8080/"
        },
        "id": "FoRV-8OzL6UO",
        "outputId": "b3b43173-97a3-44bf-d8ff-923f69de4dd2"
      },
      "source": [
        "x = frozenset((\"apple\", \"banana\", \"cherry\"))\r\n",
        "\r\n",
        "#display x:\r\n",
        "print(x)\r\n",
        "\r\n",
        "#display the data type of x:\r\n",
        "print(type(x)) \r\n"
      ],
      "execution_count": null,
      "outputs": [
        {
          "output_type": "stream",
          "text": [
            "frozenset({'banana', 'apple', 'cherry'})\n",
            "<class 'frozenset'>\n"
          ],
          "name": "stdout"
        }
      ]
    },
    {
      "cell_type": "markdown",
      "metadata": {
        "id": "67lJQ5gLL91-"
      },
      "source": [
        "**Using Data Type bool**"
      ]
    },
    {
      "cell_type": "code",
      "metadata": {
        "colab": {
          "base_uri": "https://localhost:8080/"
        },
        "id": "_EqMZJZ5MC80",
        "outputId": "c59f8b03-8739-4d46-f99c-169f19f2325c"
      },
      "source": [
        "x = bool(5)\r\n",
        "\r\n",
        "#display x:\r\n",
        "print(x)\r\n",
        "\r\n",
        "#display the data type of x:\r\n",
        "print(type(x)) "
      ],
      "execution_count": null,
      "outputs": [
        {
          "output_type": "stream",
          "text": [
            "True\n",
            "<class 'bool'>\n"
          ],
          "name": "stdout"
        }
      ]
    },
    {
      "cell_type": "markdown",
      "metadata": {
        "id": "H_IukYYdMGj4"
      },
      "source": [
        "**Using Data Type bytes**"
      ]
    },
    {
      "cell_type": "code",
      "metadata": {
        "colab": {
          "base_uri": "https://localhost:8080/"
        },
        "id": "Uzi0OkkrMK1e",
        "outputId": "a4caa0ec-7d71-450e-e2cc-e946a1654ee1"
      },
      "source": [
        "x = bytes(5)\r\n",
        "\r\n",
        "#display x:\r\n",
        "print(x)\r\n",
        "\r\n",
        "#display the data type of x:\r\n",
        "print(type(x)) \r\n"
      ],
      "execution_count": null,
      "outputs": [
        {
          "output_type": "stream",
          "text": [
            "b'\\x00\\x00\\x00\\x00\\x00'\n",
            "<class 'bytes'>\n"
          ],
          "name": "stdout"
        }
      ]
    },
    {
      "cell_type": "markdown",
      "metadata": {
        "id": "G0me7q7bMOla"
      },
      "source": [
        "**Using data Type bytearray**"
      ]
    },
    {
      "cell_type": "code",
      "metadata": {
        "colab": {
          "base_uri": "https://localhost:8080/"
        },
        "id": "eGz-FNfpMXZO",
        "outputId": "47c23ab6-1eac-4341-d4c9-85ead7ed58ad"
      },
      "source": [
        "x = bytearray(5)\r\n",
        "\r\n",
        "#display x:\r\n",
        "print(x)\r\n",
        "\r\n",
        "#display the data type of x:\r\n",
        "print(type(x)) \r\n"
      ],
      "execution_count": null,
      "outputs": [
        {
          "output_type": "stream",
          "text": [
            "bytearray(b'\\x00\\x00\\x00\\x00\\x00')\n",
            "<class 'bytearray'>\n"
          ],
          "name": "stdout"
        }
      ]
    },
    {
      "cell_type": "markdown",
      "metadata": {
        "id": "UrCkymAUMbTJ"
      },
      "source": [
        "**Using Data Type memoryview**"
      ]
    },
    {
      "cell_type": "code",
      "metadata": {
        "colab": {
          "base_uri": "https://localhost:8080/"
        },
        "id": "h99nnKMCMhec",
        "outputId": "6f8c60d9-c2c5-4a3e-e9c1-048423142f58"
      },
      "source": [
        "x = memoryview(bytes(5))\r\n",
        "\r\n",
        "#display x:\r\n",
        "print(x)\r\n",
        "\r\n",
        "#display the data type of x:\r\n",
        "print(type(x)) "
      ],
      "execution_count": null,
      "outputs": [
        {
          "output_type": "stream",
          "text": [
            "<memory at 0x7f7f7baa9ef0>\n",
            "<class 'memoryview'>\n"
          ],
          "name": "stdout"
        }
      ]
    },
    {
      "cell_type": "markdown",
      "metadata": {
        "id": "ZU5DKCYUMmcg"
      },
      "source": [
        "**9) Python Numbers**\r\n"
      ]
    },
    {
      "cell_type": "markdown",
      "metadata": {
        "id": "tEoMHRFdM7Ef"
      },
      "source": [
        "**Python Numbers**\r\n",
        "\r\n",
        "There are three numeric types in Python:\r\n",
        "\r\n",
        "\r\n",
        "*   **int**\r\n",
        "\r\n",
        "*   **float**\r\n",
        "*   **complex**\r\n",
        "\r\n",
        "Variables of numeric types are created when you assign a value to them:\r\n",
        "To verify the type of any object in Python, use the **type() **function:\r\n",
        "\r\n",
        "**Example**\r\n",
        "\r\n",
        "\r\n",
        "\r\n",
        "\r\n"
      ]
    },
    {
      "cell_type": "code",
      "metadata": {
        "colab": {
          "base_uri": "https://localhost:8080/"
        },
        "id": "UH_3lijcNURT",
        "outputId": "9f9c57d8-8468-4517-fbfb-f67d20e479d1"
      },
      "source": [
        "x = 1    # int\r\n",
        "y = 2.8  # float\r\n",
        "z = 1j   # complex\r\n",
        "print(type(x))\r\n",
        "print(type(y))\r\n",
        "print(type(z))\r\n"
      ],
      "execution_count": null,
      "outputs": [
        {
          "output_type": "stream",
          "text": [
            "<class 'int'>\n",
            "<class 'float'>\n",
            "<class 'complex'>\n"
          ],
          "name": "stdout"
        }
      ]
    },
    {
      "cell_type": "markdown",
      "metadata": {
        "id": "slmOOd0QNvCg"
      },
      "source": [
        "**i) Int**\r\n",
        "\r\n",
        "Int, or integer, is a whole number, positive or negative, without decimals, of unlimited length.\r\n",
        "\r\n",
        "**Example**\r\n",
        "\r\n",
        "**Integers:**"
      ]
    },
    {
      "cell_type": "code",
      "metadata": {
        "colab": {
          "base_uri": "https://localhost:8080/"
        },
        "id": "AEwpE1KzOAeS",
        "outputId": "0fe3c7ef-7fbc-48f7-8f5f-b6b3d0da7368"
      },
      "source": [
        "x = 1\r\n",
        "y = 35656222554887711\r\n",
        "z = -3255522\r\n",
        "\r\n",
        "print(type(x))\r\n",
        "print(type(y))\r\n",
        "print(type(z))"
      ],
      "execution_count": null,
      "outputs": [
        {
          "output_type": "stream",
          "text": [
            "<class 'int'>\n",
            "<class 'int'>\n",
            "<class 'int'>\n"
          ],
          "name": "stdout"
        }
      ]
    },
    {
      "cell_type": "markdown",
      "metadata": {
        "id": "VPIhza-cODOT"
      },
      "source": [
        "**ii) Float**\r\n",
        "\r\n",
        "Float, or \"floating point number\" is a number, positive or negative, containing one or more decimals.\r\n",
        "\r\n",
        "**Example**\r\n",
        "\r\n",
        "**Floats:**"
      ]
    },
    {
      "cell_type": "code",
      "metadata": {
        "colab": {
          "base_uri": "https://localhost:8080/"
        },
        "id": "7ANuONrkONLo",
        "outputId": "e2311fdc-eda0-4b5b-bf7d-9ddf7d27aaac"
      },
      "source": [
        "x = 1.10\r\n",
        "y = 1.0\r\n",
        "z = -35.59\r\n",
        "\r\n",
        "print(type(x))\r\n",
        "print(type(y))\r\n",
        "print(type(z))"
      ],
      "execution_count": null,
      "outputs": [
        {
          "output_type": "stream",
          "text": [
            "<class 'float'>\n",
            "<class 'float'>\n",
            "<class 'float'>\n"
          ],
          "name": "stdout"
        }
      ]
    },
    {
      "cell_type": "markdown",
      "metadata": {
        "id": "ht_NG5OeOSQv"
      },
      "source": [
        "Float can also be scientific numbers with an \"e\" to indicate the power of 10.\r\n",
        "\r\n",
        "**Example**\r\n",
        "\r\n",
        "Floats:"
      ]
    },
    {
      "cell_type": "code",
      "metadata": {
        "colab": {
          "base_uri": "https://localhost:8080/"
        },
        "id": "QirzX3bzOe-f",
        "outputId": "4d3e89f2-5dde-44f9-e2aa-8a7551efe222"
      },
      "source": [
        "x = 35e3\r\n",
        "y = 12E4\r\n",
        "z = -87.7e100\r\n",
        "\r\n",
        "print(type(x))\r\n",
        "print(type(y))\r\n",
        "print(type(z))"
      ],
      "execution_count": null,
      "outputs": [
        {
          "output_type": "stream",
          "text": [
            "<class 'float'>\n",
            "<class 'float'>\n",
            "<class 'float'>\n"
          ],
          "name": "stdout"
        }
      ]
    },
    {
      "cell_type": "markdown",
      "metadata": {
        "id": "EDquU_ymOmsr"
      },
      "source": [
        "**iii) Complex**\r\n",
        "Complex numbers are written with a \"j\" as the imaginary part:\r\n",
        "\r\n",
        "\r\n",
        "**Example**\r\n",
        "\r\n",
        "**Complex:**"
      ]
    },
    {
      "cell_type": "code",
      "metadata": {
        "colab": {
          "base_uri": "https://localhost:8080/"
        },
        "id": "JNbK-j6PO0YV",
        "outputId": "362e1c2e-5aaf-4acd-e613-d238450fd800"
      },
      "source": [
        "x = 3+5j\r\n",
        "y = 5j\r\n",
        "z = -5j\r\n",
        "\r\n",
        "print(type(x))\r\n",
        "print(type(y))\r\n",
        "print(type(z))"
      ],
      "execution_count": null,
      "outputs": [
        {
          "output_type": "stream",
          "text": [
            "<class 'complex'>\n",
            "<class 'complex'>\n",
            "<class 'complex'>\n"
          ],
          "name": "stdout"
        }
      ]
    },
    {
      "cell_type": "markdown",
      "metadata": {
        "id": "KfEURVNtO5qn"
      },
      "source": [
        "**iv) Type Conversion**\r\n",
        "\r\n",
        "You can convert from one type to another with the **int(),** **float(),** and **complex()** methods:\r\n",
        "\r\n",
        "**Example**\r\n",
        "\r\n",
        "Convert from one type to another:"
      ]
    },
    {
      "cell_type": "code",
      "metadata": {
        "colab": {
          "base_uri": "https://localhost:8080/"
        },
        "id": "JE2px4aTPOfs",
        "outputId": "b60768ca-ba91-481e-e9de-f99682717bdc"
      },
      "source": [
        "x = 1    # int\r\n",
        "y = 2.8  # float\r\n",
        "z = 1j   # complex\r\n",
        "\r\n",
        "#convert from int to float:\r\n",
        "a = float(x)\r\n",
        "\r\n",
        "#convert from float to int:\r\n",
        "b = int(y)\r\n",
        "\r\n",
        "#convert from int to complex:\r\n",
        "c = complex(x)\r\n",
        "\r\n",
        "print(a)\r\n",
        "print(b)\r\n",
        "print(c)\r\n",
        "\r\n",
        "print(type(a))\r\n",
        "print(type(b))\r\n",
        "print(type(c))\r\n"
      ],
      "execution_count": null,
      "outputs": [
        {
          "output_type": "stream",
          "text": [
            "1.0\n",
            "2\n",
            "(1+0j)\n",
            "<class 'float'>\n",
            "<class 'int'>\n",
            "<class 'complex'>\n"
          ],
          "name": "stdout"
        }
      ]
    },
    {
      "cell_type": "markdown",
      "metadata": {
        "id": "jtfP0yX1PW15"
      },
      "source": [
        "**v) Random Number**\r\n",
        "\r\n",
        "Python does not have a **random()** function to make a random number, but Python has a built-in module called random that can be used to make **random **numbers:\r\n",
        "\r\n",
        "\r\n",
        "**Example**\r\n",
        "\r\n",
        "Import the random module, and display a random number between 1 and 9:"
      ]
    },
    {
      "cell_type": "code",
      "metadata": {
        "colab": {
          "base_uri": "https://localhost:8080/"
        },
        "id": "nWxlXY2gPlXe",
        "outputId": "8e5cd397-9d01-40e7-bcec-f75712508afc"
      },
      "source": [
        "import random\r\n",
        "\r\n",
        "print(random.randrange(1, 10))\r\n"
      ],
      "execution_count": null,
      "outputs": [
        {
          "output_type": "stream",
          "text": [
            "2\n"
          ],
          "name": "stdout"
        }
      ]
    },
    {
      "cell_type": "markdown",
      "metadata": {
        "id": "MvRFXTtqPsrS"
      },
      "source": [
        "**10) Python Casting**\r\n",
        "\r\n",
        "**Specify a Variable Type**\r\n",
        "\r\n",
        "There may be times when you want to specify a type on to a variable. This can be done with casting. Python is an object-orientated language, and as such it uses classes to define data types, including its primitive types.\r\n",
        "\r\n",
        "\r\n"
      ]
    },
    {
      "cell_type": "markdown",
      "metadata": {
        "id": "abm_3TQPQH1B"
      },
      "source": [
        "Casting in python is therefore done using constructor functions:\r\n",
        "\r\n",
        "**int() -**constructs an integer number from an integer literal, a float literal (by removing all decimals), or a string literal (providing the string represents a whole number)\r\n",
        "\r\n",
        "**float() -** constructs a float number from an integer literal, a float literal or a string literal (providing the string represents a float or an integer)\r\n",
        "\r\n",
        "**str() -** constructs a string from a wide variety of data types, including strings, integer literals and float literals\r\n",
        "\r\n",
        "**Example**"
      ]
    },
    {
      "cell_type": "code",
      "metadata": {
        "colab": {
          "base_uri": "https://localhost:8080/"
        },
        "id": "i6IKWrD5QSwF",
        "outputId": "2f7e3635-edc0-4e8a-961a-6f8f25e73cd0"
      },
      "source": [
        "x = int(1)\r\n",
        "y = int(2.8)\r\n",
        "z = int(\"3\")\r\n",
        "print(x)\r\n",
        "print(y)\r\n",
        "print(z)\r\n"
      ],
      "execution_count": null,
      "outputs": [
        {
          "output_type": "stream",
          "text": [
            "1\n",
            "2\n",
            "3\n"
          ],
          "name": "stdout"
        }
      ]
    },
    {
      "cell_type": "markdown",
      "metadata": {
        "id": "b0ZZSrs9QhOA"
      },
      "source": [
        "**Example**\r\n",
        "\r\n",
        "Floats:"
      ]
    },
    {
      "cell_type": "code",
      "metadata": {
        "colab": {
          "base_uri": "https://localhost:8080/"
        },
        "id": "nkbBC-0KQnSy",
        "outputId": "ff12e07d-26f5-47cb-b963-cdd010929288"
      },
      "source": [
        "x = float(1)\r\n",
        "y = float(2.8)\r\n",
        "z = float(\"3\")\r\n",
        "w = float(\"4.2\")\r\n",
        "print(x)\r\n",
        "print(y)\r\n",
        "print(z)\r\n",
        "print(w)\r\n"
      ],
      "execution_count": null,
      "outputs": [
        {
          "output_type": "stream",
          "text": [
            "1.0\n",
            "2.8\n",
            "3.0\n",
            "4.2\n"
          ],
          "name": "stdout"
        }
      ]
    },
    {
      "cell_type": "markdown",
      "metadata": {
        "id": "vHDA1QaXQq7d"
      },
      "source": [
        "**Example**\r\n",
        "\r\n",
        "Strings:"
      ]
    },
    {
      "cell_type": "code",
      "metadata": {
        "colab": {
          "base_uri": "https://localhost:8080/"
        },
        "id": "9B_kZ0p6QvzQ",
        "outputId": "35c18915-6422-4086-a3b0-6e728bc1ea0f"
      },
      "source": [
        "x = str(\"s1\")\r\n",
        "y = str(2)\r\n",
        "z = str(3.0)\r\n",
        "print(x)\r\n",
        "print(y)\r\n",
        "print(z)"
      ],
      "execution_count": null,
      "outputs": [
        {
          "output_type": "stream",
          "text": [
            "s1\n",
            "2\n",
            "3.0\n"
          ],
          "name": "stdout"
        }
      ]
    },
    {
      "cell_type": "markdown",
      "metadata": {
        "id": "ZM2VOTx9Q-gU"
      },
      "source": [
        "**11) Python Strings**\r\n",
        "\r\n",
        "**Strings**\r\n",
        "\r\n",
        "Strings in python are surrounded by either single quotation marks, or double quotation marks.\r\n",
        "\r\n",
        "**'hello'** is the same as **\"hello\"**.\r\n",
        "\r\n",
        "You can display a string literal with the **print()** function:\r\n",
        "\r\n",
        "**Example**"
      ]
    },
    {
      "cell_type": "code",
      "metadata": {
        "colab": {
          "base_uri": "https://localhost:8080/"
        },
        "id": "9FhqpdeXRRhG",
        "outputId": "44705b39-2d6d-43b3-c489-04d4947aee75"
      },
      "source": [
        "print(\"Hello\")\r\n",
        "print('Hello')"
      ],
      "execution_count": null,
      "outputs": [
        {
          "output_type": "stream",
          "text": [
            "Hello\n",
            "Hello\n"
          ],
          "name": "stdout"
        }
      ]
    },
    {
      "cell_type": "markdown",
      "metadata": {
        "id": "tI5n6e-cRj_S"
      },
      "source": [
        "**i) Assign String to a Variable**\r\n",
        "\r\n",
        "Assigning a string to a variable is done with the variable name followed by an equal sign and the string:\r\n",
        "\r\n",
        "**Example**"
      ]
    },
    {
      "cell_type": "code",
      "metadata": {
        "colab": {
          "base_uri": "https://localhost:8080/"
        },
        "id": "5e07CWJBRsAI",
        "outputId": "810e3a9f-043c-427c-a3af-a97e224bacee"
      },
      "source": [
        "a = \"Hello\"\r\n",
        "print(a)"
      ],
      "execution_count": null,
      "outputs": [
        {
          "output_type": "stream",
          "text": [
            "Hello\n"
          ],
          "name": "stdout"
        }
      ]
    },
    {
      "cell_type": "markdown",
      "metadata": {
        "id": "didSFfiVRvq6"
      },
      "source": [
        "**ii) Multiline Strings**\r\n",
        "\r\n",
        "You can assign a multiline string to a variable by using three quotes:\r\n",
        "\r\n",
        "**Example**\r\n",
        "\r\n",
        "You can use three double quotes:"
      ]
    },
    {
      "cell_type": "code",
      "metadata": {
        "colab": {
          "base_uri": "https://localhost:8080/"
        },
        "id": "ix5-I9BsR3Bo",
        "outputId": "b22e2821-8acc-4efb-ec85-23fa526d53ef"
      },
      "source": [
        "a = \"\"\"hii  this is fds practical,\r\n",
        "type of Strings in Python,\r\n",
        "is Multiline Strings.\"\"\"\r\n",
        "print(a)"
      ],
      "execution_count": null,
      "outputs": [
        {
          "output_type": "stream",
          "text": [
            "hii  this is fds practical,\n",
            "type of Strings in Python,\n",
            "is Multiline Strings.\n"
          ],
          "name": "stdout"
        }
      ]
    },
    {
      "cell_type": "markdown",
      "metadata": {
        "id": "ad8SxQSZSjR0"
      },
      "source": [
        "Or three single quotes:\r\n",
        "\r\n",
        "**Example**"
      ]
    },
    {
      "cell_type": "code",
      "metadata": {
        "colab": {
          "base_uri": "https://localhost:8080/"
        },
        "id": "oS2nRG3tSpRP",
        "outputId": "6bba31f5-2e52-4dca-f272-7bf3da7a1e48"
      },
      "source": [
        "a = '''hii  this is fds practical,\r\n",
        "type of Strings in Python,\r\n",
        "is Multiline Strings.'''\r\n",
        "print(a)"
      ],
      "execution_count": null,
      "outputs": [
        {
          "output_type": "stream",
          "text": [
            "hii  this is fds practical,\n",
            "type of Strings in Python,\n",
            "is Multiline Strings.\n"
          ],
          "name": "stdout"
        }
      ]
    },
    {
      "cell_type": "markdown",
      "metadata": {
        "id": "6IyEuAjdS593"
      },
      "source": [
        "**iii) Strings are Arrays**\r\n",
        "\r\n",
        "Like many other popular programming languages, strings in Python are arrays of bytes representing unicode characters.\r\n",
        "\r\n",
        "\r\n",
        "However, Python does not have a character data type, a single character is simply a string with a length of 1.\r\n",
        "\r\n",
        "Square brackets can be used to access elements of the string.\r\n",
        "\r\n",
        "\r\n",
        "**Example**\r\n",
        "\r\n",
        "Get the character at position 1 (remember that the first character has the position 0):"
      ]
    },
    {
      "cell_type": "code",
      "metadata": {
        "colab": {
          "base_uri": "https://localhost:8080/"
        },
        "id": "M0nTS6K_TA5v",
        "outputId": "69b3fa00-9d0a-492b-a4b2-02346d3d9478"
      },
      "source": [
        "a = \"Hello, World!\"\r\n",
        "print(a[1])"
      ],
      "execution_count": null,
      "outputs": [
        {
          "output_type": "stream",
          "text": [
            "e\n"
          ],
          "name": "stdout"
        }
      ]
    },
    {
      "cell_type": "markdown",
      "metadata": {
        "id": "C5skG13FTFHS"
      },
      "source": [
        "**iv) Looping Through a String**\r\n",
        "\r\n",
        "Since strings are arrays, we can loop through the characters in a string, with a for loop.\r\n",
        "\r\n",
        "**Example**\r\n",
        "\r\n",
        "Loop through the letters in the word \"banana\":"
      ]
    },
    {
      "cell_type": "code",
      "metadata": {
        "colab": {
          "base_uri": "https://localhost:8080/"
        },
        "id": "5IaQUzGNTRLA",
        "outputId": "5b1bf373-fd16-45da-bdda-013907e00877"
      },
      "source": [
        "for x in \"banana\":\r\n",
        "  print(x)"
      ],
      "execution_count": null,
      "outputs": [
        {
          "output_type": "stream",
          "text": [
            "b\n",
            "a\n",
            "n\n",
            "a\n",
            "n\n",
            "a\n"
          ],
          "name": "stdout"
        }
      ]
    },
    {
      "cell_type": "markdown",
      "metadata": {
        "id": "DOPaoNCcTbTO"
      },
      "source": [
        "**v) String Length**\r\n",
        "\r\n",
        "To get the length of a string, use the **len()**function.\r\n",
        "\r\n",
        "**Example**\r\n",
        "\r\n",
        "The **len()**function returns the length of a string:"
      ]
    },
    {
      "cell_type": "code",
      "metadata": {
        "colab": {
          "base_uri": "https://localhost:8080/"
        },
        "id": "oJiyM2y8TnYJ",
        "outputId": "8ecf5d1d-fa04-4256-9c1b-f77b0dc60ce8"
      },
      "source": [
        "a = \"Hello, World!\"\r\n",
        "print(len(a))"
      ],
      "execution_count": null,
      "outputs": [
        {
          "output_type": "stream",
          "text": [
            "13\n"
          ],
          "name": "stdout"
        }
      ]
    },
    {
      "cell_type": "markdown",
      "metadata": {
        "id": "Pd736ujfTtYM"
      },
      "source": [
        "**vi) Check String**\r\n",
        "\r\n",
        "To check if a certain phrase or character is present in a string, we can use the keyword in.\r\n",
        "\r\n",
        "**Example**\r\n",
        "\r\n",
        "Check if \"free\" is present in the following text:"
      ]
    },
    {
      "cell_type": "code",
      "metadata": {
        "colab": {
          "base_uri": "https://localhost:8080/"
        },
        "id": "wP40gwFcT0BB",
        "outputId": "48b579bc-fb01-4eaa-819a-ae4839c95df0"
      },
      "source": [
        "txt = \"The best things in life are free!\"\r\n",
        "print(\"free\" in txt)\r\n"
      ],
      "execution_count": null,
      "outputs": [
        {
          "output_type": "stream",
          "text": [
            "True\n"
          ],
          "name": "stdout"
        }
      ]
    },
    {
      "cell_type": "markdown",
      "metadata": {
        "id": "xcBzEtvTUG18"
      },
      "source": [
        "**12) Python - Slicing Strings**\r\n",
        "\r\n",
        "**Slicing**\r\n",
        "\r\n",
        "You can return a range of characters by using the slice syntax.\r\n",
        "\r\n",
        "Specify the start index and the end index, separated by a colon, to return a part of the string.\r\n",
        "\r\n",
        "**Example**\r\n",
        "\r\n",
        "Get the characters from position 2 to position 5 (not included):"
      ]
    },
    {
      "cell_type": "code",
      "metadata": {
        "colab": {
          "base_uri": "https://localhost:8080/"
        },
        "id": "7ttZaOdwUYqL",
        "outputId": "340c1e7a-b7ad-4d29-ce54-915e45ca3695"
      },
      "source": [
        "b = \"Hello, World!\"\r\n",
        "print(b[2:5])"
      ],
      "execution_count": null,
      "outputs": [
        {
          "output_type": "stream",
          "text": [
            "llo\n"
          ],
          "name": "stdout"
        }
      ]
    },
    {
      "cell_type": "markdown",
      "metadata": {
        "id": "40hsoCaBUe1y"
      },
      "source": [
        "Note: The first character has index 0.\r\n",
        "\r\n",
        "**i) Slice From the Start**\r\n",
        "\r\n",
        "By leaving out the start index, the range will start at the first character:\r\n",
        "\r\n",
        "\r\n",
        "**Example**\r\n",
        "\r\n",
        "Get the characters from the start to position 5 (not included):"
      ]
    },
    {
      "cell_type": "code",
      "metadata": {
        "colab": {
          "base_uri": "https://localhost:8080/"
        },
        "id": "pFSTvInPUv6G",
        "outputId": "0852d3bd-7070-4fa3-e9f3-8897f7b36b83"
      },
      "source": [
        "b = \"Hello, World!\"\r\n",
        "print(b[:5])"
      ],
      "execution_count": null,
      "outputs": [
        {
          "output_type": "stream",
          "text": [
            "Hello\n"
          ],
          "name": "stdout"
        }
      ]
    },
    {
      "cell_type": "markdown",
      "metadata": {
        "id": "aLLrrzGxU19b"
      },
      "source": [
        "**ii) Slice To the End**\r\n",
        "\r\n",
        "By leaving out the end index, the range will go to the end:\r\n",
        "\r\n",
        "**Example**\r\n",
        "\r\n",
        "Get the characters from position 2, and all the way to the end:"
      ]
    },
    {
      "cell_type": "code",
      "metadata": {
        "colab": {
          "base_uri": "https://localhost:8080/"
        },
        "id": "ss5J8ARWU95U",
        "outputId": "d0565c88-c04d-4ff6-a46f-058c761f286a"
      },
      "source": [
        "b = \"Hello, World!\"\r\n",
        "print(b[2:])"
      ],
      "execution_count": null,
      "outputs": [
        {
          "output_type": "stream",
          "text": [
            "llo, World!\n"
          ],
          "name": "stdout"
        }
      ]
    },
    {
      "cell_type": "markdown",
      "metadata": {
        "id": "Ym_g867UVBe0"
      },
      "source": [
        "**iii) Negative Indexing**\r\n",
        "\r\n",
        "Use negative indexes to start the slice from the end of the string:\r\n",
        "\r\n",
        "**Example**\r\n",
        "\r\n",
        "Get the characters:\r\n",
        "\r\n",
        "From: \"o\" in \"World!\" (position -5)\r\n",
        "\r\n",
        "To, but not included: \"d\" in \"World!\" (position -2):"
      ]
    },
    {
      "cell_type": "code",
      "metadata": {
        "colab": {
          "base_uri": "https://localhost:8080/"
        },
        "id": "VTx28U59VIr2",
        "outputId": "e9a664c3-abed-47c1-df58-cb9163344063"
      },
      "source": [
        "b = \"Hello, World!\"\r\n",
        "print(b[-5:-2])"
      ],
      "execution_count": null,
      "outputs": [
        {
          "output_type": "stream",
          "text": [
            "orl\n"
          ],
          "name": "stdout"
        }
      ]
    },
    {
      "cell_type": "markdown",
      "metadata": {
        "id": "JxEf4chlVNOZ"
      },
      "source": [
        "**13) Python - Modify Strings**"
      ]
    },
    {
      "cell_type": "markdown",
      "metadata": {
        "id": "3a-vxCZKVSdk"
      },
      "source": [
        "Python has a set of built-in methods that you can use on strings.\r\n",
        "\r\n",
        "\r\n",
        "**i) Upper Case**\r\n",
        "\r\n",
        "**Example**\r\n",
        "\r\n",
        "The **upper()** method returns the string in upper case:"
      ]
    },
    {
      "cell_type": "code",
      "metadata": {
        "colab": {
          "base_uri": "https://localhost:8080/"
        },
        "id": "t6-3WxK9VcDC",
        "outputId": "affebf71-5870-4864-e66f-62fdb025d3df"
      },
      "source": [
        "a = \"Hello, World!\"\r\n",
        "print(a.upper())\r\n"
      ],
      "execution_count": null,
      "outputs": [
        {
          "output_type": "stream",
          "text": [
            "HELLO, WORLD!\n"
          ],
          "name": "stdout"
        }
      ]
    },
    {
      "cell_type": "markdown",
      "metadata": {
        "id": "fG3QMXfbVi7H"
      },
      "source": [
        "**ii) Lower Case**\r\n",
        "\r\n",
        "**Example**\r\n",
        "\r\n",
        "The **lower()** method returns the string in lower case:"
      ]
    },
    {
      "cell_type": "code",
      "metadata": {
        "colab": {
          "base_uri": "https://localhost:8080/"
        },
        "id": "1KD7kHmIVq2P",
        "outputId": "4d7af875-3f54-4c2b-f80d-f16921fd6c31"
      },
      "source": [
        "a = \"Hello, World!\"\r\n",
        "print(a.lower())"
      ],
      "execution_count": null,
      "outputs": [
        {
          "output_type": "stream",
          "text": [
            "hello, world!\n"
          ],
          "name": "stdout"
        }
      ]
    },
    {
      "cell_type": "markdown",
      "metadata": {
        "id": "Ai6y8EO5Vu2R"
      },
      "source": [
        "**iii) Remove Whitespace**\r\n",
        "\r\n",
        "Whitespace is the space before and/or after the actual text, and very often you want to remove this space.\r\n",
        "\r\n",
        "**Example**\r\n",
        "\r\n",
        "The **strip()** method removes any whitespace from the beginning or the end:"
      ]
    },
    {
      "cell_type": "code",
      "metadata": {
        "colab": {
          "base_uri": "https://localhost:8080/"
        },
        "id": "yemyeGE5V6zt",
        "outputId": "5764a8d9-5e64-4186-e257-d2f5daf6a7d2"
      },
      "source": [
        "a = \" Hello, World! \"\r\n",
        "print(a.strip()) # returns \"Hello, World!\""
      ],
      "execution_count": null,
      "outputs": [
        {
          "output_type": "stream",
          "text": [
            "Hello, World!\n"
          ],
          "name": "stdout"
        }
      ]
    },
    {
      "cell_type": "markdown",
      "metadata": {
        "id": "5ON8Z6aCWHcG"
      },
      "source": [
        "**iv) Replace String**\r\n",
        "\r\n",
        "**Example**\r\n",
        "\r\n",
        "The **replace()** method replaces a string with another string:"
      ]
    },
    {
      "cell_type": "code",
      "metadata": {
        "colab": {
          "base_uri": "https://localhost:8080/"
        },
        "id": "GybMA0ZvWOWI",
        "outputId": "671718e0-7065-4fcd-dbe5-cda740ed9058"
      },
      "source": [
        "a = \"Hello, World!\"\r\n",
        "print(a.replace(\"H\", \"J\"))"
      ],
      "execution_count": null,
      "outputs": [
        {
          "output_type": "stream",
          "text": [
            "Jello, World!\n"
          ],
          "name": "stdout"
        }
      ]
    },
    {
      "cell_type": "markdown",
      "metadata": {
        "id": "O6pNl8bZWa-E"
      },
      "source": [
        "**v) Split String**\r\n",
        "\r\n",
        "The **split()** method returns a list where the text between the specified separator becomes the list items.\r\n",
        "\r\n",
        "**Example**\r\n",
        "\r\n",
        "The **split()** method splits the string into substrings if it finds instances of the separator:"
      ]
    },
    {
      "cell_type": "code",
      "metadata": {
        "colab": {
          "base_uri": "https://localhost:8080/"
        },
        "id": "BQKXM6JaWjfU",
        "outputId": "02c80c04-82fd-4c1a-fdbf-6d5c00d70bc5"
      },
      "source": [
        "a = \"Hello, World!\"\r\n",
        "print(a.split(\",\")) # returns ['Hello', ' World!']"
      ],
      "execution_count": null,
      "outputs": [
        {
          "output_type": "stream",
          "text": [
            "['Hello', ' World!']\n"
          ],
          "name": "stdout"
        }
      ]
    },
    {
      "cell_type": "markdown",
      "metadata": {
        "id": "kXCETEE_WpWm"
      },
      "source": [
        "**14) Python - String Concatenation**"
      ]
    },
    {
      "cell_type": "markdown",
      "metadata": {
        "id": "-4ja8XUvWyfO"
      },
      "source": [
        "**String Concatenation**\r\n",
        "\r\n",
        "To concatenate, or combine, two strings you can use the + operator.\r\n",
        "\r\n",
        "\r\n",
        "**Example**\r\n",
        "\r\n",
        "Merge variable **a** with variable **b** into variable **c**:"
      ]
    },
    {
      "cell_type": "code",
      "metadata": {
        "colab": {
          "base_uri": "https://localhost:8080/"
        },
        "id": "xLFmgzOcW9Hp",
        "outputId": "dc2bce2a-1cb6-40e2-9caf-b2b809ee30b1"
      },
      "source": [
        "a = \"Hello\"\r\n",
        "b = \"World\"\r\n",
        "c = a + b\r\n",
        "print(c)"
      ],
      "execution_count": null,
      "outputs": [
        {
          "output_type": "stream",
          "text": [
            "HelloWorld\n"
          ],
          "name": "stdout"
        }
      ]
    },
    {
      "cell_type": "markdown",
      "metadata": {
        "id": "umQBKhkTXAnO"
      },
      "source": [
        "**Example**\r\n",
        "\r\n",
        "To add a space between them, add a **\" \"** :"
      ]
    },
    {
      "cell_type": "code",
      "metadata": {
        "colab": {
          "base_uri": "https://localhost:8080/"
        },
        "id": "d9uelW_5XHRK",
        "outputId": "d5c677ca-8914-43ec-8999-a8322371746c"
      },
      "source": [
        "a = \"Hello\"\r\n",
        "b = \"World\"\r\n",
        "c = a + \" \" + b\r\n",
        "print(c)"
      ],
      "execution_count": null,
      "outputs": [
        {
          "output_type": "stream",
          "text": [
            "Hello World\n"
          ],
          "name": "stdout"
        }
      ]
    },
    {
      "cell_type": "markdown",
      "metadata": {
        "id": "k3t75pYqXY1i"
      },
      "source": [
        "**15) Python - Format - Strings**"
      ]
    },
    {
      "cell_type": "markdown",
      "metadata": {
        "id": "WiEkx7qrXiSa"
      },
      "source": [
        "**Example**\r\n",
        "\r\n",
        "i) Use the **format()** method to insert numbers into strings:"
      ]
    },
    {
      "cell_type": "code",
      "metadata": {
        "colab": {
          "base_uri": "https://localhost:8080/"
        },
        "id": "_RvQ2oB0Xp5B",
        "outputId": "0f18f3b7-ad61-4af7-851e-72547d0919be"
      },
      "source": [
        "age = 36\r\n",
        "txt = \"My name is John, and I am {}\"\r\n",
        "print(txt.format(age))"
      ],
      "execution_count": null,
      "outputs": [
        {
          "output_type": "stream",
          "text": [
            "My name is John, and I am 36\n"
          ],
          "name": "stdout"
        }
      ]
    },
    {
      "cell_type": "markdown",
      "metadata": {
        "id": "Yj_eXAWvXu-p"
      },
      "source": [
        "ii) The format() method takes unlimited number of arguments, and are placed into the respective placeholders:\r\n",
        "\r\n",
        "**Example**"
      ]
    },
    {
      "cell_type": "code",
      "metadata": {
        "colab": {
          "base_uri": "https://localhost:8080/"
        },
        "id": "0Z2U5gsJXzrN",
        "outputId": "2f7bbbce-530b-4e17-8070-4c62368a90c0"
      },
      "source": [
        "quantity = 3\r\n",
        "itemno = 567\r\n",
        "price = 49.95\r\n",
        "myorder = \"I want {} pieces of item {} for {} dollars.\"\r\n",
        "print(myorder.format(quantity, itemno, price))\r\n"
      ],
      "execution_count": null,
      "outputs": [
        {
          "output_type": "stream",
          "text": [
            "I want 3 pieces of item 567 for 49.95 dollars.\n"
          ],
          "name": "stdout"
        }
      ]
    },
    {
      "cell_type": "markdown",
      "metadata": {
        "id": "aYDBDyMTX7-6"
      },
      "source": [
        "iii) You can use index numbers {0} to be sure the arguments are placed in the correct placeholders:\r\n",
        "\r\n",
        "**Example**"
      ]
    },
    {
      "cell_type": "code",
      "metadata": {
        "colab": {
          "base_uri": "https://localhost:8080/"
        },
        "id": "8PFu51c9YCi7",
        "outputId": "3466543a-58ff-4f7a-a99f-ea2c5a196bbe"
      },
      "source": [
        "quantity = 3\r\n",
        "itemno = 567\r\n",
        "price = 49.95\r\n",
        "myorder = \"I want to pay {2} dollars for {0} pieces of item {1}.\"\r\n",
        "print(myorder.format(quantity, itemno, price))"
      ],
      "execution_count": null,
      "outputs": [
        {
          "output_type": "stream",
          "text": [
            "I want to pay 49.95 dollars for 3 pieces of item 567.\n"
          ],
          "name": "stdout"
        }
      ]
    },
    {
      "cell_type": "markdown",
      "metadata": {
        "id": "vTastvfeYGBD"
      },
      "source": [
        "**16) Python - Escape Characters**"
      ]
    },
    {
      "cell_type": "markdown",
      "metadata": {
        "id": "0SQaODs9YhNm"
      },
      "source": [
        "**Example**\r\n",
        "\r\n",
        "The escape character allows you to use double quotes when you normally would not be allowed:"
      ]
    },
    {
      "cell_type": "code",
      "metadata": {
        "colab": {
          "base_uri": "https://localhost:8080/"
        },
        "id": "C5ok-uDDYpMK",
        "outputId": "b33bb048-7613-457e-c7b3-57bbc665c979"
      },
      "source": [
        "txt = \"We are the so-called \\\"Vikings\\\" from the north.\"\r\n",
        "print(txt) "
      ],
      "execution_count": null,
      "outputs": [
        {
          "output_type": "stream",
          "text": [
            "We are the so-called \"Vikings\" from the north.\n"
          ],
          "name": "stdout"
        }
      ]
    },
    {
      "cell_type": "markdown",
      "metadata": {
        "id": "yHOhwTUmYyah"
      },
      "source": [
        "**Escape Characters**\r\n",
        "\r\n",
        "Other escape characters used in Python:\r\n",
        "\r\n",
        "**i) Using Single Quote**"
      ]
    },
    {
      "cell_type": "code",
      "metadata": {
        "colab": {
          "base_uri": "https://localhost:8080/"
        },
        "id": "U99pZGygZIH2",
        "outputId": "7ad82e6e-0e46-4227-8eae-47cc8694a607"
      },
      "source": [
        "txt = 'It\\'s alright.'\r\n",
        "print(txt) \r\n"
      ],
      "execution_count": null,
      "outputs": [
        {
          "output_type": "stream",
          "text": [
            "It's alright.\n"
          ],
          "name": "stdout"
        }
      ]
    },
    {
      "cell_type": "markdown",
      "metadata": {
        "id": "UDSlvpCmZLfa"
      },
      "source": [
        "**ii) Using Backslash**"
      ]
    },
    {
      "cell_type": "code",
      "metadata": {
        "colab": {
          "base_uri": "https://localhost:8080/"
        },
        "id": "wHKPRhZSZUGT",
        "outputId": "749a3289-bf2f-4b7c-aa76-463c0c72ea84"
      },
      "source": [
        "txt = \"This will insert one \\\\ (backslash).\"\r\n",
        "print(txt) \r\n"
      ],
      "execution_count": null,
      "outputs": [
        {
          "output_type": "stream",
          "text": [
            "This will insert one \\ (backslash).\n"
          ],
          "name": "stdout"
        }
      ]
    },
    {
      "cell_type": "markdown",
      "metadata": {
        "id": "pIvgPKWlZVmF"
      },
      "source": [
        "**iii) Using New Line**"
      ]
    },
    {
      "cell_type": "code",
      "metadata": {
        "colab": {
          "base_uri": "https://localhost:8080/"
        },
        "id": "JA3MMtbXZbGH",
        "outputId": "81a1bd2b-148c-46c0-fa3c-41f16d9168ff"
      },
      "source": [
        "txt = \"Hello\\nWorld!\"\r\n",
        "print(txt) "
      ],
      "execution_count": null,
      "outputs": [
        {
          "output_type": "stream",
          "text": [
            "Hello\n",
            "World!\n"
          ],
          "name": "stdout"
        }
      ]
    },
    {
      "cell_type": "markdown",
      "metadata": {
        "id": "IB4SqFMYZfSS"
      },
      "source": [
        "**iv) Using Carriage Return**"
      ]
    },
    {
      "cell_type": "code",
      "metadata": {
        "colab": {
          "base_uri": "https://localhost:8080/"
        },
        "id": "a_hxhqslZjl2",
        "outputId": "0f4ee751-ba88-4ef9-b9a7-3e83ce9ae5d3"
      },
      "source": [
        "txt = \"Hello\\nWorld!\"\r\n",
        "print(txt) "
      ],
      "execution_count": null,
      "outputs": [
        {
          "output_type": "stream",
          "text": [
            "Hello\n",
            "World!\n"
          ],
          "name": "stdout"
        }
      ]
    },
    {
      "cell_type": "markdown",
      "metadata": {
        "id": "M7pmMmDJZnRy"
      },
      "source": [
        "**v) Using Tab**"
      ]
    },
    {
      "cell_type": "code",
      "metadata": {
        "colab": {
          "base_uri": "https://localhost:8080/"
        },
        "id": "xMhsyNf6Zs16",
        "outputId": "993d3875-0fef-4149-a634-ac3d424c8ab6"
      },
      "source": [
        "txt = \"Hello\\tWorld!\"\r\n",
        "print(txt) "
      ],
      "execution_count": null,
      "outputs": [
        {
          "output_type": "stream",
          "text": [
            "Hello\tWorld!\n"
          ],
          "name": "stdout"
        }
      ]
    },
    {
      "cell_type": "markdown",
      "metadata": {
        "id": "SlpzK1gzZwdS"
      },
      "source": [
        "**vi) Using Backspace**"
      ]
    },
    {
      "cell_type": "code",
      "metadata": {
        "colab": {
          "base_uri": "https://localhost:8080/"
        },
        "id": "xEgbjg3lZ4ys",
        "outputId": "cc753644-1ebe-4509-f4bf-545d284eacae"
      },
      "source": [
        "#This example erases one character (backspace):\r\n",
        "txt = \"Hello \\bWorld!\"\r\n",
        "print(txt) \r\n"
      ],
      "execution_count": null,
      "outputs": [
        {
          "output_type": "stream",
          "text": [
            "Hello \bWorld!\n"
          ],
          "name": "stdout"
        }
      ]
    },
    {
      "cell_type": "markdown",
      "metadata": {
        "id": "bIKQZTc5aAt6"
      },
      "source": [
        "**vii) Using Octal value**"
      ]
    },
    {
      "cell_type": "code",
      "metadata": {
        "colab": {
          "base_uri": "https://localhost:8080/"
        },
        "id": "55FTDqRAaGYt",
        "outputId": "cff7633b-ca8b-478d-db72-e384f0d4c2ea"
      },
      "source": [
        "#A backslash followed by three integers will result in a octal value:\r\n",
        "txt = \"\\110\\145\\154\\154\\157\"\r\n",
        "print(txt) \r\n"
      ],
      "execution_count": null,
      "outputs": [
        {
          "output_type": "stream",
          "text": [
            "Hello\n"
          ],
          "name": "stdout"
        }
      ]
    },
    {
      "cell_type": "markdown",
      "metadata": {
        "id": "eRfu2C-JaMMM"
      },
      "source": [
        "**viii) Using Hex value**"
      ]
    },
    {
      "cell_type": "code",
      "metadata": {
        "colab": {
          "base_uri": "https://localhost:8080/"
        },
        "id": "SwQInMo0aRSB",
        "outputId": "0144f6f1-e161-478e-821d-fed368a4a79d"
      },
      "source": [
        "#A backslash followed by an 'x' and a hex number represents a hex value:\r\n",
        "txt = \"\\x48\\x65\\x6c\\x6c\\x6f\"\r\n",
        "print(txt) "
      ],
      "execution_count": null,
      "outputs": [
        {
          "output_type": "stream",
          "text": [
            "Hello\n"
          ],
          "name": "stdout"
        }
      ]
    },
    {
      "cell_type": "markdown",
      "metadata": {
        "id": "HqEot88JaWLU"
      },
      "source": [
        "**17) Python Booleans**"
      ]
    },
    {
      "cell_type": "markdown",
      "metadata": {
        "id": "YDsdwcDHanQS"
      },
      "source": [
        "Booleans represent one of two values: **True** or **False**.\r\n",
        "\r\n"
      ]
    },
    {
      "cell_type": "markdown",
      "metadata": {
        "id": "fTfZyZKrbChg"
      },
      "source": [
        "**i) Boolean Values**\r\n",
        "\r\n",
        "In programming you often need to know if an expression is **True** or **False**.\r\n",
        "\r\n",
        "You can evaluate any expression in Python, and get one of two answers, **True** or **False**.\r\n",
        "\r\n",
        "When you compare two values, the expression is evaluated and Python returns the Boolean answer:\r\n",
        "\r\n",
        "**Example**"
      ]
    },
    {
      "cell_type": "code",
      "metadata": {
        "colab": {
          "base_uri": "https://localhost:8080/"
        },
        "id": "X3K0Xw5GbN-G",
        "outputId": "8efac7c6-46b0-461d-bdb8-1d95e968c929"
      },
      "source": [
        "print(10 > 9)\r\n",
        "print(10 == 9)\r\n",
        "print(10 < 9)"
      ],
      "execution_count": null,
      "outputs": [
        {
          "output_type": "stream",
          "text": [
            "True\n",
            "False\n",
            "False\n"
          ],
          "name": "stdout"
        }
      ]
    },
    {
      "cell_type": "markdown",
      "metadata": {
        "id": "zYq-nsVxbRkZ"
      },
      "source": [
        "**Example**\r\n",
        "\r\n",
        "Print a message based on whether the condition is True or False:"
      ]
    },
    {
      "cell_type": "code",
      "metadata": {
        "colab": {
          "base_uri": "https://localhost:8080/"
        },
        "id": "7rnBAl85bYJo",
        "outputId": "d923d4cc-85c9-471e-948d-aee980d4451c"
      },
      "source": [
        "a = 200\r\n",
        "b = 33\r\n",
        "\r\n",
        "if b > a:\r\n",
        "  print(\"b is greater than a\")\r\n",
        "else:\r\n",
        "  print(\"b is not greater than a\")"
      ],
      "execution_count": null,
      "outputs": [
        {
          "output_type": "stream",
          "text": [
            "b is not greater than a\n"
          ],
          "name": "stdout"
        }
      ]
    },
    {
      "cell_type": "markdown",
      "metadata": {
        "id": "KwUWUTVXbcUa"
      },
      "source": [
        "**ii) Evaluate Values and Variables**\r\n",
        "\r\n",
        "The **bool()** function allows you to evaluate any value, and give you True or False in return,\r\n",
        "\r\n",
        "**Example**\r\n",
        "\r\n",
        "Evaluate a string and a number:"
      ]
    },
    {
      "cell_type": "code",
      "metadata": {
        "colab": {
          "base_uri": "https://localhost:8080/"
        },
        "id": "lv_Rf4K-bn-y",
        "outputId": "3ba43cd1-b5d3-4e83-bf31-665028a0113d"
      },
      "source": [
        "print(bool(\"Hello\"))\r\n",
        "print(bool(15))"
      ],
      "execution_count": null,
      "outputs": [
        {
          "output_type": "stream",
          "text": [
            "True\n",
            "True\n"
          ],
          "name": "stdout"
        }
      ]
    },
    {
      "cell_type": "markdown",
      "metadata": {
        "id": "w0_VgBplbr27"
      },
      "source": [
        "**iii) Most Values are True**\r\n",
        "\r\n",
        "Almost any value is evaluated to True if it has some sort of content.\r\n",
        "\r\n",
        "Any string is **True**, except empty strings.\r\n",
        "\r\n",
        "Any number is **True**, except 0.\r\n",
        "\r\n",
        "Any list, tuple, set, and dictionary are **True**, except empty ones.\r\n",
        "\r\n",
        "**Example**\r\n",
        "\r\n",
        "The following will return True:"
      ]
    },
    {
      "cell_type": "code",
      "metadata": {
        "colab": {
          "base_uri": "https://localhost:8080/"
        },
        "id": "Fkp67Zlyb4VT",
        "outputId": "0a24c15f-390b-4e06-a198-f0555516daea"
      },
      "source": [
        "bool(\"abc\")\r\n",
        "bool(123)\r\n",
        "bool([\"apple\", \"cherry\", \"banana\"])\r\n",
        "print(bool(\"abc\"))\r\n",
        "print(bool(123))\r\n",
        "print(bool([\"apple\", \"cherry\", \"banana\"]))"
      ],
      "execution_count": null,
      "outputs": [
        {
          "output_type": "stream",
          "text": [
            "True\n",
            "True\n",
            "True\n"
          ],
          "name": "stdout"
        }
      ]
    },
    {
      "cell_type": "markdown",
      "metadata": {
        "id": "el0F51w7b9GN"
      },
      "source": [
        "**iv) Some Values are False**\r\n",
        "\r\n",
        "In fact, there are not many values that evaluate to **False**, except empty values, such as **()**, **[]**, **{}**, \"\", the number 0, and the value None. And of course the value False evaluates to False.\r\n",
        "\r\n",
        "**Example**\r\n",
        "\r\n",
        "The following will return False:"
      ]
    },
    {
      "cell_type": "code",
      "metadata": {
        "colab": {
          "base_uri": "https://localhost:8080/"
        },
        "id": "58vM38S4cESO",
        "outputId": "19f0e711-77b5-4945-b0f2-8bdfd439d42e"
      },
      "source": [
        "bool(False)\r\n",
        "bool(None)\r\n",
        "bool(0)\r\n",
        "bool(\"\")\r\n",
        "bool(())\r\n",
        "bool([])\r\n",
        "bool({})\r\n",
        "print(bool(False))\r\n",
        "print(bool(None))\r\n",
        "print(bool(0))\r\n",
        "print(bool(\"\"))\r\n",
        "print(bool(()))\r\n",
        "print(bool([]))\r\n",
        "print(bool({}))"
      ],
      "execution_count": null,
      "outputs": [
        {
          "output_type": "stream",
          "text": [
            "False\n",
            "False\n",
            "False\n",
            "False\n",
            "False\n",
            "False\n",
            "False\n"
          ],
          "name": "stdout"
        }
      ]
    },
    {
      "cell_type": "markdown",
      "metadata": {
        "id": "_icDPkfWcNOt"
      },
      "source": [
        "**v) Functions can Return a Boolean**\r\n",
        "\r\n",
        "You can create functions that returns a Boolean Value:\r\n",
        "\r\n",
        "**Example**\r\n",
        "\r\n",
        "Print the answer of a function:"
      ]
    },
    {
      "cell_type": "code",
      "metadata": {
        "colab": {
          "base_uri": "https://localhost:8080/"
        },
        "id": "gI0kQl-JckRA",
        "outputId": "142b1fc9-e312-46cc-c9ab-6e123c9ef403"
      },
      "source": [
        "def myFunction() :\r\n",
        "  return True\r\n",
        "\r\n",
        "print(myFunction())"
      ],
      "execution_count": null,
      "outputs": [
        {
          "output_type": "stream",
          "text": [
            "True\n"
          ],
          "name": "stdout"
        }
      ]
    },
    {
      "cell_type": "markdown",
      "metadata": {
        "id": "SyPTDoOHcoyq"
      },
      "source": [
        "**18) Python Operators**"
      ]
    },
    {
      "cell_type": "markdown",
      "metadata": {
        "id": "5awuUI0Ic5u5"
      },
      "source": [
        "**Python Operators**\r\n",
        "\r\n",
        "Operators are used to perform operations on variables and values.\r\n",
        "\r\n",
        "In the example below, we use the + operator to add together two values:\r\n",
        "\r\n",
        "**Example**\r\n"
      ]
    },
    {
      "cell_type": "code",
      "metadata": {
        "colab": {
          "base_uri": "https://localhost:8080/"
        },
        "id": "OxqMauh_dAV6",
        "outputId": "7ddc9fbd-1fa2-46e6-e3a3-5d83f93f443a"
      },
      "source": [
        "print(10 + 5)"
      ],
      "execution_count": null,
      "outputs": [
        {
          "output_type": "stream",
          "text": [
            "15\n"
          ],
          "name": "stdout"
        }
      ]
    },
    {
      "cell_type": "markdown",
      "metadata": {
        "id": "WjxHcyYPdEIj"
      },
      "source": [
        "**Python Arithmetic Operators**\r\n",
        "\r\n",
        "Arithmetic operators are used with numeric values to perform common mathematical operations:"
      ]
    },
    {
      "cell_type": "markdown",
      "metadata": {
        "id": "UqNUv59ZdQDH"
      },
      "source": [
        "**i) Using Addition**"
      ]
    },
    {
      "cell_type": "code",
      "metadata": {
        "colab": {
          "base_uri": "https://localhost:8080/"
        },
        "id": "NxxDNyKPdWsJ",
        "outputId": "af575b50-e3b8-4dab-aabf-e049fecab21e"
      },
      "source": [
        "x = 5\r\n",
        "y = 3\r\n",
        "\r\n",
        "print(x + y)"
      ],
      "execution_count": null,
      "outputs": [
        {
          "output_type": "stream",
          "text": [
            "8\n"
          ],
          "name": "stdout"
        }
      ]
    },
    {
      "cell_type": "markdown",
      "metadata": {
        "id": "LMhiN1lydamh"
      },
      "source": [
        "**ii) Using Subtraction**"
      ]
    },
    {
      "cell_type": "code",
      "metadata": {
        "colab": {
          "base_uri": "https://localhost:8080/"
        },
        "id": "iaq_wxE4dlw5",
        "outputId": "0ac38aa6-903d-4722-e152-a7b09a50a20e"
      },
      "source": [
        "x = 5\r\n",
        "y = 3\r\n",
        "\r\n",
        "print(x - y)\r\n"
      ],
      "execution_count": null,
      "outputs": [
        {
          "output_type": "stream",
          "text": [
            "2\n"
          ],
          "name": "stdout"
        }
      ]
    },
    {
      "cell_type": "markdown",
      "metadata": {
        "id": "QkWTcREhdpvo"
      },
      "source": [
        "**iii) Using Multiplication**"
      ]
    },
    {
      "cell_type": "code",
      "metadata": {
        "colab": {
          "base_uri": "https://localhost:8080/"
        },
        "id": "M48YC9FhdvhV",
        "outputId": "01d30e40-3433-4339-d7f7-f435c88fa25c"
      },
      "source": [
        "x = 5\r\n",
        "y = 3\r\n",
        "\r\n",
        "print(x * y)"
      ],
      "execution_count": null,
      "outputs": [
        {
          "output_type": "stream",
          "text": [
            "15\n"
          ],
          "name": "stdout"
        }
      ]
    },
    {
      "cell_type": "markdown",
      "metadata": {
        "id": "CbtYDE17dzan"
      },
      "source": [
        "**iv) Using Division**"
      ]
    },
    {
      "cell_type": "code",
      "metadata": {
        "colab": {
          "base_uri": "https://localhost:8080/"
        },
        "id": "s2ulXbfVd4Ft",
        "outputId": "e1a2767a-3831-4b0e-e6fd-7a378e15608a"
      },
      "source": [
        "x = 12\r\n",
        "y = 3\r\n",
        "\r\n",
        "print(x / y)"
      ],
      "execution_count": null,
      "outputs": [
        {
          "output_type": "stream",
          "text": [
            "4.0\n"
          ],
          "name": "stdout"
        }
      ]
    },
    {
      "cell_type": "markdown",
      "metadata": {
        "id": "R8UCRVK0d7gZ"
      },
      "source": [
        "**v) Uisng Modulus**"
      ]
    },
    {
      "cell_type": "code",
      "metadata": {
        "colab": {
          "base_uri": "https://localhost:8080/"
        },
        "id": "t0qfM2SueAry",
        "outputId": "0f185e1b-2588-4ebb-c608-173615df293c"
      },
      "source": [
        "x = 5\r\n",
        "y = 2\r\n",
        "\r\n",
        "print(x % y)\r\n"
      ],
      "execution_count": null,
      "outputs": [
        {
          "output_type": "stream",
          "text": [
            "1\n"
          ],
          "name": "stdout"
        }
      ]
    },
    {
      "cell_type": "markdown",
      "metadata": {
        "id": "ZLt66tV_eELA"
      },
      "source": [
        "**vi) Using Exponentiation**"
      ]
    },
    {
      "cell_type": "code",
      "metadata": {
        "colab": {
          "base_uri": "https://localhost:8080/"
        },
        "id": "D19mcTfWeItK",
        "outputId": "f20378d4-2c83-415a-dcb4-39cccbeb4a6a"
      },
      "source": [
        "x = 2\r\n",
        "y = 5\r\n",
        "\r\n",
        "print(x ** y) #same as 2*2*2*2*2\r\n"
      ],
      "execution_count": null,
      "outputs": [
        {
          "output_type": "stream",
          "text": [
            "32\n"
          ],
          "name": "stdout"
        }
      ]
    },
    {
      "cell_type": "markdown",
      "metadata": {
        "id": "nZOFVTzGeMX-"
      },
      "source": [
        "**vii) Using Floor division**"
      ]
    },
    {
      "cell_type": "code",
      "metadata": {
        "colab": {
          "base_uri": "https://localhost:8080/"
        },
        "id": "l8OjiGWTeRPE",
        "outputId": "180a71d0-9c81-44c5-8de1-ca5299d72166"
      },
      "source": [
        "x = 15\r\n",
        "y = 2\r\n",
        "\r\n",
        "print(x // y)\r\n",
        "\r\n",
        "#the floor division // rounds the result down to the nearest whole number\r\n"
      ],
      "execution_count": null,
      "outputs": [
        {
          "output_type": "stream",
          "text": [
            "7\n"
          ],
          "name": "stdout"
        }
      ]
    },
    {
      "cell_type": "markdown",
      "metadata": {
        "id": "vDFgLfKaeYc8"
      },
      "source": [
        "**19) Python Assignment Operators**\r\n",
        "\r\n",
        "Assignment operators are used to assign values to variables:\r\n",
        "\r\n"
      ]
    },
    {
      "cell_type": "markdown",
      "metadata": {
        "id": "M6V7r_3MefRm"
      },
      "source": [
        "**i) Using  =**"
      ]
    },
    {
      "cell_type": "code",
      "metadata": {
        "colab": {
          "base_uri": "https://localhost:8080/"
        },
        "id": "Q2zmfR8aenxa",
        "outputId": "24c07305-0caf-40e4-dc74-0aebaf030991"
      },
      "source": [
        "x = 5\r\n",
        "\r\n",
        "print(x)"
      ],
      "execution_count": null,
      "outputs": [
        {
          "output_type": "stream",
          "text": [
            "5\n"
          ],
          "name": "stdout"
        }
      ]
    },
    {
      "cell_type": "markdown",
      "metadata": {
        "id": "HuOSSvLee4Jb"
      },
      "source": [
        "**ii) Using +=**"
      ]
    },
    {
      "cell_type": "code",
      "metadata": {
        "colab": {
          "base_uri": "https://localhost:8080/"
        },
        "id": "QD-V4uMce9dq",
        "outputId": "a49ccebc-b900-4e5b-fe54-944d23610292"
      },
      "source": [
        "x = 5\r\n",
        "\r\n",
        "x += 3\r\n",
        "\r\n",
        "print(x)"
      ],
      "execution_count": null,
      "outputs": [
        {
          "output_type": "stream",
          "text": [
            "8\n"
          ],
          "name": "stdout"
        }
      ]
    },
    {
      "cell_type": "markdown",
      "metadata": {
        "id": "V8NR3YfjfCUu"
      },
      "source": [
        "**iii) Using -=**"
      ]
    },
    {
      "cell_type": "code",
      "metadata": {
        "colab": {
          "base_uri": "https://localhost:8080/"
        },
        "id": "grOm3dSXfJgT",
        "outputId": "b456a3e5-0eee-43cc-d332-4f250ba283c3"
      },
      "source": [
        "x = 5\r\n",
        "\r\n",
        "x -= 3\r\n",
        "\r\n",
        "print(x)\r\n"
      ],
      "execution_count": null,
      "outputs": [
        {
          "output_type": "stream",
          "text": [
            "2\n"
          ],
          "name": "stdout"
        }
      ]
    },
    {
      "cell_type": "markdown",
      "metadata": {
        "id": "YMWoaHbai_qH"
      },
      "source": [
        "**iv) Using /=**"
      ]
    },
    {
      "cell_type": "code",
      "metadata": {
        "colab": {
          "base_uri": "https://localhost:8080/"
        },
        "id": "vBo3mDeNjFwu",
        "outputId": "f2272c05-53e7-4c14-d2d8-968bb1361b1e"
      },
      "source": [
        "x = 5\r\n",
        "\r\n",
        "x /= 3\r\n",
        "\r\n",
        "print(x)\r\n"
      ],
      "execution_count": null,
      "outputs": [
        {
          "output_type": "stream",
          "text": [
            "1.6666666666666667\n"
          ],
          "name": "stdout"
        }
      ]
    },
    {
      "cell_type": "markdown",
      "metadata": {
        "id": "c07NrIIbjaEd"
      },
      "source": [
        "**20) Python Comparison Operators**\r\n",
        "\r\n",
        "Comparison operators are used to compare two values:"
      ]
    },
    {
      "cell_type": "markdown",
      "metadata": {
        "id": "6mrH8xRljhcC"
      },
      "source": [
        "**i) Using Equal**"
      ]
    },
    {
      "cell_type": "code",
      "metadata": {
        "colab": {
          "base_uri": "https://localhost:8080/"
        },
        "id": "SHI4s4BNjpaX",
        "outputId": "1dd5ca17-3310-4844-c935-1d26aebce1fe"
      },
      "source": [
        "x = 5\r\n",
        "y = 3\r\n",
        "\r\n",
        "print(x == y)\r\n",
        "\r\n",
        "# returns False because 5 is not equal to 3"
      ],
      "execution_count": null,
      "outputs": [
        {
          "output_type": "stream",
          "text": [
            "False\n"
          ],
          "name": "stdout"
        }
      ]
    },
    {
      "cell_type": "markdown",
      "metadata": {
        "id": "xXvXIFeajqrx"
      },
      "source": [
        "**ii) Using Not equal**"
      ]
    },
    {
      "cell_type": "code",
      "metadata": {
        "colab": {
          "base_uri": "https://localhost:8080/"
        },
        "id": "RorrF5QajvIs",
        "outputId": "7a703ff6-5050-4c6b-e216-6db93b827502"
      },
      "source": [
        "x = 5\r\n",
        "y = 3\r\n",
        "\r\n",
        "print(x != y)\r\n",
        "\r\n",
        "# returns True because 5 is not equal to 3\r\n"
      ],
      "execution_count": null,
      "outputs": [
        {
          "output_type": "stream",
          "text": [
            "True\n"
          ],
          "name": "stdout"
        }
      ]
    },
    {
      "cell_type": "markdown",
      "metadata": {
        "id": "h4Ej_bVRjyuU"
      },
      "source": [
        "**iii) Using Greater than**"
      ]
    },
    {
      "cell_type": "code",
      "metadata": {
        "colab": {
          "base_uri": "https://localhost:8080/"
        },
        "id": "ckvgtET9j3an",
        "outputId": "56d5326f-3c59-40be-838f-cff5b7746012"
      },
      "source": [
        "x = 5\r\n",
        "y = 3\r\n",
        "\r\n",
        "print(x > y)\r\n",
        "\r\n",
        "# returns True because 5 is greater than 3\r\n"
      ],
      "execution_count": null,
      "outputs": [
        {
          "output_type": "stream",
          "text": [
            "True\n"
          ],
          "name": "stdout"
        }
      ]
    },
    {
      "cell_type": "markdown",
      "metadata": {
        "id": "s4u353aRj6mS"
      },
      "source": [
        "**iv) Using Less than**"
      ]
    },
    {
      "cell_type": "code",
      "metadata": {
        "colab": {
          "base_uri": "https://localhost:8080/"
        },
        "id": "eu_7nawBkBCZ",
        "outputId": "ffea3f63-cf1c-42ad-972d-6487b121b88a"
      },
      "source": [
        "x = 5\r\n",
        "y = 3\r\n",
        "\r\n",
        "print(x < y)\r\n",
        "\r\n",
        "# returns False because 5 is not less than 3\r\n"
      ],
      "execution_count": null,
      "outputs": [
        {
          "output_type": "stream",
          "text": [
            "False\n"
          ],
          "name": "stdout"
        }
      ]
    },
    {
      "cell_type": "markdown",
      "metadata": {
        "id": "_iSX0mG9kE6-"
      },
      "source": [
        "**v) Using Greater than or equal to**"
      ]
    },
    {
      "cell_type": "code",
      "metadata": {
        "colab": {
          "base_uri": "https://localhost:8080/"
        },
        "id": "tvdpmbB6kKBp",
        "outputId": "6ec244fe-1f44-46ef-f0a8-cf3f2eef5ceb"
      },
      "source": [
        "x = 5\r\n",
        "y = 3\r\n",
        "\r\n",
        "print(x >= y)\r\n",
        "\r\n",
        "# returns True because five is greater, or equal, to 3\r\n"
      ],
      "execution_count": null,
      "outputs": [
        {
          "output_type": "stream",
          "text": [
            "True\n"
          ],
          "name": "stdout"
        }
      ]
    },
    {
      "cell_type": "markdown",
      "metadata": {
        "id": "QsMNg5TzkOB5"
      },
      "source": [
        "**vi) Using Less than or equal to**"
      ]
    },
    {
      "cell_type": "code",
      "metadata": {
        "colab": {
          "base_uri": "https://localhost:8080/"
        },
        "id": "l_PY_Id3kS1C",
        "outputId": "dd5d79ef-585c-4ac7-f63f-d7e9efb40b04"
      },
      "source": [
        "x = 5\r\n",
        "y = 3\r\n",
        "\r\n",
        "print(x <= y)\r\n",
        "\r\n",
        "# returns False because 5 is neither less than or equal to 3\r\n"
      ],
      "execution_count": null,
      "outputs": [
        {
          "output_type": "stream",
          "text": [
            "False\n"
          ],
          "name": "stdout"
        }
      ]
    },
    {
      "cell_type": "markdown",
      "metadata": {
        "id": "rqzosQ9BkXHo"
      },
      "source": [
        "**21) Python Logical Operators**\r\n",
        "Logical operators are used to combine conditional statements:\r\n",
        "\r\n"
      ]
    },
    {
      "cell_type": "markdown",
      "metadata": {
        "id": "Dj0PJZqgkeNH"
      },
      "source": [
        "**i) Using and**"
      ]
    },
    {
      "cell_type": "code",
      "metadata": {
        "colab": {
          "base_uri": "https://localhost:8080/"
        },
        "id": "4IRjN6ZjklXB",
        "outputId": "150a2819-013d-49a9-ff42-1a9bd1e87111"
      },
      "source": [
        "x = 5\r\n",
        "\r\n",
        "print(x > 3 and x < 10)\r\n",
        "\r\n",
        "# returns True because 5 is greater than 3 AND 5 is less than 10\r\n"
      ],
      "execution_count": null,
      "outputs": [
        {
          "output_type": "stream",
          "text": [
            "True\n"
          ],
          "name": "stdout"
        }
      ]
    },
    {
      "cell_type": "markdown",
      "metadata": {
        "id": "dLhBmuI2ktoz"
      },
      "source": [
        "**ii) Using or**"
      ]
    },
    {
      "cell_type": "code",
      "metadata": {
        "colab": {
          "base_uri": "https://localhost:8080/"
        },
        "id": "JlJasnk8kyZ6",
        "outputId": "f4626a61-6357-48e3-87bb-75418e3ea299"
      },
      "source": [
        "x = 5\r\n",
        "\r\n",
        "print(x > 3 or x < 4)\r\n",
        "\r\n",
        "# returns True because one of the conditions are true (5 is greater than 3, but 5 is not less than 4)\r\n"
      ],
      "execution_count": null,
      "outputs": [
        {
          "output_type": "stream",
          "text": [
            "True\n"
          ],
          "name": "stdout"
        }
      ]
    },
    {
      "cell_type": "markdown",
      "metadata": {
        "id": "ulGb3V7Gk246"
      },
      "source": [
        "**iii) Using not**"
      ]
    },
    {
      "cell_type": "code",
      "metadata": {
        "colab": {
          "base_uri": "https://localhost:8080/"
        },
        "id": "kD0ERJA-k7sf",
        "outputId": "a09b9cdb-d30b-4048-87b4-b293ce53ec86"
      },
      "source": [
        "x = 5\r\n",
        "\r\n",
        "print(not(x > 3 and x < 10))\r\n",
        "\r\n",
        "# returns False because not is used to reverse the result\r\n"
      ],
      "execution_count": null,
      "outputs": [
        {
          "output_type": "stream",
          "text": [
            "False\n"
          ],
          "name": "stdout"
        }
      ]
    },
    {
      "cell_type": "markdown",
      "metadata": {
        "id": "yDO2Y4eDk_ql"
      },
      "source": [
        "**22) Python Identity Operators**\r\n",
        "\r\n",
        "Identity operators are used to compare the objects, not if they are equal, but if they are actually the same object, with the same memory location:"
      ]
    },
    {
      "cell_type": "markdown",
      "metadata": {
        "id": "rzc9omGHlFzz"
      },
      "source": [
        "**i) Using is**"
      ]
    },
    {
      "cell_type": "code",
      "metadata": {
        "colab": {
          "base_uri": "https://localhost:8080/"
        },
        "id": "MWCP0QdilKh7",
        "outputId": "76207b54-468b-4cdd-86a6-b4d9ec7f72a1"
      },
      "source": [
        "x = [\"apple\", \"banana\"]\r\n",
        "y = [\"apple\", \"banana\"]\r\n",
        "z = x\r\n",
        "\r\n",
        "print(x is z)\r\n",
        "\r\n",
        "# returns True because z is the same object as x\r\n",
        "\r\n",
        "print(x is y)\r\n",
        "\r\n",
        "# returns False because x is not the same object as y, even if they have the same content\r\n",
        "\r\n",
        "print(x == y)\r\n",
        "\r\n",
        "# to demonstrate the difference betweeen \"is\" and \"==\": this comparison returns True because x is equal to y"
      ],
      "execution_count": null,
      "outputs": [
        {
          "output_type": "stream",
          "text": [
            "True\n",
            "False\n",
            "True\n"
          ],
          "name": "stdout"
        }
      ]
    },
    {
      "cell_type": "markdown",
      "metadata": {
        "id": "Fr4KOKUDlRXV"
      },
      "source": [
        "**ii) Using is not**"
      ]
    },
    {
      "cell_type": "code",
      "metadata": {
        "colab": {
          "base_uri": "https://localhost:8080/"
        },
        "id": "NSyDclpplXEG",
        "outputId": "4ee0f304-66ec-42f5-c0bd-95544270a6b0"
      },
      "source": [
        "x = [\"apple\", \"banana\"]\r\n",
        "y = [\"apple\", \"banana\"]\r\n",
        "z = x\r\n",
        "\r\n",
        "print(x is not z)\r\n",
        "\r\n",
        "# returns False because z is the same object as x\r\n",
        "\r\n",
        "print(x is not y)\r\n",
        "\r\n",
        "# returns True because x is not the same object as y, even if they have the same content\r\n",
        "\r\n",
        "print(x != y)\r\n",
        "\r\n",
        "# to demonstrate the difference betweeen \"is not\" and \"!=\": this comparison returns False because x is equal to y\r\n"
      ],
      "execution_count": null,
      "outputs": [
        {
          "output_type": "stream",
          "text": [
            "False\n",
            "True\n",
            "False\n"
          ],
          "name": "stdout"
        }
      ]
    },
    {
      "cell_type": "markdown",
      "metadata": {
        "id": "EPY1s0a7lbPF"
      },
      "source": [
        "**23) Python Membership Operators**\r\n",
        "\r\n",
        "Membership operators are used to test if a sequence is presented in an object:"
      ]
    },
    {
      "cell_type": "markdown",
      "metadata": {
        "id": "-_ju-ln8lgSJ"
      },
      "source": [
        "**i) Using in**"
      ]
    },
    {
      "cell_type": "code",
      "metadata": {
        "colab": {
          "base_uri": "https://localhost:8080/"
        },
        "id": "ELsxzt0plkNX",
        "outputId": "3f23a187-c99a-4460-f91f-ce2ab3427e66"
      },
      "source": [
        "x = [\"apple\", \"banana\"]\r\n",
        "\r\n",
        "print(\"banana\" in x)\r\n",
        "\r\n",
        "# returns True because a sequence with the value \"banana\" is in the list\r\n"
      ],
      "execution_count": null,
      "outputs": [
        {
          "output_type": "stream",
          "text": [
            "True\n"
          ],
          "name": "stdout"
        }
      ]
    },
    {
      "cell_type": "markdown",
      "metadata": {
        "id": "HLL0KdcHlpmH"
      },
      "source": [
        "**ii) Using not in**"
      ]
    },
    {
      "cell_type": "code",
      "metadata": {
        "colab": {
          "base_uri": "https://localhost:8080/"
        },
        "id": "O2FI2JrOluRw",
        "outputId": "d78fb2e2-3528-47d1-c0dd-8998cf5662f9"
      },
      "source": [
        "x = [\"apple\", \"banana\"]\r\n",
        "\r\n",
        "print(\"pineapple\" not in x)\r\n",
        "\r\n",
        "# returns True because a sequence with the value \"pineapple\" is not in the list\r\n"
      ],
      "execution_count": null,
      "outputs": [
        {
          "output_type": "stream",
          "text": [
            "True\n"
          ],
          "name": "stdout"
        }
      ]
    },
    {
      "cell_type": "markdown",
      "metadata": {
        "id": "6qcX4kfel0Zm"
      },
      "source": [
        "**24) Python Lists**"
      ]
    },
    {
      "cell_type": "markdown",
      "metadata": {
        "id": "wOu9SlwfmGE8"
      },
      "source": [
        "**i) List**\r\n",
        "\r\n",
        "Lists are used to store multiple items in a single variable.\r\n",
        "\r\n",
        "Lists are one of 4 built-in data types in Python used to store collections of data, the other 3 are Tuple, Set, and Dictionary, all with different qualities and usage.\r\n",
        "\r\n",
        "Lists are created using square brackets:"
      ]
    },
    {
      "cell_type": "markdown",
      "metadata": {
        "id": "IPw4zBSEmI9z"
      },
      "source": [
        "**Example**\r\n",
        "\r\n",
        "Create a List:"
      ]
    },
    {
      "cell_type": "code",
      "metadata": {
        "colab": {
          "base_uri": "https://localhost:8080/"
        },
        "id": "f4kSFA-ImO8H",
        "outputId": "ded05beb-2b05-42c7-94a2-23718c69e252"
      },
      "source": [
        "thislist = [\"apple\", \"banana\", \"cherry\"]\r\n",
        "print(thislist)\r\n"
      ],
      "execution_count": null,
      "outputs": [
        {
          "output_type": "stream",
          "text": [
            "['apple', 'banana', 'cherry']\n"
          ],
          "name": "stdout"
        }
      ]
    },
    {
      "cell_type": "markdown",
      "metadata": {
        "id": "duKO9gvHmSCP"
      },
      "source": [
        "**ii) Allow Duplicates**\r\n",
        "\r\n",
        "Since lists are indexed, lists can have items with the same value:\r\n",
        "\r\n",
        "\r\n",
        "**Example**\r\n",
        "Lists allow duplicate values:"
      ]
    },
    {
      "cell_type": "code",
      "metadata": {
        "colab": {
          "base_uri": "https://localhost:8080/"
        },
        "id": "RBPStVvPmaTV",
        "outputId": "cedb830f-530e-44d2-aa2a-4abc8d2f98de"
      },
      "source": [
        "thislist = [\"apple\", \"banana\", \"cherry\", \"apple\", \"cherry\"]\r\n",
        "print(thislist)"
      ],
      "execution_count": null,
      "outputs": [
        {
          "output_type": "stream",
          "text": [
            "['apple', 'banana', 'cherry', 'apple', 'cherry']\n"
          ],
          "name": "stdout"
        }
      ]
    },
    {
      "cell_type": "markdown",
      "metadata": {
        "id": "J4pAPQDkmda5"
      },
      "source": [
        "**iii) List Length**\r\n",
        "\r\n",
        "To determine how many items a list has, use the len() function:\r\n",
        "\r\n",
        "**Example**\r\n",
        "\r\n",
        "Print the number of items in the list:"
      ]
    },
    {
      "cell_type": "code",
      "metadata": {
        "colab": {
          "base_uri": "https://localhost:8080/"
        },
        "id": "yknynT4GmnsA",
        "outputId": "827fcf23-17f7-43bd-91fd-90c80cf496c5"
      },
      "source": [
        "thislist = [\"apple\", \"banana\", \"cherry\"]\r\n",
        "print(len(thislist))"
      ],
      "execution_count": null,
      "outputs": [
        {
          "output_type": "stream",
          "text": [
            "3\n"
          ],
          "name": "stdout"
        }
      ]
    },
    {
      "cell_type": "markdown",
      "metadata": {
        "id": "JNmmHDZ0mrG7"
      },
      "source": [
        "**iv)List Items - Data Types**\r\n",
        "\r\n",
        "List items can be of any data type:\r\n",
        "\r\n",
        "**Example**\r\n",
        "\r\n",
        "String, int and boolean data types:"
      ]
    },
    {
      "cell_type": "code",
      "metadata": {
        "colab": {
          "base_uri": "https://localhost:8080/"
        },
        "id": "Vb5OT6cYmx_g",
        "outputId": "86c74902-8410-491b-96d0-d786bcfd524d"
      },
      "source": [
        "list1 = [\"apple\", \"banana\", \"cherry\"]\r\n",
        "list2 = [1, 5, 7, 9, 3]\r\n",
        "list3 = [True, False, False]\r\n",
        "\r\n",
        "print(list1)\r\n",
        "print(list2)\r\n",
        "print(list3)\r\n"
      ],
      "execution_count": null,
      "outputs": [
        {
          "output_type": "stream",
          "text": [
            "['apple', 'banana', 'cherry']\n",
            "[1, 5, 7, 9, 3]\n",
            "[True, False, False]\n"
          ],
          "name": "stdout"
        }
      ]
    },
    {
      "cell_type": "markdown",
      "metadata": {
        "id": "6XOkuzDZm2pf"
      },
      "source": [
        "**v) type()**\r\n",
        "\r\n",
        "From Python's perspective, lists are defined as objects with the data type \r\n",
        "'list':\r\n",
        "\r\n",
        "\r\n",
        "<class 'list'>\r\n",
        "**Example**\r\n",
        "\r\n",
        "What is the data type of a list?"
      ]
    },
    {
      "cell_type": "code",
      "metadata": {
        "colab": {
          "base_uri": "https://localhost:8080/"
        },
        "id": "VUZMXhdXm_0k",
        "outputId": "19858d82-19f1-4655-863f-b7a2f3c6459b"
      },
      "source": [
        "mylist = [\"apple\", \"banana\", \"cherry\"]\r\n",
        "print(type(mylist))\r\n"
      ],
      "execution_count": null,
      "outputs": [
        {
          "output_type": "stream",
          "text": [
            "<class 'list'>\n"
          ],
          "name": "stdout"
        }
      ]
    },
    {
      "cell_type": "markdown",
      "metadata": {
        "id": "787VAO-dnEGY"
      },
      "source": [
        "**vi) The list() Constructor**\r\n",
        "\r\n",
        "It is also possible to use the **list()** constructor when creating a new list.\r\n",
        "\r\n",
        "**Example**\r\n",
        "\r\n",
        "Using the **list()** constructor to make a List:"
      ]
    },
    {
      "cell_type": "code",
      "metadata": {
        "colab": {
          "base_uri": "https://localhost:8080/"
        },
        "id": "avwfu4QHnPDL",
        "outputId": "eac517eb-a89d-4a95-9638-13eec151a652"
      },
      "source": [
        "thislist = list((\"apple\", \"banana\", \"cherry\")) # note the double round-brackets\r\n",
        "print(thislist)"
      ],
      "execution_count": null,
      "outputs": [
        {
          "output_type": "stream",
          "text": [
            "['apple', 'banana', 'cherry']\n"
          ],
          "name": "stdout"
        }
      ]
    },
    {
      "cell_type": "markdown",
      "metadata": {
        "id": "GExQhVe3nbvq"
      },
      "source": [
        "**25) Python - Access List Items**"
      ]
    },
    {
      "cell_type": "markdown",
      "metadata": {
        "id": "_cCwAdFlnzRJ"
      },
      "source": [
        "**i) Access Items**\r\n",
        "\r\n",
        "List items are indexed and you can access them by referring to the index number:\r\n",
        "\r\n",
        "**Example**\r\n",
        "\r\n",
        "Print the second item of the list:"
      ]
    },
    {
      "cell_type": "code",
      "metadata": {
        "colab": {
          "base_uri": "https://localhost:8080/"
        },
        "id": "vksKSduLn3I9",
        "outputId": "e263d5ae-8bba-4022-9caf-933678832e8f"
      },
      "source": [
        "thislist = [\"apple\", \"banana\", \"cherry\"]\r\n",
        "print(thislist[1])"
      ],
      "execution_count": null,
      "outputs": [
        {
          "output_type": "stream",
          "text": [
            "banana\n"
          ],
          "name": "stdout"
        }
      ]
    },
    {
      "cell_type": "markdown",
      "metadata": {
        "id": "wMM8l0dVn72O"
      },
      "source": [
        "**ii) Negative Indexing**\r\n",
        "\r\n",
        "Negative indexing means start from the end\r\n",
        "\r\n",
        "-1 refers to the last item, -2 refers to the second last item etc.\r\n",
        "\r\n",
        "**Example**\r\n",
        "\r\n",
        "Print the last item of the list:"
      ]
    },
    {
      "cell_type": "code",
      "metadata": {
        "colab": {
          "base_uri": "https://localhost:8080/"
        },
        "id": "5PbOoUAOoCgs",
        "outputId": "67f2397c-238e-4e90-fd9e-a6828cd62fce"
      },
      "source": [
        "thislist = [\"apple\", \"banana\", \"cherry\"]\r\n",
        "print(thislist[-1])"
      ],
      "execution_count": null,
      "outputs": [
        {
          "output_type": "stream",
          "text": [
            "cherry\n"
          ],
          "name": "stdout"
        }
      ]
    },
    {
      "cell_type": "markdown",
      "metadata": {
        "id": "QrPfdjKgoFpC"
      },
      "source": [
        "**iii) Check if Item Exists**\r\n",
        "\r\n",
        "To determine if a specified item is present in a list use the in keyword:\r\n",
        "\r\n",
        "**Example**\r\n",
        "\r\n",
        "Check if \"apple\" is present in the list:"
      ]
    },
    {
      "cell_type": "code",
      "metadata": {
        "colab": {
          "base_uri": "https://localhost:8080/"
        },
        "id": "TPJhK2PLoP1L",
        "outputId": "3c8f587a-c2a9-40c8-85a8-55b0bbf5d53d"
      },
      "source": [
        "thislist = [\"apple\", \"banana\", \"cherry\"]\r\n",
        "if \"apple\" in thislist:\r\n",
        "  print(\"Yes, 'apple' is in the fruits list\")"
      ],
      "execution_count": null,
      "outputs": [
        {
          "output_type": "stream",
          "text": [
            "Yes, 'apple' is in the fruits list\n"
          ],
          "name": "stdout"
        }
      ]
    },
    {
      "cell_type": "markdown",
      "metadata": {
        "id": "mMmNENreoT3I"
      },
      "source": [
        "**26) Python - Change List Items**"
      ]
    },
    {
      "cell_type": "markdown",
      "metadata": {
        "id": "TzDy1k65oTvK"
      },
      "source": [
        "**i) Change Item Value**\r\n",
        "\r\n",
        "To change the value of a specific item, refer to the index number:\r\n",
        "\r\n",
        "**Example**\r\n",
        "\r\n",
        "Change the second item:"
      ]
    },
    {
      "cell_type": "code",
      "metadata": {
        "colab": {
          "base_uri": "https://localhost:8080/"
        },
        "id": "sHBwjaneof5d",
        "outputId": "ae7b2a07-96b7-4b31-f62d-b7426242c520"
      },
      "source": [
        "thislist = [\"apple\", \"banana\", \"cherry\"]\r\n",
        "thislist[1] = \"blackcurrant\"\r\n",
        "print(thislist)"
      ],
      "execution_count": null,
      "outputs": [
        {
          "output_type": "stream",
          "text": [
            "['apple', 'blackcurrant', 'cherry']\n"
          ],
          "name": "stdout"
        }
      ]
    },
    {
      "cell_type": "markdown",
      "metadata": {
        "id": "KW0xbFczoiyT"
      },
      "source": [
        "**ii) Change a Range of Item Values**\r\n",
        "\r\n",
        "To change the value of items within a specific range, define a list with the new values, and refer to the range of index numbers where you want to insert the new values:\r\n",
        "\r\n",
        "**Example**\r\n",
        "\r\n",
        "Change the values \"banana\" and \"cherry\" with the values \"blackcurrant\" and \"watermelon\":"
      ]
    },
    {
      "cell_type": "code",
      "metadata": {
        "colab": {
          "base_uri": "https://localhost:8080/"
        },
        "id": "eBlIRS44oqhh",
        "outputId": "b4a2819f-8b57-427f-8538-de22ba87e815"
      },
      "source": [
        "thislist = [\"apple\", \"banana\", \"cherry\", \"orange\", \"kiwi\", \"mango\"]\r\n",
        "thislist[1:3] = [\"blackcurrant\", \"watermelon\"]\r\n",
        "print(thislist)"
      ],
      "execution_count": null,
      "outputs": [
        {
          "output_type": "stream",
          "text": [
            "['apple', 'blackcurrant', 'watermelon', 'orange', 'kiwi', 'mango']\n"
          ],
          "name": "stdout"
        }
      ]
    },
    {
      "cell_type": "markdown",
      "metadata": {
        "id": "WIWmMLbVoyiI"
      },
      "source": [
        "**iii) Insert Items**\r\n",
        "\r\n",
        "To insert a new list item, without replacing any of the existing values, we can use the insert() method.\r\n",
        "\r\n",
        "The **insert()** method inserts an item at the specified index:\r\n",
        "\r\n",
        "**Example**\r\n",
        "\r\n",
        "Insert \"watermelon\" as the third item:"
      ]
    },
    {
      "cell_type": "code",
      "metadata": {
        "colab": {
          "base_uri": "https://localhost:8080/"
        },
        "id": "TaAGIpRyo3sv",
        "outputId": "6a1cf9be-8799-4a5d-a258-21e735ea4e01"
      },
      "source": [
        "thislist = [\"apple\", \"banana\", \"cherry\"]\r\n",
        "thislist.insert(2, \"watermelon\")\r\n",
        "print(thislist)"
      ],
      "execution_count": null,
      "outputs": [
        {
          "output_type": "stream",
          "text": [
            "['apple', 'banana', 'watermelon', 'cherry']\n"
          ],
          "name": "stdout"
        }
      ]
    },
    {
      "cell_type": "markdown",
      "metadata": {
        "id": "lBF9ma1zo7wU"
      },
      "source": [
        "**27) Python - Add List Items**"
      ]
    },
    {
      "cell_type": "markdown",
      "metadata": {
        "id": "cAkWyzedpCm2"
      },
      "source": [
        "**i) Append Items**\r\n",
        "\r\n",
        "To add an item to the end of the list, use the **append() **method:\r\n",
        "\r\n",
        "**Example**\r\n",
        "\r\n",
        "Using the **append()** method to append an item:"
      ]
    },
    {
      "cell_type": "code",
      "metadata": {
        "colab": {
          "base_uri": "https://localhost:8080/"
        },
        "id": "VBvs7iJlpLsW",
        "outputId": "ffffa2c4-114c-4b61-bf69-6b2175378e8a"
      },
      "source": [
        "thislist = [\"apple\", \"banana\", \"cherry\"]\r\n",
        "thislist.append(\"orange\")\r\n",
        "print(thislist)"
      ],
      "execution_count": null,
      "outputs": [
        {
          "output_type": "stream",
          "text": [
            "['apple', 'banana', 'cherry', 'orange']\n"
          ],
          "name": "stdout"
        }
      ]
    },
    {
      "cell_type": "markdown",
      "metadata": {
        "id": "2UWH3XUVpPIc"
      },
      "source": [
        "**ii) Insert Items**\r\n",
        "\r\n",
        "To insert a list item at a specified index, use the insert() method.\r\n",
        "\r\n",
        "The **insert()** method inserts an item at the specified index:\r\n",
        "\r\n",
        "**Example**\r\n",
        "\r\n",
        "Insert an item as the second position:"
      ]
    },
    {
      "cell_type": "code",
      "metadata": {
        "colab": {
          "base_uri": "https://localhost:8080/"
        },
        "id": "b8m1I9_xpXPh",
        "outputId": "ce265008-10f3-4789-b9b8-1a7169b7f49d"
      },
      "source": [
        "thislist = [\"apple\", \"banana\", \"cherry\"]\r\n",
        "thislist.insert(1, \"orange\")\r\n",
        "print(thislist)"
      ],
      "execution_count": null,
      "outputs": [
        {
          "output_type": "stream",
          "text": [
            "['apple', 'orange', 'banana', 'cherry']\n"
          ],
          "name": "stdout"
        }
      ]
    },
    {
      "cell_type": "markdown",
      "metadata": {
        "id": "VsZUqhjVpcwS"
      },
      "source": [
        "**28) Python - Remove List Items**"
      ]
    },
    {
      "cell_type": "markdown",
      "metadata": {
        "id": "Msk6vpagpjpx"
      },
      "source": [
        "**i) Remove Specified Item**\r\n",
        "\r\n",
        "The **remove()** method removes the specified item.\r\n",
        "\r\n",
        "**Example**\r\n",
        "\r\n",
        "Remove \"banana\":"
      ]
    },
    {
      "cell_type": "code",
      "metadata": {
        "colab": {
          "base_uri": "https://localhost:8080/"
        },
        "id": "VXSX0urXpqhZ",
        "outputId": "ea965e11-0f89-450e-d26b-045a26548d64"
      },
      "source": [
        "thislist = [\"apple\", \"banana\", \"cherry\"]\r\n",
        "thislist.remove(\"banana\")\r\n",
        "print(thislist)"
      ],
      "execution_count": null,
      "outputs": [
        {
          "output_type": "stream",
          "text": [
            "['apple', 'cherry']\n"
          ],
          "name": "stdout"
        }
      ]
    },
    {
      "cell_type": "markdown",
      "metadata": {
        "id": "iPYHm--eptf_"
      },
      "source": [
        "**ii) Remove Specified Index**\r\n",
        "\r\n",
        "The **pop()** method removes the specified index.\r\n",
        "\r\n",
        "**Example**\r\n",
        "\r\n",
        "Remove the second item:"
      ]
    },
    {
      "cell_type": "code",
      "metadata": {
        "colab": {
          "base_uri": "https://localhost:8080/"
        },
        "id": "3SIywNAup3DV",
        "outputId": "1ead9c60-8fdd-4bb2-dc23-323772c79a99"
      },
      "source": [
        "thislist = [\"apple\", \"banana\", \"cherry\"]\r\n",
        "thislist.pop(1)\r\n",
        "print(thislist)"
      ],
      "execution_count": null,
      "outputs": [
        {
          "output_type": "stream",
          "text": [
            "['apple', 'cherry']\n"
          ],
          "name": "stdout"
        }
      ]
    },
    {
      "cell_type": "markdown",
      "metadata": {
        "id": "raQXlY6ep7gX"
      },
      "source": [
        "**iii) Clear the List**\r\n",
        "\r\n",
        "The clear() method empties the list.\r\n",
        "\r\n",
        "The list still remains, but it has no content.\r\n",
        "\r\n",
        "**Example**\r\n",
        "\r\n",
        "Clear the list content:"
      ]
    },
    {
      "cell_type": "code",
      "metadata": {
        "colab": {
          "base_uri": "https://localhost:8080/"
        },
        "id": "7PYbddAFqDK0",
        "outputId": "d3e48962-cfee-479a-e9c6-e3cad23f9f00"
      },
      "source": [
        "thislist = [\"apple\", \"banana\", \"cherry\"]\r\n",
        "thislist.clear()\r\n",
        "print(thislist)"
      ],
      "execution_count": null,
      "outputs": [
        {
          "output_type": "stream",
          "text": [
            "[]\n"
          ],
          "name": "stdout"
        }
      ]
    },
    {
      "cell_type": "markdown",
      "metadata": {
        "id": "1InTnbruqGo6"
      },
      "source": [
        "**29) Python - Loop Lists**"
      ]
    },
    {
      "cell_type": "markdown",
      "metadata": {
        "id": "y7jPSjijqK5d"
      },
      "source": [
        "**i) Loop Through a List**\r\n",
        "\r\n",
        "You can loop through the list items by using a for loop:\r\n",
        "\r\n",
        "**Example**\r\n",
        "\r\n",
        "Print all items in the list, one by one:"
      ]
    },
    {
      "cell_type": "code",
      "metadata": {
        "colab": {
          "base_uri": "https://localhost:8080/"
        },
        "id": "8KpgR3xmqSTx",
        "outputId": "f1751c0d-88a3-441a-c49b-3250dcd77b7d"
      },
      "source": [
        "thislist = [\"apple\", \"banana\", \"cherry\"]\r\n",
        "for x in thislist:\r\n",
        "  print(x)"
      ],
      "execution_count": null,
      "outputs": [
        {
          "output_type": "stream",
          "text": [
            "apple\n",
            "banana\n",
            "cherry\n"
          ],
          "name": "stdout"
        }
      ]
    },
    {
      "cell_type": "markdown",
      "metadata": {
        "id": "1Xd61cLsqVMK"
      },
      "source": [
        "**ii) Loop Through the Index Numbers**\r\n",
        "\r\n",
        "You can also loop through the list items by referring to their index number.\r\n",
        "\r\n",
        "Use the **range()**and **len()**functions to create a suitable iterable.\r\n",
        "\r\n",
        "**Example**\r\n",
        "\r\n",
        "Print all items by referring to their index number:"
      ]
    },
    {
      "cell_type": "code",
      "metadata": {
        "colab": {
          "base_uri": "https://localhost:8080/"
        },
        "id": "RxSa1JR0qey-",
        "outputId": "3050fc8b-9fcd-4d64-b43a-74843a21350d"
      },
      "source": [
        "thislist = [\"apple\", \"banana\", \"cherry\"]\r\n",
        "for i in range(len(thislist)):\r\n",
        "  print(thislist[i])"
      ],
      "execution_count": null,
      "outputs": [
        {
          "output_type": "stream",
          "text": [
            "apple\n",
            "banana\n",
            "cherry\n"
          ],
          "name": "stdout"
        }
      ]
    },
    {
      "cell_type": "markdown",
      "metadata": {
        "id": "CYKHcE95qlGz"
      },
      "source": [
        "**30) Python - List Comprehension**"
      ]
    },
    {
      "cell_type": "markdown",
      "metadata": {
        "id": "0b3zQo8wqrM-"
      },
      "source": [
        "**i) List Comprehension**\r\n",
        "\r\n",
        "List comprehension offers a shorter syntax when you want to create a new list based on the values of an existing list.\r\n",
        "\r\n",
        "Example:\r\n",
        "\r\n",
        "Based on a list of fruits, you want a new list, containing only the fruits with the letter \"a\" in the name.\r\n",
        "\r\n",
        "Without list comprehension you will have to write a **for**statement with a conditional test inside:"
      ]
    },
    {
      "cell_type": "code",
      "metadata": {
        "colab": {
          "base_uri": "https://localhost:8080/"
        },
        "id": "hFgFVbtqq7Bq",
        "outputId": "8a367231-339e-4fdf-ed39-07b73c54b082"
      },
      "source": [
        "fruits = [\"apple\", \"banana\", \"cherry\", \"kiwi\", \"mango\"]\r\n",
        "newlist = []\r\n",
        "\r\n",
        "for x in fruits:\r\n",
        "  if \"a\" in x:\r\n",
        "    newlist.append(x)\r\n",
        "\r\n",
        "print(newlist)"
      ],
      "execution_count": null,
      "outputs": [
        {
          "output_type": "stream",
          "text": [
            "['apple', 'banana', 'mango']\n"
          ],
          "name": "stdout"
        }
      ]
    },
    {
      "cell_type": "markdown",
      "metadata": {
        "id": "MCLM0WLKrFDs"
      },
      "source": [
        "**31) Python - Sort Lists**\r\n"
      ]
    },
    {
      "cell_type": "markdown",
      "metadata": {
        "id": "64NYLd4rrKDk"
      },
      "source": [
        "**i) Sort List Alphanumerically**\r\n",
        "\r\n",
        "List objects have a **sort()** method that will sort the list alphanumerically, ascending, by default:\r\n",
        "\r\n",
        "**Example**\r\n",
        "\r\n",
        "Sort the list alphabetically:"
      ]
    },
    {
      "cell_type": "code",
      "metadata": {
        "colab": {
          "base_uri": "https://localhost:8080/"
        },
        "id": "1t0ZLI4GrSU3",
        "outputId": "3b81f796-1bb6-4b90-cb3d-a404c2511416"
      },
      "source": [
        "thislist = [\"orange\", \"mango\", \"kiwi\", \"pineapple\", \"banana\"]\r\n",
        "thislist.sort()\r\n",
        "print(thislist)"
      ],
      "execution_count": null,
      "outputs": [
        {
          "output_type": "stream",
          "text": [
            "['banana', 'kiwi', 'mango', 'orange', 'pineapple']\n"
          ],
          "name": "stdout"
        }
      ]
    },
    {
      "cell_type": "markdown",
      "metadata": {
        "id": "GsPqdf22rVl2"
      },
      "source": [
        "**ii) Sort Descending**\r\n",
        "\r\n",
        "To sort descending, use the keyword argument reverse = True:\r\n",
        "\r\n",
        "**Example**\r\n",
        "Sort the list descending:"
      ]
    },
    {
      "cell_type": "code",
      "metadata": {
        "colab": {
          "base_uri": "https://localhost:8080/"
        },
        "id": "Hn0n2TNgrbbs",
        "outputId": "21c95af7-e93a-47c8-924a-4efe2e46250f"
      },
      "source": [
        "thislist = [\"orange\", \"mango\", \"kiwi\", \"pineapple\", \"banana\"]\r\n",
        "thislist.sort(reverse = True)\r\n",
        "print(thislist)"
      ],
      "execution_count": null,
      "outputs": [
        {
          "output_type": "stream",
          "text": [
            "['pineapple', 'orange', 'mango', 'kiwi', 'banana']\n"
          ],
          "name": "stdout"
        }
      ]
    },
    {
      "cell_type": "markdown",
      "metadata": {
        "id": "705lyhjyrihD"
      },
      "source": [
        "**iii) Customize Sort Function**\r\n",
        "\r\n",
        "You can also customize your own function by using the keyword argument key = function.\r\n",
        "\r\n",
        "The function will return a number that will be used to sort the list (the lowest number first):\r\n",
        "\r\n",
        "**Example**\r\n",
        "\r\n",
        "Sort the list based on how close the number is to 50:"
      ]
    },
    {
      "cell_type": "code",
      "metadata": {
        "colab": {
          "base_uri": "https://localhost:8080/"
        },
        "id": "2sW4Cg6droEi",
        "outputId": "0ef242bd-3026-40dd-f81d-26db42477793"
      },
      "source": [
        "def myfunc(n):\r\n",
        "  return abs(n - 50)\r\n",
        "\r\n",
        "thislist = [100, 50, 65, 82, 23]\r\n",
        "thislist.sort(key = myfunc)\r\n",
        "print(thislist)\r\n"
      ],
      "execution_count": null,
      "outputs": [
        {
          "output_type": "stream",
          "text": [
            "[50, 65, 23, 82, 100]\n"
          ],
          "name": "stdout"
        }
      ]
    },
    {
      "cell_type": "markdown",
      "metadata": {
        "id": "5SnwIcFarr-L"
      },
      "source": [
        "**iv) Case Insensitive Sort**\r\n",
        "\r\n",
        "By default the sort() method is case sensitive, resulting in all capital letters being sorted before lower case letters:\r\n",
        "\r\n",
        "**Example**\r\n",
        "\r\n",
        "Case sensitive sorting can give an unexpected result:"
      ]
    },
    {
      "cell_type": "code",
      "metadata": {
        "colab": {
          "base_uri": "https://localhost:8080/"
        },
        "id": "drH6gs5Crygi",
        "outputId": "99c0295a-cd7c-489e-92a5-13da4c9f3412"
      },
      "source": [
        "thislist = [\"banana\", \"Orange\", \"Kiwi\", \"cherry\"]\r\n",
        "thislist.sort()\r\n",
        "print(thislist)"
      ],
      "execution_count": null,
      "outputs": [
        {
          "output_type": "stream",
          "text": [
            "['Kiwi', 'Orange', 'banana', 'cherry']\n"
          ],
          "name": "stdout"
        }
      ]
    },
    {
      "cell_type": "markdown",
      "metadata": {
        "id": "5EtP7FaGr1oC"
      },
      "source": [
        "**v) Reverse Order**\r\n",
        "\r\n",
        "What if you want to reverse the order of a list, regardless of the alphabet?\r\n",
        "\r\n",
        "The **reverse()** method reverses the current sorting order of the elements.\r\n",
        "\r\n",
        "**Example**\r\n",
        "\r\n",
        "Reverse the order of the list items:"
      ]
    },
    {
      "cell_type": "code",
      "metadata": {
        "colab": {
          "base_uri": "https://localhost:8080/"
        },
        "id": "uqgRi6HWsCzK",
        "outputId": "e64fdfa6-a023-4ba4-c79d-262900a74918"
      },
      "source": [
        "thislist = [\"banana\", \"Orange\", \"Kiwi\", \"cherry\"]\r\n",
        "thislist.reverse()\r\n",
        "print(thislist)"
      ],
      "execution_count": null,
      "outputs": [
        {
          "output_type": "stream",
          "text": [
            "['cherry', 'Kiwi', 'Orange', 'banana']\n"
          ],
          "name": "stdout"
        }
      ]
    },
    {
      "cell_type": "markdown",
      "metadata": {
        "id": "7UkwRk9WsHHX"
      },
      "source": [
        "**32) Python - Copy Lists**"
      ]
    },
    {
      "cell_type": "markdown",
      "metadata": {
        "id": "HaXFurc8sLYu"
      },
      "source": [
        "**i) Copy a List**\r\n",
        "\r\n",
        "You cannot copy a list simply by typing list2 = list1, because: list2 will only be a reference to list1, and changes made in list1 will automatically also be made in list2.\r\n",
        "\r\n",
        "There are ways to make a copy, one way is to use the built-in List method copy().\r\n",
        "\r\n",
        "**Example**\r\n",
        "\r\n",
        "Make a copy of a list with the copy() method:"
      ]
    },
    {
      "cell_type": "code",
      "metadata": {
        "colab": {
          "base_uri": "https://localhost:8080/"
        },
        "id": "qw7rafiAsYPX",
        "outputId": "3fcbe7f8-1d44-4cd8-a074-0172b101cc8a"
      },
      "source": [
        "thislist = [\"apple\", \"banana\", \"cherry\"]\r\n",
        "mylist = thislist.copy()\r\n",
        "print(mylist)"
      ],
      "execution_count": null,
      "outputs": [
        {
          "output_type": "stream",
          "text": [
            "['apple', 'banana', 'cherry']\n"
          ],
          "name": "stdout"
        }
      ]
    },
    {
      "cell_type": "markdown",
      "metadata": {
        "id": "3Q7ahf3AsgYH"
      },
      "source": [
        "**33) Python - Join Lists**"
      ]
    },
    {
      "cell_type": "markdown",
      "metadata": {
        "id": "vAUNkjrUsmqe"
      },
      "source": [
        "**i) Join Two Lists**\r\n",
        "\r\n",
        "There are several ways to join, or concatenate, two or more lists in Python.\r\n",
        "\r\n",
        "One of the easiest ways are by using the **+** operator.\r\n",
        "\r\n",
        "**Example**\r\n",
        "\r\n",
        "Join two list:"
      ]
    },
    {
      "cell_type": "code",
      "metadata": {
        "colab": {
          "base_uri": "https://localhost:8080/"
        },
        "id": "AYm6nF_OsuRH",
        "outputId": "7f2a604c-7174-4b05-bd72-6be8d2d01e86"
      },
      "source": [
        "list1 = [\"a\", \"b\", \"c\"]\r\n",
        "list2 = [1, 2, 3]\r\n",
        "\r\n",
        "list3 = list1 + list2\r\n",
        "print(list3)"
      ],
      "execution_count": null,
      "outputs": [
        {
          "output_type": "stream",
          "text": [
            "['a', 'b', 'c', 1, 2, 3]\n"
          ],
          "name": "stdout"
        }
      ]
    },
    {
      "cell_type": "markdown",
      "metadata": {
        "id": "Mjp_9NxIsxpI"
      },
      "source": [
        "**ii)Example**\r\n",
        "\r\n",
        "Use the **extend()** method to add list2 at the end of list1:"
      ]
    },
    {
      "cell_type": "code",
      "metadata": {
        "colab": {
          "base_uri": "https://localhost:8080/"
        },
        "id": "4cF1VVEZtAlj",
        "outputId": "91a2850f-12cf-45b3-82c9-6ee05e2de4ea"
      },
      "source": [
        "list1 = [\"a\", \"b\" , \"c\"]\r\n",
        "list2 = [1, 2, 3]\r\n",
        "\r\n",
        "list1.extend(list2)\r\n",
        "print(list1)"
      ],
      "execution_count": null,
      "outputs": [
        {
          "output_type": "stream",
          "text": [
            "['a', 'b', 'c', 1, 2, 3]\n"
          ],
          "name": "stdout"
        }
      ]
    },
    {
      "cell_type": "markdown",
      "metadata": {
        "id": "YP4WtI9ItEsu"
      },
      "source": [
        "**34) Python Tuples**"
      ]
    },
    {
      "cell_type": "markdown",
      "metadata": {
        "id": "NdLPGeFbtOy4"
      },
      "source": [
        "**i) Tuple**\r\n",
        "\r\n",
        "Tuples are used to store multiple items in a single variable.\r\n",
        "\r\n",
        "Tuple is one of 4 built-in data types in Python used to store collections of data, the other 3 are List, Set, and Dictionary, all with different qualities and usage.\r\n",
        "\r\n",
        "A tuple is a collection which is ordered and unchangeable.\r\n",
        "\r\n",
        "Tuples are written with round brackets.\r\n",
        "\r\n",
        "**Example**\r\n",
        "\r\n",
        "Create a Tuple:"
      ]
    },
    {
      "cell_type": "code",
      "metadata": {
        "colab": {
          "base_uri": "https://localhost:8080/"
        },
        "id": "2PjlbI5_tWpl",
        "outputId": "1cc8cda9-5a68-4f28-9dfb-9ac97fe1ff65"
      },
      "source": [
        "thistuple = (\"apple\", \"banana\", \"cherry\")\r\n",
        "print(thistuple)"
      ],
      "execution_count": null,
      "outputs": [
        {
          "output_type": "stream",
          "text": [
            "('apple', 'banana', 'cherry')\n"
          ],
          "name": "stdout"
        }
      ]
    },
    {
      "cell_type": "markdown",
      "metadata": {
        "id": "HlSCbj4GtaOY"
      },
      "source": [
        "**ii) Allow Duplicates**\r\n",
        "\r\n",
        "Since tuple are indexed, tuples can have items with the same value:\r\n",
        "\r\n",
        "**Example**\r\n",
        "\r\n",
        "Tuples allow duplicate values:"
      ]
    },
    {
      "cell_type": "code",
      "metadata": {
        "colab": {
          "base_uri": "https://localhost:8080/"
        },
        "id": "vGgzrK6QthqD",
        "outputId": "3f5e7c91-821f-45de-e34e-a9377299238b"
      },
      "source": [
        "thistuple = (\"apple\", \"banana\", \"cherry\", \"apple\", \"cherry\")\r\n",
        "print(thistuple)"
      ],
      "execution_count": null,
      "outputs": [
        {
          "output_type": "stream",
          "text": [
            "('apple', 'banana', 'cherry', 'apple', 'cherry')\n"
          ],
          "name": "stdout"
        }
      ]
    },
    {
      "cell_type": "markdown",
      "metadata": {
        "id": "7ihOLDAptkzh"
      },
      "source": [
        "**iii) Tuple Length**\r\n",
        "\r\n",
        "To determine how many items a tuple has, use the len() function:\r\n",
        "\r\n",
        "**Example**\r\n",
        "\r\n",
        "Print the number of items in the tuple:"
      ]
    },
    {
      "cell_type": "code",
      "metadata": {
        "colab": {
          "base_uri": "https://localhost:8080/"
        },
        "id": "FJi2wJaYt2yc",
        "outputId": "b27d15ed-976a-45a7-8219-6462768b6626"
      },
      "source": [
        "thistuple = (\"apple\", \"banana\", \"cherry\")\r\n",
        "print(len(thistuple))"
      ],
      "execution_count": null,
      "outputs": [
        {
          "output_type": "stream",
          "text": [
            "3\n"
          ],
          "name": "stdout"
        }
      ]
    },
    {
      "cell_type": "markdown",
      "metadata": {
        "id": "Or0DfbfxuCCw"
      },
      "source": [
        "**iv) Create Tuple With One Item**\r\n",
        "\r\n",
        "To create a tuple with only one item, you have to add a comma after the item, otherwise Python will not recognize it as a tuple.\r\n",
        "\r\n",
        "**Example**\r\n",
        "\r\n",
        "One item tuple, remember the commma:"
      ]
    },
    {
      "cell_type": "code",
      "metadata": {
        "colab": {
          "base_uri": "https://localhost:8080/"
        },
        "id": "fg0tPCFzuJFp",
        "outputId": "9acf2bcf-10c0-476d-b9a6-725bb17176a8"
      },
      "source": [
        "thistuple = (\"apple\",)\r\n",
        "print(type(thistuple))\r\n",
        "\r\n",
        "#NOT a tuple\r\n",
        "thistuple = (\"apple\")\r\n",
        "print(type(thistuple))"
      ],
      "execution_count": null,
      "outputs": [
        {
          "output_type": "stream",
          "text": [
            "<class 'tuple'>\n",
            "<class 'str'>\n"
          ],
          "name": "stdout"
        }
      ]
    },
    {
      "cell_type": "markdown",
      "metadata": {
        "id": "t5efuqJFuMEe"
      },
      "source": [
        "**v) Tuple Items - Data Types**\r\n",
        "\r\n",
        "Tuple items can be of any data type:\r\n",
        "\r\n",
        "**Example**\r\n",
        "\r\n",
        "String, int and boolean data types:"
      ]
    },
    {
      "cell_type": "code",
      "metadata": {
        "colab": {
          "base_uri": "https://localhost:8080/"
        },
        "id": "b1iD6EkkuUHJ",
        "outputId": "2a997f0a-dd75-446a-db71-c5fa816b9be6"
      },
      "source": [
        "tuple1 = (\"apple\", \"banana\", \"cherry\")\r\n",
        "tuple2 = (1, 5, 7, 9, 3)\r\n",
        "tuple3 = (True, False, False)\r\n",
        "\r\n",
        "print(tuple1)\r\n",
        "print(tuple2)\r\n",
        "print(tuple3)"
      ],
      "execution_count": null,
      "outputs": [
        {
          "output_type": "stream",
          "text": [
            "('apple', 'banana', 'cherry')\n",
            "(1, 5, 7, 9, 3)\n",
            "(True, False, False)\n"
          ],
          "name": "stdout"
        }
      ]
    },
    {
      "cell_type": "markdown",
      "metadata": {
        "id": "b7Q_j7GcuZGu"
      },
      "source": [
        "**35) Python - Access Tuple Items**"
      ]
    },
    {
      "cell_type": "markdown",
      "metadata": {
        "id": "i2wGVNoVuiA9"
      },
      "source": [
        "**i) Access Tuple Items**\r\n",
        "\r\n",
        "You can access tuple items by referring to the index number, inside square brackets:\r\n",
        "\r\n",
        "**Example**\r\n",
        "\r\n",
        "Print the second item in the tuple:"
      ]
    },
    {
      "cell_type": "code",
      "metadata": {
        "colab": {
          "base_uri": "https://localhost:8080/"
        },
        "id": "xk0BwWOoupBf",
        "outputId": "a3a201ce-bb5b-4ca8-f195-1e7d1563a0c1"
      },
      "source": [
        "thistuple = (\"apple\", \"banana\", \"cherry\")\r\n",
        "print(thistuple[1])"
      ],
      "execution_count": null,
      "outputs": [
        {
          "output_type": "stream",
          "text": [
            "banana\n"
          ],
          "name": "stdout"
        }
      ]
    },
    {
      "cell_type": "markdown",
      "metadata": {
        "id": "QUZnr-3kusN2"
      },
      "source": [
        "**ii) Negative Indexing**\r\n",
        "\r\n",
        "Negative indexing means start from the end.\r\n",
        "\r\n",
        "-1 refers to the last item, -2 refers to the second last item etc.\r\n",
        "\r\n",
        "**Example**\r\n",
        "\r\n",
        "Print the last item of the tuple:"
      ]
    },
    {
      "cell_type": "code",
      "metadata": {
        "colab": {
          "base_uri": "https://localhost:8080/"
        },
        "id": "YeS4CwfKu94x",
        "outputId": "85cb9261-b35f-44a0-9016-20e1757bddb1"
      },
      "source": [
        "thistuple = (\"apple\", \"banana\", \"cherry\")\r\n",
        "print(thistuple[-1])"
      ],
      "execution_count": null,
      "outputs": [
        {
          "output_type": "stream",
          "text": [
            "cherry\n"
          ],
          "name": "stdout"
        }
      ]
    },
    {
      "cell_type": "markdown",
      "metadata": {
        "id": "YCSVS3C8vBax"
      },
      "source": [
        "**iii) Range of Indexes**\r\n",
        "\r\n",
        "You can specify a range of indexes by specifying where to start and where to end the range.\r\n",
        "\r\n",
        "When specifying a range, the return value will be a new tuple with the specified items.\r\n",
        "\r\n",
        "**Example**\r\n",
        "\r\n",
        "Return the third, fourth, and fifth item:"
      ]
    },
    {
      "cell_type": "code",
      "metadata": {
        "colab": {
          "base_uri": "https://localhost:8080/"
        },
        "id": "HiRhgN9gvI1t",
        "outputId": "5230c75f-bde2-454c-b3b8-a01619c33997"
      },
      "source": [
        "thistuple = (\"apple\", \"banana\", \"cherry\", \"orange\", \"kiwi\", \"melon\", \"mango\")\r\n",
        "print(thistuple[2:5])"
      ],
      "execution_count": null,
      "outputs": [
        {
          "output_type": "stream",
          "text": [
            "('cherry', 'orange', 'kiwi')\n"
          ],
          "name": "stdout"
        }
      ]
    },
    {
      "cell_type": "markdown",
      "metadata": {
        "id": "qZaGCURrvOXp"
      },
      "source": [
        "**iv) Range of Negative Indexes**\r\n",
        "\r\n",
        "Specify negative indexes if you want to start the search from the end of the tuple:\r\n",
        "\r\n",
        "**Example**\r\n",
        "\r\n",
        "This example returns the items from index -4 (included) to index -1 (excluded)"
      ]
    },
    {
      "cell_type": "code",
      "metadata": {
        "colab": {
          "base_uri": "https://localhost:8080/"
        },
        "id": "iRXlds0ivTC9",
        "outputId": "707b96a0-2cc5-48fa-dba8-ac0968d6f06b"
      },
      "source": [
        "thistuple = (\"apple\", \"banana\", \"cherry\", \"orange\", \"kiwi\", \"melon\", \"mango\")\r\n",
        "print(thistuple[-4:-1])"
      ],
      "execution_count": null,
      "outputs": [
        {
          "output_type": "stream",
          "text": [
            "('orange', 'kiwi', 'melon')\n"
          ],
          "name": "stdout"
        }
      ]
    },
    {
      "cell_type": "markdown",
      "metadata": {
        "id": "bjZu7uPwvWs9"
      },
      "source": [
        "**v) Check if Item Exists**\r\n",
        "\r\n",
        "To determine if a specified item is present in a tuple use the in keyword:\r\n",
        "\r\n",
        "**Example**\r\n",
        "\r\n",
        "Check if \"apple\" is present in the tuple:"
      ]
    },
    {
      "cell_type": "code",
      "metadata": {
        "colab": {
          "base_uri": "https://localhost:8080/"
        },
        "id": "5JrwjuL7vdgl",
        "outputId": "f1c10740-880d-4437-a79c-55f16c434b2f"
      },
      "source": [
        "thistuple = (\"apple\", \"banana\", \"cherry\")\r\n",
        "if \"apple\" in thistuple:\r\n",
        "  print(\"Yes, 'apple' is in the fruits tuple\")"
      ],
      "execution_count": null,
      "outputs": [
        {
          "output_type": "stream",
          "text": [
            "Yes, 'apple' is in the fruits tuple\n"
          ],
          "name": "stdout"
        }
      ]
    },
    {
      "cell_type": "markdown",
      "metadata": {
        "id": "KfC1H3-GvjeV"
      },
      "source": [
        "**36) Python - Update Tuples**"
      ]
    },
    {
      "cell_type": "markdown",
      "metadata": {
        "id": "yXAEFsskvouW"
      },
      "source": [
        "**i) Change Tuple Values**\r\n",
        "\r\n",
        "Once a tuple is created, you cannot change its values. Tuples are unchangeable, or immutable as it also is called.\r\n",
        "\r\n",
        "But there is a workaround. You can convert the tuple into a list, change the list, and convert the list back into a tuple.\r\n",
        "\r\n",
        "**Example**\r\n",
        "\r\n",
        "Convert the tuple into a list to be able to change it:"
      ]
    },
    {
      "cell_type": "code",
      "metadata": {
        "colab": {
          "base_uri": "https://localhost:8080/"
        },
        "id": "La8QqpmKvxiT",
        "outputId": "8ea2c92d-fdf7-43d9-c6f0-cfbea5b6e22b"
      },
      "source": [
        "x = (\"apple\", \"banana\", \"cherry\")\r\n",
        "y = list(x)\r\n",
        "y[1] = \"kiwi\"\r\n",
        "x = tuple(y)\r\n",
        "\r\n",
        "print(x)"
      ],
      "execution_count": null,
      "outputs": [
        {
          "output_type": "stream",
          "text": [
            "('apple', 'kiwi', 'cherry')\n"
          ],
          "name": "stdout"
        }
      ]
    },
    {
      "cell_type": "markdown",
      "metadata": {
        "id": "cHBOOiDYv1Tb"
      },
      "source": [
        "**37) Python - Loop Tuples**\r\n"
      ]
    },
    {
      "cell_type": "markdown",
      "metadata": {
        "id": "tt7B1U-6wNzo"
      },
      "source": [
        "**i) Loop Through a Tuple**\r\n",
        "\r\n",
        "You can loop through the tuple items by using a for loop.\r\n",
        "\r\n",
        "**Example**\r\n",
        "\r\n",
        "Iterate through the items and print the values:"
      ]
    },
    {
      "cell_type": "code",
      "metadata": {
        "colab": {
          "base_uri": "https://localhost:8080/"
        },
        "id": "olKaiyfywWw8",
        "outputId": "2dd1bc0d-ef2d-4f52-9eaa-18f54b1733b8"
      },
      "source": [
        "thistuple = (\"apple\", \"banana\", \"cherry\")\r\n",
        "for x in thistuple:\r\n",
        "  print(x)"
      ],
      "execution_count": null,
      "outputs": [
        {
          "output_type": "stream",
          "text": [
            "apple\n",
            "banana\n",
            "cherry\n"
          ],
          "name": "stdout"
        }
      ]
    },
    {
      "cell_type": "markdown",
      "metadata": {
        "id": "KsQSXFz1wbc8"
      },
      "source": [
        "**ii) Loop Through the Index Numbers**\r\n",
        "\r\n",
        "You can also loop through the tuple items by referring to their index number.\r\n",
        "\r\n",
        "Use the **range()** and **len()** functions to create a suitable iterable.\r\n",
        "\r\n",
        "**Example**\r\n",
        "\r\n",
        "Print all items by referring to their index number:"
      ]
    },
    {
      "cell_type": "code",
      "metadata": {
        "colab": {
          "base_uri": "https://localhost:8080/"
        },
        "id": "lnEjJPfMwogU",
        "outputId": "3310599e-bf43-4560-8701-713124b795b4"
      },
      "source": [
        "thistuple = (\"apple\", \"banana\", \"cherry\")\r\n",
        "for i in range(len(thistuple)):\r\n",
        "  print(thistuple[i])"
      ],
      "execution_count": null,
      "outputs": [
        {
          "output_type": "stream",
          "text": [
            "apple\n",
            "banana\n",
            "cherry\n"
          ],
          "name": "stdout"
        }
      ]
    },
    {
      "cell_type": "markdown",
      "metadata": {
        "id": "9DG88zrewsz6"
      },
      "source": [
        "**38) Python - Join Tuples**"
      ]
    },
    {
      "cell_type": "markdown",
      "metadata": {
        "id": "nJCChhL9wzmj"
      },
      "source": [
        "**i) Join Two Tuples**\r\n",
        "\r\n",
        "To join two or more tuples you can use the + operator:\r\n",
        "\r\n",
        "**Example**\r\n",
        "\r\n",
        "Join two tuples:"
      ]
    },
    {
      "cell_type": "code",
      "metadata": {
        "colab": {
          "base_uri": "https://localhost:8080/"
        },
        "id": "dJKOwizxw6hI",
        "outputId": "6048bf30-e6f6-411c-9ba4-95ba85b813fd"
      },
      "source": [
        "tuple1 = (\"a\", \"b\" , \"c\")\r\n",
        "tuple2 = (1, 2, 3)\r\n",
        "\r\n",
        "tuple3 = tuple1 + tuple2\r\n",
        "print(tuple3)"
      ],
      "execution_count": null,
      "outputs": [
        {
          "output_type": "stream",
          "text": [
            "('a', 'b', 'c', 1, 2, 3)\n"
          ],
          "name": "stdout"
        }
      ]
    },
    {
      "cell_type": "markdown",
      "metadata": {
        "id": "jl5HQWjHw-D7"
      },
      "source": [
        "**ii) Multiply Tuples**\r\n",
        "\r\n",
        "If you want to multiply the content of a tuple a given number of times, you can use the *  operator:\r\n",
        "\r\n",
        "**Example**\r\n",
        "\r\n",
        "Multiply the fruits tuple by 2:"
      ]
    },
    {
      "cell_type": "code",
      "metadata": {
        "colab": {
          "base_uri": "https://localhost:8080/"
        },
        "id": "yN-M9jXCxFsP",
        "outputId": "d26f47dc-a764-4eff-b055-e5b8d3a6a453"
      },
      "source": [
        "fruits = (\"apple\", \"banana\", \"cherry\")\r\n",
        "mytuple = fruits * 2\r\n",
        "\r\n",
        "print(mytuple)\r\n"
      ],
      "execution_count": null,
      "outputs": [
        {
          "output_type": "stream",
          "text": [
            "('apple', 'banana', 'cherry', 'apple', 'banana', 'cherry')\n"
          ],
          "name": "stdout"
        }
      ]
    },
    {
      "cell_type": "markdown",
      "metadata": {
        "id": "UUrEvlEzxQXV"
      },
      "source": [
        "**39) Python Sets**"
      ]
    },
    {
      "cell_type": "markdown",
      "metadata": {
        "id": "gQJOHFK1xYxv"
      },
      "source": [
        "**i) Set**\r\n",
        "\r\n",
        "Sets are used to store multiple items in a single variable.\r\n",
        "\r\n",
        "Set is one of 4 built-in data types in Python used to store collections of data, the other 3 are List, Tuple, and Dictionary, all with different qualities and usage.\r\n",
        "\r\n",
        "A set is a collection which is both unordered and unindexed.\r\n",
        "\r\n",
        "Sets are written with curly brackets."
      ]
    },
    {
      "cell_type": "markdown",
      "metadata": {
        "id": "DTgO-0MOxdmu"
      },
      "source": [
        "**Example**\r\n",
        "\r\n",
        "Create a Set:"
      ]
    },
    {
      "cell_type": "code",
      "metadata": {
        "colab": {
          "base_uri": "https://localhost:8080/"
        },
        "id": "eBlLrwlfxiOL",
        "outputId": "beb3d449-48b7-4e7f-a64e-5f1f60b7f6bd"
      },
      "source": [
        "thisset = {\"apple\", \"banana\", \"cherry\"}\r\n",
        "print(thisset)\r\n"
      ],
      "execution_count": null,
      "outputs": [
        {
          "output_type": "stream",
          "text": [
            "{'banana', 'apple', 'cherry'}\n"
          ],
          "name": "stdout"
        }
      ]
    },
    {
      "cell_type": "markdown",
      "metadata": {
        "id": "cyrqvv9CxlZF"
      },
      "source": [
        "**ii) Duplicates Not Allowed**\r\n",
        "\r\n",
        "Sets cannot have two items with the same value.\r\n",
        "\r\n",
        "**Example**\r\n",
        "\r\n",
        "Duplicate values will be ignored:"
      ]
    },
    {
      "cell_type": "code",
      "metadata": {
        "colab": {
          "base_uri": "https://localhost:8080/"
        },
        "id": "Knmg7almxtEL",
        "outputId": "65f2b97e-06f6-4bd3-9d88-c1567ee3ae79"
      },
      "source": [
        "thisset = {\"apple\", \"banana\", \"cherry\", \"apple\"}\r\n",
        "\r\n",
        "print(thisset)"
      ],
      "execution_count": null,
      "outputs": [
        {
          "output_type": "stream",
          "text": [
            "{'banana', 'apple', 'cherry'}\n"
          ],
          "name": "stdout"
        }
      ]
    },
    {
      "cell_type": "markdown",
      "metadata": {
        "id": "SxeTfgvjx0-I"
      },
      "source": [
        "**iii) Get the Length of a Set**\r\n",
        "\r\n",
        "To determine how many items a set has, use the len() method.\r\n",
        "\r\n",
        "**Example**\r\n",
        "\r\n",
        "Get the number of items in a set:"
      ]
    },
    {
      "cell_type": "code",
      "metadata": {
        "colab": {
          "base_uri": "https://localhost:8080/"
        },
        "id": "wprceqGzx7fz",
        "outputId": "b9fcc0e6-507e-4431-9182-e303e41ba514"
      },
      "source": [
        "thisset = {\"apple\", \"banana\", \"cherry\"}\r\n",
        "\r\n",
        "print(len(thisset))\r\n"
      ],
      "execution_count": null,
      "outputs": [
        {
          "output_type": "stream",
          "text": [
            "3\n"
          ],
          "name": "stdout"
        }
      ]
    },
    {
      "cell_type": "markdown",
      "metadata": {
        "id": "YFEYHbpwyCjp"
      },
      "source": [
        "**iv) Set Items - Data Types**\r\n",
        "\r\n",
        "Set items can be of any data type:\r\n",
        "\r\n",
        "**Example**\r\n",
        "\r\n",
        "String, int and boolean data types:"
      ]
    },
    {
      "cell_type": "code",
      "metadata": {
        "colab": {
          "base_uri": "https://localhost:8080/"
        },
        "id": "iwHNGyzpyI1S",
        "outputId": "7d564fd6-d8a1-4377-a957-2d1d0d5c26fe"
      },
      "source": [
        "set1 = {\"apple\", \"banana\", \"cherry\"}\r\n",
        "set2 = {1, 5, 7, 9, 3}\r\n",
        "set3 = {True, False, False}\r\n",
        "\r\n",
        "print(set1)\r\n",
        "print(set2)\r\n",
        "print(set3)"
      ],
      "execution_count": null,
      "outputs": [
        {
          "output_type": "stream",
          "text": [
            "{'banana', 'apple', 'cherry'}\n",
            "{1, 3, 5, 7, 9}\n",
            "{False, True}\n"
          ],
          "name": "stdout"
        }
      ]
    },
    {
      "cell_type": "markdown",
      "metadata": {
        "id": "GFGDqO_SySp5"
      },
      "source": [
        "**40) Python - Access Set Items**"
      ]
    },
    {
      "cell_type": "markdown",
      "metadata": {
        "id": "0wErJyJPyVEr"
      },
      "source": [
        "**i) Access Items**\r\n",
        "\r\n",
        "You cannot access items in a set by referring to an index or a key.\r\n",
        "\r\n",
        "But you can loop through the set items using a for loop, or ask if a specified value is present in a set, by using the in keyword.\r\n",
        "\r\n",
        "**Example**\r\n",
        "\r\n",
        "Loop through the set, and print the values:"
      ]
    },
    {
      "cell_type": "code",
      "metadata": {
        "colab": {
          "base_uri": "https://localhost:8080/"
        },
        "id": "VlfkPSWZydBX",
        "outputId": "c1938701-d399-4a13-a783-68510d12d02d"
      },
      "source": [
        "thisset = {\"apple\", \"banana\", \"cherry\"}\r\n",
        "\r\n",
        "for x in thisset:\r\n",
        "  print(x)"
      ],
      "execution_count": null,
      "outputs": [
        {
          "output_type": "stream",
          "text": [
            "banana\n",
            "apple\n",
            "cherry\n"
          ],
          "name": "stdout"
        }
      ]
    },
    {
      "cell_type": "markdown",
      "metadata": {
        "id": "mUh0ffFnyj7K"
      },
      "source": [
        "**41) Python - Add Set Items**"
      ]
    },
    {
      "cell_type": "markdown",
      "metadata": {
        "id": "7titUVtOymQj"
      },
      "source": [
        "**i) Add Items**\r\n",
        "To add one item to a set use the **add()**method.\r\n",
        "\r\n",
        "**Example**\r\n",
        "\r\n",
        "Add an item to a set, using the **add()**method:"
      ]
    },
    {
      "cell_type": "code",
      "metadata": {
        "colab": {
          "base_uri": "https://localhost:8080/"
        },
        "id": "YUeIOUkyyy4J",
        "outputId": "bae17e92-93f7-40a3-f57b-b0c52967db89"
      },
      "source": [
        "thisset = {\"apple\", \"banana\", \"cherry\"}\r\n",
        "\r\n",
        "thisset.add(\"orange\")\r\n",
        "\r\n",
        "print(thisset)\r\n"
      ],
      "execution_count": null,
      "outputs": [
        {
          "output_type": "stream",
          "text": [
            "{'banana', 'apple', 'orange', 'cherry'}\n"
          ],
          "name": "stdout"
        }
      ]
    },
    {
      "cell_type": "markdown",
      "metadata": {
        "id": "q179_QSIy22q"
      },
      "source": [
        "**ii) Add Sets**\r\n",
        "\r\n",
        "To add items from another set into the current set, use the update() method.\r\n",
        "\r\n",
        "**Example**\r\n",
        "\r\n",
        "Add elements from tropical and thisset into newset:"
      ]
    },
    {
      "cell_type": "code",
      "metadata": {
        "colab": {
          "base_uri": "https://localhost:8080/"
        },
        "id": "NuuHyCr2zCTV",
        "outputId": "aa48a839-1f15-49af-c592-d1ae5bbbc84c"
      },
      "source": [
        "thisset = {\"apple\", \"banana\", \"cherry\"}\r\n",
        "tropical = {\"pineapple\", \"mango\", \"papaya\"}\r\n",
        "\r\n",
        "thisset.update(tropical)\r\n",
        "\r\n",
        "print(thisset)"
      ],
      "execution_count": null,
      "outputs": [
        {
          "output_type": "stream",
          "text": [
            "{'cherry', 'mango', 'pineapple', 'banana', 'apple', 'papaya'}\n"
          ],
          "name": "stdout"
        }
      ]
    },
    {
      "cell_type": "markdown",
      "metadata": {
        "id": "zGmTVYuNzGI0"
      },
      "source": [
        "**iii) Add Any Iterable**\r\n",
        "\r\n",
        "The object in the **update()**method does not have be a set, it can be any iterable object (tuples, lists, dictionaries etc.).\r\n",
        "\r\n",
        "**Example**\r\n",
        "\r\n",
        "Add elements of a list to at set:"
      ]
    },
    {
      "cell_type": "code",
      "metadata": {
        "colab": {
          "base_uri": "https://localhost:8080/"
        },
        "id": "SlIbO3yMzQEZ",
        "outputId": "51c8e889-2c57-4bed-8673-f5290da2d874"
      },
      "source": [
        "thisset = {\"apple\", \"banana\", \"cherry\"}\r\n",
        "mylist = [\"kiwi\", \"orange\"]\r\n",
        "\r\n",
        "thisset.update(mylist)\r\n",
        "\r\n",
        "print(thisset)"
      ],
      "execution_count": null,
      "outputs": [
        {
          "output_type": "stream",
          "text": [
            "{'cherry', 'banana', 'orange', 'kiwi', 'apple'}\n"
          ],
          "name": "stdout"
        }
      ]
    },
    {
      "cell_type": "markdown",
      "metadata": {
        "id": "K47QcJfyzUJv"
      },
      "source": [
        "**42) Python - Remove Set Items**"
      ]
    },
    {
      "cell_type": "markdown",
      "metadata": {
        "id": "kxINYpN-zYXC"
      },
      "source": [
        "**i) Remove Item**\r\n",
        "To remove an item in a set, use the **remove()**, or the **discard()**method.\r\n",
        "\r\n",
        "**Example**\r\n",
        "\r\n",
        "Remove \"banana\" by using the **remove()** method:"
      ]
    },
    {
      "cell_type": "code",
      "metadata": {
        "colab": {
          "base_uri": "https://localhost:8080/"
        },
        "id": "DB21fKpPziLe",
        "outputId": "1cfbf99e-d71f-4ca2-d8d3-9423af7eb662"
      },
      "source": [
        "thisset = {\"apple\", \"banana\", \"cherry\"}\r\n",
        "\r\n",
        "thisset.remove(\"banana\")\r\n",
        "\r\n",
        "print(thisset)"
      ],
      "execution_count": null,
      "outputs": [
        {
          "output_type": "stream",
          "text": [
            "{'apple', 'cherry'}\n"
          ],
          "name": "stdout"
        }
      ]
    },
    {
      "cell_type": "markdown",
      "metadata": {
        "id": "K9GaADs9zrSj"
      },
      "source": [
        "**ii) Example**\r\n",
        "\r\n",
        "Remove \"banana\" by using the **discard()** method:"
      ]
    },
    {
      "cell_type": "code",
      "metadata": {
        "colab": {
          "base_uri": "https://localhost:8080/"
        },
        "id": "-ZFg28Xmzv5r",
        "outputId": "bcf30ce6-8d32-4d02-ccae-3739b45a6bb8"
      },
      "source": [
        "thisset = {\"apple\", \"banana\", \"cherry\"}\r\n",
        "\r\n",
        "thisset.discard(\"banana\")\r\n",
        "\r\n",
        "print(thisset)"
      ],
      "execution_count": null,
      "outputs": [
        {
          "output_type": "stream",
          "text": [
            "{'apple', 'cherry'}\n"
          ],
          "name": "stdout"
        }
      ]
    },
    {
      "cell_type": "markdown",
      "metadata": {
        "id": "77_L7ZGmzz_8"
      },
      "source": [
        "**43) Python - Loop Sets**"
      ]
    },
    {
      "cell_type": "markdown",
      "metadata": {
        "id": "OPkCnRldz6GM"
      },
      "source": [
        "**i) Loop Items**\r\n",
        "\r\n",
        "You can loop through the set items by using a **for**loop:\r\n",
        "\r\n",
        "**Example**\r\n",
        "\r\n",
        "Loop through the set, and print the values:"
      ]
    },
    {
      "cell_type": "code",
      "metadata": {
        "colab": {
          "base_uri": "https://localhost:8080/"
        },
        "id": "unzyXYqH0A7E",
        "outputId": "2ba2015c-55e3-4b1c-ae70-288028dde4e6"
      },
      "source": [
        "thisset = {\"apple\", \"banana\", \"cherry\"}\r\n",
        "\r\n",
        "for x in thisset:\r\n",
        "  print(x)"
      ],
      "execution_count": null,
      "outputs": [
        {
          "output_type": "stream",
          "text": [
            "banana\n",
            "apple\n",
            "cherry\n"
          ],
          "name": "stdout"
        }
      ]
    },
    {
      "cell_type": "markdown",
      "metadata": {
        "id": "H_sjuTE80GZi"
      },
      "source": [
        "**44) Python Dictionaries**"
      ]
    },
    {
      "cell_type": "markdown",
      "metadata": {
        "id": "pIRZ_hxH0tpm"
      },
      "source": [
        "**i) Dictionary**\r\n",
        "\r\n",
        "Dictionaries are used to store data values in key:value pairs.\r\n",
        "\r\n",
        "A dictionary is a collection which is ordered*, changeable and does not allow duplicates."
      ]
    },
    {
      "cell_type": "markdown",
      "metadata": {
        "id": "HwHhNofc0xfz"
      },
      "source": [
        "Dictionaries are written with curly brackets, and have keys and values:\r\n",
        "\r\n",
        "**Example**\r\n",
        "\r\n",
        "Create and print a dictionary:"
      ]
    },
    {
      "cell_type": "code",
      "metadata": {
        "colab": {
          "base_uri": "https://localhost:8080/"
        },
        "id": "Bx9NXJRp08Ht",
        "outputId": "bf210907-4835-49c3-9b60-c39bf41319f8"
      },
      "source": [
        "thisdict = {\r\n",
        "  \"brand\": \"Ford\",\r\n",
        "  \"model\": \"Mustang\",\r\n",
        "  \"year\": 1964\r\n",
        "}\r\n",
        "print(thisdict)"
      ],
      "execution_count": null,
      "outputs": [
        {
          "output_type": "stream",
          "text": [
            "{'brand': 'Ford', 'model': 'Mustang', 'year': 1964}\n"
          ],
          "name": "stdout"
        }
      ]
    },
    {
      "cell_type": "markdown",
      "metadata": {
        "id": "Yf3OMkEL0_uy"
      },
      "source": [
        "**ii) Dictionary Items**\r\n",
        "\r\n",
        "Dictionary items are ordered, changeable, and does not allow duplicates.\r\n",
        "\r\n",
        "Dictionary items are presented in key:value pairs, and can be referred to by using the key name.\r\n",
        "\r\n",
        "**Example**\r\n",
        "\r\n",
        "Print the \"brand\" value of the dictionary:"
      ]
    },
    {
      "cell_type": "code",
      "metadata": {
        "colab": {
          "base_uri": "https://localhost:8080/"
        },
        "id": "aeBElxRE1Gtc",
        "outputId": "7c0400b5-0aa2-43cd-96bc-33d958a2963d"
      },
      "source": [
        "thisdict = {\r\n",
        "  \"brand\": \"Ford\",\r\n",
        "  \"model\": \"Mustang\",\r\n",
        "  \"year\": 1964\r\n",
        "}\r\n",
        "print(thisdict[\"brand\"])"
      ],
      "execution_count": null,
      "outputs": [
        {
          "output_type": "stream",
          "text": [
            "Ford\n"
          ],
          "name": "stdout"
        }
      ]
    },
    {
      "cell_type": "markdown",
      "metadata": {
        "id": "ESJntyBi1KPQ"
      },
      "source": [
        "**iii) Duplicates Not Allowed**\r\n",
        "\r\n",
        "Dictionaries cannot have two items with the same key:\r\n",
        "\r\n",
        "**Example**\r\n",
        "\r\n",
        "Duplicate values will overwrite existing values:"
      ]
    },
    {
      "cell_type": "code",
      "metadata": {
        "colab": {
          "base_uri": "https://localhost:8080/"
        },
        "id": "_mHZoj7b1SMd",
        "outputId": "fc7d9a72-0aa4-40e0-b32c-5e7f8d9ab3ea"
      },
      "source": [
        "thisdict = {\r\n",
        "  \"brand\": \"Ford\",\r\n",
        "  \"model\": \"Mustang\",\r\n",
        "  \"year\": 1964,\r\n",
        "  \"year\": 2020\r\n",
        "}\r\n",
        "print(thisdict)"
      ],
      "execution_count": null,
      "outputs": [
        {
          "output_type": "stream",
          "text": [
            "{'brand': 'Ford', 'model': 'Mustang', 'year': 2020}\n"
          ],
          "name": "stdout"
        }
      ]
    },
    {
      "cell_type": "markdown",
      "metadata": {
        "id": "YLgGkGPS1VaY"
      },
      "source": [
        "**iv) Dictionary Length**\r\n",
        "\r\n",
        "To determine how many items a dictionary has, use the **len()** function:\r\n",
        "\r\n",
        "**Example**\r\n",
        "\r\n",
        "Print the number of items in the dictionary:"
      ]
    },
    {
      "cell_type": "code",
      "metadata": {
        "colab": {
          "base_uri": "https://localhost:8080/"
        },
        "id": "VBt7vthR1e9D",
        "outputId": "7712af57-4e1b-4392-953d-191bbb4e9138"
      },
      "source": [
        "print(len(thisdict))"
      ],
      "execution_count": null,
      "outputs": [
        {
          "output_type": "stream",
          "text": [
            "3\n"
          ],
          "name": "stdout"
        }
      ]
    },
    {
      "cell_type": "markdown",
      "metadata": {
        "id": "TZG_lZxJ1lMH"
      },
      "source": [
        "**v) Dictionary Items - Data Types**\r\n",
        "\r\n",
        "The values in dictionary items can be of any data type:\r\n",
        "\r\n",
        "**Example**\r\n",
        "\r\n",
        "String, int, boolean, and list data types:"
      ]
    },
    {
      "cell_type": "code",
      "metadata": {
        "colab": {
          "base_uri": "https://localhost:8080/"
        },
        "id": "M0_lBOBJ1s-o",
        "outputId": "deb90dd5-5440-4fc7-de59-fd08e863e81f"
      },
      "source": [
        "thisdict = {\r\n",
        "  \"brand\": \"Ford\",\r\n",
        "  \"electric\": False,\r\n",
        "  \"year\": 1964,\r\n",
        "  \"colors\": [\"red\", \"white\", \"blue\"]\r\n",
        "}\r\n",
        "print(thisdict)"
      ],
      "execution_count": null,
      "outputs": [
        {
          "output_type": "stream",
          "text": [
            "{'brand': 'Ford', 'electric': False, 'year': 1964, 'colors': ['red', 'white', 'blue']}\n"
          ],
          "name": "stdout"
        }
      ]
    },
    {
      "cell_type": "markdown",
      "metadata": {
        "id": "J2v1t5o31weq"
      },
      "source": [
        "**vi) type()**\r\n",
        "\r\n",
        "From Python's perspective, dictionaries are defined as objects with the data type 'dict':\r\n",
        "\r\n",
        "<class 'dict'>\r\n",
        "\r\n",
        "**Example**\r\n",
        "\r\n",
        "Print the data type of a dictionary:"
      ]
    },
    {
      "cell_type": "code",
      "metadata": {
        "colab": {
          "base_uri": "https://localhost:8080/"
        },
        "id": "SwSEbQqz14t_",
        "outputId": "ed09be88-ee7e-4120-9fbb-45acfdb79612"
      },
      "source": [
        "thisdict = {\r\n",
        "  \"brand\": \"Ford\",\r\n",
        "  \"model\": \"Mustang\",\r\n",
        "  \"year\": 1964\r\n",
        "}\r\n",
        "print(type(thisdict))"
      ],
      "execution_count": null,
      "outputs": [
        {
          "output_type": "stream",
          "text": [
            "<class 'dict'>\n"
          ],
          "name": "stdout"
        }
      ]
    },
    {
      "cell_type": "markdown",
      "metadata": {
        "id": "zxz3c5nL2Lue"
      },
      "source": [
        "**45) Python - Access Dictionary Items**\r\n"
      ]
    },
    {
      "cell_type": "markdown",
      "metadata": {
        "id": "UVElqW1j2TLA"
      },
      "source": [
        "**i) Accessing Items**\r\n",
        "\r\n",
        "You can access the items of a dictionary by referring to its key name, inside square brackets:\r\n",
        "\r\n",
        "**Example**\r\n",
        "\r\n",
        "Get the value of the \"model\" key:"
      ]
    },
    {
      "cell_type": "code",
      "metadata": {
        "colab": {
          "base_uri": "https://localhost:8080/"
        },
        "id": "EzmSVZXP2aDm",
        "outputId": "f9585883-b2d1-445a-e5b1-5e776069ad29"
      },
      "source": [
        "thisdict = {\r\n",
        "  \"brand\": \"Ford\",\r\n",
        "  \"model\": \"Mustang\",\r\n",
        "  \"year\": 1964\r\n",
        "}\r\n",
        "x = thisdict[\"model\"]\r\n",
        "print(x)"
      ],
      "execution_count": null,
      "outputs": [
        {
          "output_type": "stream",
          "text": [
            "Mustang\n"
          ],
          "name": "stdout"
        }
      ]
    },
    {
      "cell_type": "markdown",
      "metadata": {
        "id": "1E0reIrW3Jzw"
      },
      "source": [
        "**ii) Get Keys**\r\n",
        "\r\n",
        "The keys() method will return a list of all the keys in the dictionary.\r\n",
        "\r\n",
        "**Example**\r\n",
        "\r\n",
        "Get a list of the keys:"
      ]
    },
    {
      "cell_type": "code",
      "metadata": {
        "colab": {
          "base_uri": "https://localhost:8080/"
        },
        "id": "aN6SIBhZ3S57",
        "outputId": "503da941-fb9d-4ca2-e4f6-4b2b7e8593ad"
      },
      "source": [
        "thisdict = {\r\n",
        "  \"brand\": \"Ford\",\r\n",
        "  \"model\": \"Mustang\",\r\n",
        "  \"year\": 1964\r\n",
        "}\r\n",
        "\r\n",
        "x = thisdict.keys()\r\n",
        "\r\n",
        "print(x)"
      ],
      "execution_count": null,
      "outputs": [
        {
          "output_type": "stream",
          "text": [
            "dict_keys(['brand', 'model', 'year'])\n"
          ],
          "name": "stdout"
        }
      ]
    },
    {
      "cell_type": "markdown",
      "metadata": {
        "id": "HbPiCZNu3bY-"
      },
      "source": [
        "**iii) Get Values**\r\n",
        "\r\n",
        "The values() method will return a list of all the values in the dictionary.\r\n",
        "\r\n",
        "**Example**\r\n",
        "\r\n",
        "Get a list of the values:"
      ]
    },
    {
      "cell_type": "code",
      "metadata": {
        "colab": {
          "base_uri": "https://localhost:8080/"
        },
        "id": "LLg9_gKl3hDM",
        "outputId": "ab74ef19-f129-4a7e-dbe0-e1a8068ea5eb"
      },
      "source": [
        "thisdict = {\r\n",
        "  \"brand\": \"Ford\",\r\n",
        "  \"model\": \"Mustang\",\r\n",
        "  \"year\": 1964\r\n",
        "}\r\n",
        "\r\n",
        "x = thisdict.values()\r\n",
        "\r\n",
        "print(x)"
      ],
      "execution_count": null,
      "outputs": [
        {
          "output_type": "stream",
          "text": [
            "dict_values(['Ford', 'Mustang', 1964])\n"
          ],
          "name": "stdout"
        }
      ]
    },
    {
      "cell_type": "markdown",
      "metadata": {
        "id": "3PJFyxei3rO1"
      },
      "source": [
        "**46) Python - Change Dictionary Items**"
      ]
    },
    {
      "cell_type": "markdown",
      "metadata": {
        "id": "JfJqspRA3vDs"
      },
      "source": [
        "**i) Change Values**\r\n",
        "\r\n",
        "You can change the value of a specific item by referring to its key name:\r\n",
        "\r\n",
        "**Example**\r\n",
        "\r\n",
        "Change the \"year\" to 2018:"
      ]
    },
    {
      "cell_type": "code",
      "metadata": {
        "colab": {
          "base_uri": "https://localhost:8080/"
        },
        "id": "tZwdPOT_38vU",
        "outputId": "24feff3a-4e80-4c66-e148-275fb63462a6"
      },
      "source": [
        "thisdict =\t{\r\n",
        "  \"brand\": \"Ford\",\r\n",
        "  \"model\": \"Mustang\",\r\n",
        "  \"year\": 1964\r\n",
        "}\r\n",
        "\r\n",
        "thisdict[\"year\"] = 2018\r\n",
        "\r\n",
        "print(thisdict)\r\n"
      ],
      "execution_count": null,
      "outputs": [
        {
          "output_type": "stream",
          "text": [
            "{'brand': 'Ford', 'model': 'Mustang', 'year': 2018}\n"
          ],
          "name": "stdout"
        }
      ]
    },
    {
      "cell_type": "markdown",
      "metadata": {
        "id": "VVwJNaxL4DCq"
      },
      "source": [
        "**ii) Update Dictionary**\r\n",
        "\r\n",
        "The **update()** method will update the dictionary with the items from the given argument.\r\n",
        "\r\n",
        "The argument must be a dictionary, or an iterable object with key:value pairs.\r\n",
        "\r\n",
        "**Example**\r\n",
        "\r\n",
        "Update the \"year\" of the car by using the update() method:"
      ]
    },
    {
      "cell_type": "code",
      "metadata": {
        "colab": {
          "base_uri": "https://localhost:8080/"
        },
        "id": "UT8KDZlL4Lsj",
        "outputId": "43247f74-f423-4362-fc9d-85da191c6437"
      },
      "source": [
        "thisdict = {\r\n",
        "  \"brand\": \"Ford\",\r\n",
        "  \"model\": \"Mustang\",\r\n",
        "  \"year\": 1964\r\n",
        "}\r\n",
        "thisdict.update({\"year\": 2020})\r\n",
        "\r\n",
        "print(thisdict)"
      ],
      "execution_count": null,
      "outputs": [
        {
          "output_type": "stream",
          "text": [
            "{'brand': 'Ford', 'model': 'Mustang', 'year': 2020}\n"
          ],
          "name": "stdout"
        }
      ]
    },
    {
      "cell_type": "markdown",
      "metadata": {
        "id": "-KO2E9cF4QzY"
      },
      "source": [
        "**47) Python - Add Dictionary Items**"
      ]
    },
    {
      "cell_type": "markdown",
      "metadata": {
        "id": "_M4O_1fl4XMW"
      },
      "source": [
        "**i) Adding Items**\r\n",
        "\r\n",
        "Adding an item to the dictionary is done by using a new index key and assigning a value to it:\r\n",
        "\r\n",
        "**Example**"
      ]
    },
    {
      "cell_type": "code",
      "metadata": {
        "colab": {
          "base_uri": "https://localhost:8080/"
        },
        "id": "3GUeoN3C4h89",
        "outputId": "87d002e2-56d5-4f3b-fe60-5d006d4c0bf6"
      },
      "source": [
        "thisdict = {\r\n",
        "  \"brand\": \"Ford\",\r\n",
        "  \"model\": \"Mustang\",\r\n",
        "  \"year\": 1964\r\n",
        "}\r\n",
        "thisdict[\"color\"] = \"red\"\r\n",
        "print(thisdict)"
      ],
      "execution_count": null,
      "outputs": [
        {
          "output_type": "stream",
          "text": [
            "{'brand': 'Ford', 'model': 'Mustang', 'year': 1964, 'color': 'red'}\n"
          ],
          "name": "stdout"
        }
      ]
    },
    {
      "cell_type": "markdown",
      "metadata": {
        "id": "o-Wqh0qp4nMQ"
      },
      "source": [
        "**ii) Update Dictionary**\r\n",
        "\r\n",
        "The **update()** method will update the dictionary with the items from a given argument. If the item does not exist, the item will be added.\r\n",
        "\r\n",
        "The argument must be a dictionary, or an iterable object with key:value pairs.\r\n",
        "\r\n",
        "**Example**\r\n",
        "\r\n",
        "Add a color item to the dictionary by using the update() method:"
      ]
    },
    {
      "cell_type": "code",
      "metadata": {
        "colab": {
          "base_uri": "https://localhost:8080/"
        },
        "id": "Kb81urPj4wmP",
        "outputId": "05a31c57-a72d-4320-b9bd-5498e06c41ed"
      },
      "source": [
        "thisdict = {\r\n",
        "  \"brand\": \"Ford\",\r\n",
        "  \"model\": \"Mustang\",\r\n",
        "  \"year\": 1964\r\n",
        "}\r\n",
        "thisdict.update({\"color\": \"red\"})\r\n",
        "print(thisdict)\r\n"
      ],
      "execution_count": null,
      "outputs": [
        {
          "output_type": "stream",
          "text": [
            "{'brand': 'Ford', 'model': 'Mustang', 'year': 1964, 'color': 'red'}\n"
          ],
          "name": "stdout"
        }
      ]
    },
    {
      "cell_type": "markdown",
      "metadata": {
        "id": "XD9r867145PS"
      },
      "source": [
        "**48) Python - Loop Dictionaries**"
      ]
    },
    {
      "cell_type": "markdown",
      "metadata": {
        "id": "z2bcroXE5AyG"
      },
      "source": [
        "**i) Loop Through a Dictionary**\r\n",
        "\r\n",
        "You can loop through a dictionary by using a **for** loop.\r\n",
        "\r\n",
        "When looping through a dictionary, the return value are the keys of the dictionary, but there are methods to return the values as well.\r\n",
        "\r\n",
        "**Example**\r\n",
        "\r\n",
        "Print all key names in the dictionary, one by one:"
      ]
    },
    {
      "cell_type": "code",
      "metadata": {
        "colab": {
          "base_uri": "https://localhost:8080/"
        },
        "id": "1JWgsYSo5Spv",
        "outputId": "478930d3-2fa0-4023-d0a5-af7f51c40147"
      },
      "source": [
        "thisdict =\t{\r\n",
        "  \"brand\": \"Ford\",\r\n",
        "  \"model\": \"Mustang\",\r\n",
        "  \"year\": 1964\r\n",
        "}\r\n",
        "for x in thisdict:\r\n",
        "  print(x)\r\n"
      ],
      "execution_count": null,
      "outputs": [
        {
          "output_type": "stream",
          "text": [
            "brand\n",
            "model\n",
            "year\n"
          ],
          "name": "stdout"
        }
      ]
    },
    {
      "cell_type": "markdown",
      "metadata": {
        "id": "QMXDEEaB5bQJ"
      },
      "source": [
        "**ii) Example**\r\n",
        "\r\n",
        "You can also use the **values()** method to return values of a dictionary:\r\n",
        "\r\n"
      ]
    },
    {
      "cell_type": "code",
      "metadata": {
        "colab": {
          "base_uri": "https://localhost:8080/"
        },
        "id": "YLSHqB8n5h-r",
        "outputId": "7c88cf6c-1798-4cc7-8204-a69c678fdf25"
      },
      "source": [
        "thisdict =\t{\r\n",
        "  \"brand\": \"Ford\",\r\n",
        "  \"model\": \"Mustang\",\r\n",
        "  \"year\": 1964\r\n",
        "}\r\n",
        "for x in thisdict.values():\r\n",
        "  print(x)"
      ],
      "execution_count": null,
      "outputs": [
        {
          "output_type": "stream",
          "text": [
            "Ford\n",
            "Mustang\n",
            "1964\n"
          ],
          "name": "stdout"
        }
      ]
    },
    {
      "cell_type": "markdown",
      "metadata": {
        "id": "KFbS-PuH5t17"
      },
      "source": [
        "**49)Python - Copy Dictionaries**"
      ]
    },
    {
      "cell_type": "markdown",
      "metadata": {
        "id": "Gs_Fn27V6W3l"
      },
      "source": [
        "**i) Copy a Dictionary**\r\n",
        "\r\n",
        "You cannot copy a dictionary simply by typing **dict2**= **dict1**, because: **dict2** will only be a reference to **dict1**, and changes made in **dict1** will automatically also be made in **dict2**.\r\n",
        "\r\n",
        "There are ways to make a copy, one way is to use the built-in Dictionary method copy()."
      ]
    },
    {
      "cell_type": "markdown",
      "metadata": {
        "id": "qHgDOljj6nD5"
      },
      "source": [
        "**Example**\r\n",
        "\r\n",
        "Make a copy of a dictionary with the **copy()**method:"
      ]
    },
    {
      "cell_type": "code",
      "metadata": {
        "colab": {
          "base_uri": "https://localhost:8080/"
        },
        "id": "0S4i2kn76tPx",
        "outputId": "2c89d3a0-0304-49c9-865f-604f6a583030"
      },
      "source": [
        "thisdict = {\r\n",
        "  \"brand\": \"Ford\",\r\n",
        "  \"model\": \"Mustang\",\r\n",
        "  \"year\": 1964\r\n",
        "}\r\n",
        "mydict = thisdict.copy()\r\n",
        "print(mydict)"
      ],
      "execution_count": null,
      "outputs": [
        {
          "output_type": "stream",
          "text": [
            "{'brand': 'Ford', 'model': 'Mustang', 'year': 1964}\n"
          ],
          "name": "stdout"
        }
      ]
    },
    {
      "cell_type": "markdown",
      "metadata": {
        "id": "0vFbuD6H6zmM"
      },
      "source": [
        "ii) Another way to make a copy is to use the built-in function **dict()**.\r\n",
        "\r\n",
        "**Example**\r\n",
        "\r\n",
        "Make a copy of a dictionary with the **dict()** function:"
      ]
    },
    {
      "cell_type": "code",
      "metadata": {
        "colab": {
          "base_uri": "https://localhost:8080/"
        },
        "id": "y1uxfQ107AqL",
        "outputId": "4a5ad96a-7eee-4112-9563-7897146539d7"
      },
      "source": [
        "thisdict = {\r\n",
        "  \"brand\": \"Ford\",\r\n",
        "  \"model\": \"Mustang\",\r\n",
        "  \"year\": 1964\r\n",
        "}\r\n",
        "mydict = dict(thisdict)\r\n",
        "print(mydict)"
      ],
      "execution_count": null,
      "outputs": [
        {
          "output_type": "stream",
          "text": [
            "{'brand': 'Ford', 'model': 'Mustang', 'year': 1964}\n"
          ],
          "name": "stdout"
        }
      ]
    },
    {
      "cell_type": "markdown",
      "metadata": {
        "id": "GWfWTzrs7SJV"
      },
      "source": [
        "**50) Python** - Nested Dictionaries\r\n"
      ]
    },
    {
      "cell_type": "markdown",
      "metadata": {
        "id": "f6wkj5td7fL4"
      },
      "source": [
        "**i) Nested Dictionaries**\r\n",
        "\r\n",
        "A dictionary can contain dictionaries, this is called nested dictionaries.\r\n",
        "\r\n",
        "**Example**\r\n",
        "\r\n",
        "Create a dictionary that contain three dictionaries:"
      ]
    },
    {
      "cell_type": "code",
      "metadata": {
        "colab": {
          "base_uri": "https://localhost:8080/"
        },
        "id": "31sAwfxh7mfy",
        "outputId": "208a2cf8-5d62-4989-ce35-0ff57d1ea5dc"
      },
      "source": [
        "myfamily = {\r\n",
        "  \"child1\" : {\r\n",
        "    \"name\" : \"Emil\",\r\n",
        "    \"year\" : 2004\r\n",
        "  },\r\n",
        "  \"child2\" : {\r\n",
        "    \"name\" : \"Tobias\",\r\n",
        "    \"year\" : 2007\r\n",
        "  },\r\n",
        "  \"child3\" : {\r\n",
        "    \"name\" : \"Linus\",\r\n",
        "    \"year\" : 2011\r\n",
        "  }\r\n",
        "}\r\n",
        "\r\n",
        "print(myfamily)\r\n"
      ],
      "execution_count": null,
      "outputs": [
        {
          "output_type": "stream",
          "text": [
            "{'child1': {'name': 'Emil', 'year': 2004}, 'child2': {'name': 'Tobias', 'year': 2007}, 'child3': {'name': 'Linus', 'year': 2011}}\n"
          ],
          "name": "stdout"
        }
      ]
    },
    {
      "cell_type": "markdown",
      "metadata": {
        "id": "oZlZCSXs7yYa"
      },
      "source": [
        "**51) Python If ... Else**"
      ]
    },
    {
      "cell_type": "markdown",
      "metadata": {
        "id": "O3_tvlj970_Z"
      },
      "source": [
        "Python supports the usual logical conditions from mathematics:\r\n",
        "\r\n",
        "Equals: **a == b**\r\n",
        "\r\n",
        "Not Equals: **a != b**\r\n",
        "\r\n",
        "Less than: **a < b**\r\n",
        "\r\n",
        "Less than or equal to: **a <= b**\r\n",
        "\r\n",
        "Greater than: **a > b**\r\n",
        "\r\n",
        "Greater than or equal to: **a >= b**\r\n"
      ]
    },
    {
      "cell_type": "markdown",
      "metadata": {
        "id": "sOIEiQc98CjR"
      },
      "source": [
        "These conditions can be used in several ways, most commonly in \"if statements\" and loops.\r\n",
        "\r\n",
        "An \"if statement\" is written by using the if keyword.\r\n",
        "\r\n",
        "**Example**\r\n",
        "\r\n",
        "If statement:"
      ]
    },
    {
      "cell_type": "code",
      "metadata": {
        "colab": {
          "base_uri": "https://localhost:8080/"
        },
        "id": "ydbUVX288Iew",
        "outputId": "9b50edf7-3455-4759-e14d-da1766fccd94"
      },
      "source": [
        "a = 33\r\n",
        "b = 200\r\n",
        "if b > a:\r\n",
        "  print(\"b is greater than a\")"
      ],
      "execution_count": null,
      "outputs": [
        {
          "output_type": "stream",
          "text": [
            "b is greater than a\n"
          ],
          "name": "stdout"
        }
      ]
    },
    {
      "cell_type": "markdown",
      "metadata": {
        "id": "gjTurhqb8NQF"
      },
      "source": [
        "**i) Elif**\r\n",
        "\r\n",
        "The elif keyword is pythons way of saying \"if the previous conditions were not true, then try this condition\".\r\n",
        "\r\n",
        "**Example**"
      ]
    },
    {
      "cell_type": "code",
      "metadata": {
        "colab": {
          "base_uri": "https://localhost:8080/"
        },
        "id": "Foic9WLu8eJ7",
        "outputId": "78ea680a-a027-4c50-cf23-2b236ceecff6"
      },
      "source": [
        "a = 33\r\n",
        "b = 33\r\n",
        "if b > a:\r\n",
        "  print(\"b is greater than a\")\r\n",
        "elif a == b:\r\n",
        "  print(\"a and b are equal\")"
      ],
      "execution_count": null,
      "outputs": [
        {
          "output_type": "stream",
          "text": [
            "a and b are equal\n"
          ],
          "name": "stdout"
        }
      ]
    },
    {
      "cell_type": "markdown",
      "metadata": {
        "id": "MbkimDsX8hTD"
      },
      "source": [
        "**ii) Else**\r\n",
        "\r\n",
        "The else keyword catches anything which isn't caught by the preceding conditions.\r\n",
        "\r\n",
        "**Example**"
      ]
    },
    {
      "cell_type": "code",
      "metadata": {
        "colab": {
          "base_uri": "https://localhost:8080/"
        },
        "id": "T94YKSYG8nfZ",
        "outputId": "0cace9e4-965a-4457-a3c2-d9324bd00183"
      },
      "source": [
        "a = 200\r\n",
        "b = 33\r\n",
        "if b > a:\r\n",
        "  print(\"b is greater than a\")\r\n",
        "elif a == b:\r\n",
        "  print(\"a and b are equal\")\r\n",
        "else:\r\n",
        "  print(\"a is greater than b\")"
      ],
      "execution_count": null,
      "outputs": [
        {
          "output_type": "stream",
          "text": [
            "a is greater than b\n"
          ],
          "name": "stdout"
        }
      ]
    },
    {
      "cell_type": "markdown",
      "metadata": {
        "id": "oK3xORSH8q9b"
      },
      "source": [
        "**iii) And**\r\n",
        "\r\n",
        "The **and** keyword is a logical operator, and is used to combine conditional statements:\r\n",
        "\r\n",
        "**Example**\r\n",
        "\r\n",
        "Test if a is greater than b, AND if c is greater than a:"
      ]
    },
    {
      "cell_type": "code",
      "metadata": {
        "colab": {
          "base_uri": "https://localhost:8080/"
        },
        "id": "66_8CEd481To",
        "outputId": "b41b013b-1da9-4350-8821-72158ec75711"
      },
      "source": [
        "a = 200\r\n",
        "b = 33\r\n",
        "c = 500\r\n",
        "if a > b and c > a:\r\n",
        "  print(\"Both conditions are True\")"
      ],
      "execution_count": null,
      "outputs": [
        {
          "output_type": "stream",
          "text": [
            "Both conditions are True\n"
          ],
          "name": "stdout"
        }
      ]
    },
    {
      "cell_type": "markdown",
      "metadata": {
        "id": "_mpm6LZ39DwV"
      },
      "source": [
        "**iv) Nested If**\r\n",
        "\r\n",
        "You can have if statements inside if statements, this is called nested if statements.\r\n",
        "\r\n",
        "**Example**"
      ]
    },
    {
      "cell_type": "code",
      "metadata": {
        "colab": {
          "base_uri": "https://localhost:8080/"
        },
        "id": "L9Wn4NPW9IR2",
        "outputId": "9c408e25-8601-4109-ec9a-21f5cf7ba5c9"
      },
      "source": [
        "x = 41\r\n",
        "\r\n",
        "if x > 10:\r\n",
        "  print(\"Above ten,\")\r\n",
        "  if x > 20:\r\n",
        "    print(\"and also above 20!\")\r\n",
        "  else:\r\n",
        "    print(\"but not above 20.\")"
      ],
      "execution_count": null,
      "outputs": [
        {
          "output_type": "stream",
          "text": [
            "Above ten,\n",
            "and also above 20!\n"
          ],
          "name": "stdout"
        }
      ]
    },
    {
      "cell_type": "markdown",
      "metadata": {
        "id": "m2KYCQqu9NGH"
      },
      "source": [
        "**52) Python While Loops**"
      ]
    },
    {
      "cell_type": "markdown",
      "metadata": {
        "id": "faoo6Ggw9TTJ"
      },
      "source": [
        "Python Loops\r\n",
        "\r\n",
        "Python has two primitive loop commands:\r\n",
        "\r\n",
        "**while loops**\r\n",
        "\r\n",
        "**for loops**"
      ]
    },
    {
      "cell_type": "markdown",
      "metadata": {
        "id": "7DIUKh7U9bYB"
      },
      "source": [
        "**i) The while Loop**\r\n",
        "\r\n",
        "With the **while** loop we can execute a set of statements as long as a condition is true.\r\n",
        "\r\n",
        "**Example**\r\n",
        "\r\n",
        "Print i as long as i is less than 6:"
      ]
    },
    {
      "cell_type": "code",
      "metadata": {
        "colab": {
          "base_uri": "https://localhost:8080/"
        },
        "id": "6H7f5Uh59kVi",
        "outputId": "eeeb87a8-0ffc-4dd3-e289-65c2269ba937"
      },
      "source": [
        "i = 1\r\n",
        "while i < 6:\r\n",
        "  print(i)\r\n",
        "  i += 1"
      ],
      "execution_count": null,
      "outputs": [
        {
          "output_type": "stream",
          "text": [
            "1\n",
            "2\n",
            "3\n",
            "4\n",
            "5\n"
          ],
          "name": "stdout"
        }
      ]
    },
    {
      "cell_type": "markdown",
      "metadata": {
        "id": "8UPeP14L9qUb"
      },
      "source": [
        "**ii) The break Statement**\r\n",
        "\r\n",
        "With the **break** statement we can stop the loop even if the while condition is true:\r\n",
        "\r\n",
        "**Example**\r\n",
        "\r\n",
        "Exit the loop when i is 3:"
      ]
    },
    {
      "cell_type": "code",
      "metadata": {
        "colab": {
          "base_uri": "https://localhost:8080/"
        },
        "id": "m41jbE0s9zmN",
        "outputId": "bba7bf83-7a1a-4d1a-91de-baf4d65d6759"
      },
      "source": [
        "i = 1\r\n",
        "while i < 6:\r\n",
        "  print(i)\r\n",
        "  if i == 3:\r\n",
        "    break\r\n",
        "  i += 1"
      ],
      "execution_count": null,
      "outputs": [
        {
          "output_type": "stream",
          "text": [
            "1\n",
            "2\n",
            "3\n"
          ],
          "name": "stdout"
        }
      ]
    },
    {
      "cell_type": "markdown",
      "metadata": {
        "id": "XIdgGhDM93wN"
      },
      "source": [
        "**iii) The continue Statement**\r\n",
        "\r\n",
        "With the **continue** statement we can stop the current iteration, and continue with the next:\r\n",
        "\r\n",
        "**Example**\r\n",
        "\r\n",
        "Continue to the next iteration if i is 3:"
      ]
    },
    {
      "cell_type": "code",
      "metadata": {
        "colab": {
          "base_uri": "https://localhost:8080/"
        },
        "id": "NRoioHoU9_JD",
        "outputId": "46e093c8-4527-4153-aa4e-325af4c4fbf9"
      },
      "source": [
        "i = 0\r\n",
        "while i < 6:\r\n",
        "  i += 1\r\n",
        "  if i == 3:\r\n",
        "    continue\r\n",
        "  print(i)"
      ],
      "execution_count": null,
      "outputs": [
        {
          "output_type": "stream",
          "text": [
            "1\n",
            "2\n",
            "4\n",
            "5\n",
            "6\n"
          ],
          "name": "stdout"
        }
      ]
    },
    {
      "cell_type": "markdown",
      "metadata": {
        "id": "KdkVs0T7-ESJ"
      },
      "source": [
        "**iv) The else Statement**\r\n",
        "\r\n",
        "With the **else** statement we can run a block of code once when the condition no longer is true:\r\n",
        "\r\n",
        "**Example**\r\n",
        "\r\n",
        "Print a message once the condition is false:"
      ]
    },
    {
      "cell_type": "code",
      "metadata": {
        "colab": {
          "base_uri": "https://localhost:8080/"
        },
        "id": "WqKw9Pag-NxX",
        "outputId": "b675ab8d-3567-4a37-b75c-f788590c967d"
      },
      "source": [
        "i = 1\r\n",
        "while i < 6:\r\n",
        "  print(i)\r\n",
        "  i += 1\r\n",
        "else:\r\n",
        "  print(\"i is no longer less than 6\")\r\n"
      ],
      "execution_count": null,
      "outputs": [
        {
          "output_type": "stream",
          "text": [
            "1\n",
            "2\n",
            "3\n",
            "4\n",
            "5\n",
            "i is no longer less than 6\n"
          ],
          "name": "stdout"
        }
      ]
    },
    {
      "cell_type": "markdown",
      "metadata": {
        "id": "f-oisQ7q-RbL"
      },
      "source": [
        "**53) Python For Loops**"
      ]
    },
    {
      "cell_type": "markdown",
      "metadata": {
        "id": "xOORs3x_-ZQB"
      },
      "source": [
        "**i) Python For Loops**\r\n",
        "\r\n",
        "A **for**loop is used for iterating over a sequence (that is either a list, a tuple, a dictionary, a set, or a string).\r\n",
        "\r\n",
        "This is less like the **for** keyword in other programming languages, and works more like an iterator method as found in other object-orientated programming languages.\r\n",
        "\r\n",
        "With the **for** loop we can execute a set of statements, once for each item in a list, tuple, set etc."
      ]
    },
    {
      "cell_type": "markdown",
      "metadata": {
        "id": "_LOB1uKS-jcK"
      },
      "source": [
        "**Example**\r\n",
        "\r\n",
        "Print each fruit in a fruit list:"
      ]
    },
    {
      "cell_type": "code",
      "metadata": {
        "colab": {
          "base_uri": "https://localhost:8080/"
        },
        "id": "yvuo3lG0-qXa",
        "outputId": "7d40da96-7ac7-4d3f-82fb-1377c12543a9"
      },
      "source": [
        "fruits = [\"apple\", \"banana\", \"cherry\"]\r\n",
        "for x in fruits:\r\n",
        "  print(x)"
      ],
      "execution_count": null,
      "outputs": [
        {
          "output_type": "stream",
          "text": [
            "apple\n",
            "banana\n",
            "cherry\n"
          ],
          "name": "stdout"
        }
      ]
    },
    {
      "cell_type": "markdown",
      "metadata": {
        "id": "PHJQrDn4-wx7"
      },
      "source": [
        "**ii) Looping Through a String**\r\n",
        "\r\n",
        "Even strings are iterable objects, they contain a sequence of characters:\r\n",
        "\r\n",
        "**Example**\r\n",
        "\r\n",
        "Loop through the letters in the word \"banana\":"
      ]
    },
    {
      "cell_type": "code",
      "metadata": {
        "colab": {
          "base_uri": "https://localhost:8080/"
        },
        "id": "YViZLd0a-3kE",
        "outputId": "4a67a070-f3bb-4de3-a5eb-cd3ed3e17081"
      },
      "source": [
        "for x in \"banana\":\r\n",
        "  print(x)"
      ],
      "execution_count": null,
      "outputs": [
        {
          "output_type": "stream",
          "text": [
            "b\n",
            "a\n",
            "n\n",
            "a\n",
            "n\n",
            "a\n"
          ],
          "name": "stdout"
        }
      ]
    },
    {
      "cell_type": "markdown",
      "metadata": {
        "id": "irqB_a5I-6na"
      },
      "source": [
        "**iv) The break Statement**\r\n",
        "\r\n",
        "With the **break** statement we can stop the loop before it has looped through all the items:\r\n",
        "\r\n",
        "**Example**\r\n",
        "\r\n",
        "Exit the loop when x is \"banana\":"
      ]
    },
    {
      "cell_type": "code",
      "metadata": {
        "colab": {
          "base_uri": "https://localhost:8080/"
        },
        "id": "hx0RJf33_Ck_",
        "outputId": "b469b8ac-4a3e-4dd2-e26a-af7fc153d1dc"
      },
      "source": [
        "fruits = [\"apple\", \"banana\", \"cherry\"]\r\n",
        "for x in fruits:\r\n",
        "  print(x)\r\n",
        "  if x == \"banana\":\r\n",
        "    break"
      ],
      "execution_count": null,
      "outputs": [
        {
          "output_type": "stream",
          "text": [
            "apple\n",
            "banana\n"
          ],
          "name": "stdout"
        }
      ]
    },
    {
      "cell_type": "markdown",
      "metadata": {
        "id": "Xj95EH2P_FnW"
      },
      "source": [
        "**v) Nested Loops**\r\n",
        "\r\n",
        "A nested loop is a loop inside a loop.\r\n",
        "\r\n",
        "The \"inner loop\" will be executed one time for each iteration of the \"outer loop\":\r\n",
        "\r\n",
        "**Example**\r\n",
        "\r\n",
        "Print each adjective for every fruit:"
      ]
    },
    {
      "cell_type": "code",
      "metadata": {
        "colab": {
          "base_uri": "https://localhost:8080/"
        },
        "id": "GmTyVAxs_Rju",
        "outputId": "d1b0bac6-68a3-48f6-89a5-bce31c88615b"
      },
      "source": [
        "adj = [\"red\", \"big\", \"tasty\"]\r\n",
        "fruits = [\"apple\", \"banana\", \"cherry\"]\r\n",
        "\r\n",
        "for x in adj:\r\n",
        "  for y in fruits:\r\n",
        "    print(x, y)"
      ],
      "execution_count": null,
      "outputs": [
        {
          "output_type": "stream",
          "text": [
            "red apple\n",
            "red banana\n",
            "red cherry\n",
            "big apple\n",
            "big banana\n",
            "big cherry\n",
            "tasty apple\n",
            "tasty banana\n",
            "tasty cherry\n"
          ],
          "name": "stdout"
        }
      ]
    },
    {
      "cell_type": "markdown",
      "metadata": {
        "id": "MDxcCVez_VAz"
      },
      "source": [
        "**54) Python Functions**\r\n",
        "\r\n",
        "A function is a block of code which only runs when it is called.\r\n",
        "\r\n",
        "You can pass data, known as parameters, into a function.\r\n",
        "\r\n",
        "A function can return data as a result.\r\n",
        "\r\n"
      ]
    },
    {
      "cell_type": "markdown",
      "metadata": {
        "id": "9s0j4JKc_eUd"
      },
      "source": [
        "**i) Creating a Function**\r\n",
        "\r\n",
        "In Python a function is defined using the **def** keyword:\r\n",
        "\r\n",
        "**Example**"
      ]
    },
    {
      "cell_type": "code",
      "metadata": {
        "id": "BbxarSJW_mFV"
      },
      "source": [
        "def my_function():\r\n",
        "  print(\"Hello from a function\")"
      ],
      "execution_count": null,
      "outputs": []
    },
    {
      "cell_type": "markdown",
      "metadata": {
        "id": "oqJK0rlo_wPS"
      },
      "source": [
        "**ii) Calling a Function**\r\n",
        "\r\n",
        "To call a function, use the function name followed by parenthesis:\r\n",
        "\r\n",
        "**Example**"
      ]
    },
    {
      "cell_type": "code",
      "metadata": {
        "colab": {
          "base_uri": "https://localhost:8080/"
        },
        "id": "LLJPhEKE_0h-",
        "outputId": "5813cf78-17c6-444e-a7d5-5522c0e81c84"
      },
      "source": [
        "def my_function():\r\n",
        "  print(\"Hello from a function\")\r\n",
        "\r\n",
        "my_function()"
      ],
      "execution_count": null,
      "outputs": [
        {
          "output_type": "stream",
          "text": [
            "Hello from a function\n"
          ],
          "name": "stdout"
        }
      ]
    },
    {
      "cell_type": "markdown",
      "metadata": {
        "id": "ju_zFoXm_4W_"
      },
      "source": [
        "**iii) Arguments**\r\n",
        "\r\n",
        "Information can be passed into functions as arguments.\r\n",
        "\r\n",
        "Arguments are specified after the function name, inside the parentheses. You can add as many arguments as you want, just separate them with a comma.\r\n",
        "\r\n",
        "The following example has a function with one argument (fname). When the function is called, we pass along a first name, which is used inside the function to print the full name:\r\n",
        "\r\n",
        "**Example**"
      ]
    },
    {
      "cell_type": "code",
      "metadata": {
        "colab": {
          "base_uri": "https://localhost:8080/"
        },
        "id": "KZ7OYf0M__nn",
        "outputId": "17f65549-7da7-4039-e925-f59e64e7cfa2"
      },
      "source": [
        "def my_function(fname):\r\n",
        "  print(fname + \" Refsnes\")\r\n",
        "\r\n",
        "my_function(\"Emil\")\r\n",
        "my_function(\"Tobias\")\r\n",
        "my_function(\"Linus\")\r\n"
      ],
      "execution_count": null,
      "outputs": [
        {
          "output_type": "stream",
          "text": [
            "Emil Refsnes\n",
            "Tobias Refsnes\n",
            "Linus Refsnes\n"
          ],
          "name": "stdout"
        }
      ]
    },
    {
      "cell_type": "markdown",
      "metadata": {
        "id": "lxZCZtAOAEbh"
      },
      "source": [
        "**iv) Keyword Arguments**\r\n",
        "\r\n",
        "You can also send arguments with the key = value syntax.\r\n",
        "\r\n",
        "This way the order of the arguments does not matter.\r\n",
        "\r\n",
        "**Example**"
      ]
    },
    {
      "cell_type": "code",
      "metadata": {
        "colab": {
          "base_uri": "https://localhost:8080/"
        },
        "id": "796dZeXDAMlc",
        "outputId": "d4f4ab3f-be43-4111-8b49-7bfd04c2e56d"
      },
      "source": [
        "def my_function(child3, child2, child1):\r\n",
        "  print(\"The youngest child is \" + child3)\r\n",
        "\r\n",
        "my_function(child1 = \"Emil\", child2 = \"Tobias\", child3 = \"Linus\")"
      ],
      "execution_count": null,
      "outputs": [
        {
          "output_type": "stream",
          "text": [
            "The youngest child is Linus\n"
          ],
          "name": "stdout"
        }
      ]
    },
    {
      "cell_type": "markdown",
      "metadata": {
        "id": "PwaU6XP4AbgQ"
      },
      "source": [
        "**v) Default Parameter Value**\r\n",
        "\r\n",
        "The following example shows how to use a default parameter value.\r\n",
        "\r\n",
        "If we call the function without argument, it uses the default value:"
      ]
    },
    {
      "cell_type": "code",
      "metadata": {
        "colab": {
          "base_uri": "https://localhost:8080/"
        },
        "id": "wJc4hL4fAgut",
        "outputId": "abde3b3e-2f40-4d3b-f271-f27f25505a9a"
      },
      "source": [
        "def my_function(country = \"Norway\"):\r\n",
        "  print(\"I am from \" + country)\r\n",
        "\r\n",
        "my_function(\"Sweden\")\r\n",
        "my_function(\"India\")\r\n",
        "my_function()\r\n",
        "my_function(\"Brazil\")"
      ],
      "execution_count": null,
      "outputs": [
        {
          "output_type": "stream",
          "text": [
            "I am from Sweden\n",
            "I am from India\n",
            "I am from Norway\n",
            "I am from Brazil\n"
          ],
          "name": "stdout"
        }
      ]
    },
    {
      "cell_type": "markdown",
      "metadata": {
        "id": "ud8J0RL-Ao82"
      },
      "source": [
        "**vi) Return Values**\r\n",
        "\r\n",
        "To let a function return a value, use the return statement:\r\n",
        "\r\n",
        "**Example**"
      ]
    },
    {
      "cell_type": "code",
      "metadata": {
        "colab": {
          "base_uri": "https://localhost:8080/"
        },
        "id": "mFbt6SVyAwAR",
        "outputId": "f9ba383b-ebd5-4fa4-ba0d-039facea6844"
      },
      "source": [
        "def my_function(x):\r\n",
        "  return 5 * x\r\n",
        "\r\n",
        "print(my_function(3))\r\n",
        "print(my_function(5))\r\n",
        "print(my_function(9))"
      ],
      "execution_count": null,
      "outputs": [
        {
          "output_type": "stream",
          "text": [
            "15\n",
            "25\n",
            "45\n"
          ],
          "name": "stdout"
        }
      ]
    },
    {
      "cell_type": "markdown",
      "metadata": {
        "id": "N6dXQskSA2Mh"
      },
      "source": [
        "**55) Python Lambda**\r\n",
        "\r\n",
        " lambda function is a small anonymous function.\r\n",
        "\r\n",
        "A lambda function can take any number of arguments, but can only have one expression.\r\n",
        "\r\n",
        "**Syntax**\r\n",
        "\r\n",
        "lambda arguments : expression\r\n",
        "\r\n"
      ]
    },
    {
      "cell_type": "markdown",
      "metadata": {
        "id": "HujEjTevBI4J"
      },
      "source": [
        "i) The expression is executed and the result is returned:\r\n",
        "\r\n",
        "**Example**\r\n",
        "\r\n",
        "Add 10 to argument **a**, and return the result:"
      ]
    },
    {
      "cell_type": "code",
      "metadata": {
        "colab": {
          "base_uri": "https://localhost:8080/"
        },
        "id": "2Sj1V-oEBTWA",
        "outputId": "039d41c8-e7ac-4357-c4f4-2fe307346040"
      },
      "source": [
        "x = lambda a : a + 10\r\n",
        "print(x(5))"
      ],
      "execution_count": null,
      "outputs": [
        {
          "output_type": "stream",
          "text": [
            "15\n"
          ],
          "name": "stdout"
        }
      ]
    },
    {
      "cell_type": "markdown",
      "metadata": {
        "id": "sKyGxaXgBbn8"
      },
      "source": [
        "ii)Lambda functions can take any number of arguments:\r\n",
        "\r\n",
        "**Example**\r\n",
        "\r\n",
        "Multiply argument **a** with argument **b** and return the result:"
      ]
    },
    {
      "cell_type": "code",
      "metadata": {
        "colab": {
          "base_uri": "https://localhost:8080/"
        },
        "id": "zrGeTG4KBip3",
        "outputId": "9a4876a7-52f8-442b-dac0-d783b4eba8a7"
      },
      "source": [
        "x = lambda a, b : a * b\r\n",
        "print(x(5, 6))"
      ],
      "execution_count": null,
      "outputs": [
        {
          "output_type": "stream",
          "text": [
            "30\n"
          ],
          "name": "stdout"
        }
      ]
    },
    {
      "cell_type": "markdown",
      "metadata": {
        "id": "VAB4--sGBmlu"
      },
      "source": [
        "iii) **Example**\r\n",
        "\r\n",
        "Summarize argument **a**, **b**, and **c** and return the result:"
      ]
    },
    {
      "cell_type": "code",
      "metadata": {
        "colab": {
          "base_uri": "https://localhost:8080/"
        },
        "id": "j0g3OfonBvNK",
        "outputId": "698cca57-a487-474b-dd81-27eba751045d"
      },
      "source": [
        "x = lambda a, b, c : a + b + c\r\n",
        "print(x(5, 6, 2))"
      ],
      "execution_count": null,
      "outputs": [
        {
          "output_type": "stream",
          "text": [
            "13\n"
          ],
          "name": "stdout"
        }
      ]
    },
    {
      "cell_type": "markdown",
      "metadata": {
        "id": "ybJ7iAkNB7Je"
      },
      "source": [
        "**56) Python Arrays**"
      ]
    },
    {
      "cell_type": "markdown",
      "metadata": {
        "id": "QHMa2DGqCSta"
      },
      "source": [
        "**i) Access the Elements of an Array**\r\n",
        "\r\n",
        "You refer to an array element by referring to the index number.\r\n",
        "\r\n",
        "**Example**\r\n",
        "\r\n",
        "Get the value of the first array item:"
      ]
    },
    {
      "cell_type": "code",
      "metadata": {
        "colab": {
          "base_uri": "https://localhost:8080/"
        },
        "id": "xkqhzJvxCXyv",
        "outputId": "f1ede2d5-8956-4625-c629-caeaacf0938b"
      },
      "source": [
        "cars = [\"Ford\", \"Volvo\", \"BMW\"]\r\n",
        "\r\n",
        "x = cars[0]\r\n",
        "\r\n",
        "print(x)"
      ],
      "execution_count": null,
      "outputs": [
        {
          "output_type": "stream",
          "text": [
            "Ford\n"
          ],
          "name": "stdout"
        }
      ]
    },
    {
      "cell_type": "markdown",
      "metadata": {
        "id": "2QijtvN4Cbob"
      },
      "source": [
        "**ii) The Length of an Array**\r\n",
        "\r\n",
        "Use the **len()** method to return the length of an array (the number of elements in an array).\r\n",
        "\r\n",
        "**Example**\r\n",
        "\r\n",
        "Return the number of elements in the cars array:"
      ]
    },
    {
      "cell_type": "code",
      "metadata": {
        "colab": {
          "base_uri": "https://localhost:8080/"
        },
        "id": "epvv8Dg3CkDT",
        "outputId": "e1b81a66-8549-4796-c0c6-80b970b1bce5"
      },
      "source": [
        "cars = [\"Ford\", \"Volvo\", \"BMW\"]\r\n",
        "\r\n",
        "x = len(cars)\r\n",
        "\r\n",
        "print(x)"
      ],
      "execution_count": null,
      "outputs": [
        {
          "output_type": "stream",
          "text": [
            "3\n"
          ],
          "name": "stdout"
        }
      ]
    },
    {
      "cell_type": "markdown",
      "metadata": {
        "id": "13YVz85ZCqs0"
      },
      "source": [
        "**iii) Looping Array Elements**\r\n",
        "\r\n",
        "You can use the for in loop to loop through all the elements of an array.\r\n",
        "\r\n",
        "**Example**\r\n",
        "\r\n",
        "Print each item in the cars array:"
      ]
    },
    {
      "cell_type": "code",
      "metadata": {
        "colab": {
          "base_uri": "https://localhost:8080/"
        },
        "id": "wylYYuDRCwea",
        "outputId": "8049d925-c8e4-45df-bf54-9f97bdf3d135"
      },
      "source": [
        "cars = [\"Ford\", \"Volvo\", \"BMW\"]\r\n",
        "\r\n",
        "for x in cars:\r\n",
        "  print(x)"
      ],
      "execution_count": null,
      "outputs": [
        {
          "output_type": "stream",
          "text": [
            "Ford\n",
            "Volvo\n",
            "BMW\n"
          ],
          "name": "stdout"
        }
      ]
    },
    {
      "cell_type": "markdown",
      "metadata": {
        "id": "taCSPmZ9C0zc"
      },
      "source": [
        "**iv) Adding Array Elements**\r\n",
        "\r\n",
        "You can use the **append()** method to add an element to an array.\r\n",
        "\r\n",
        "**Example**\r\n",
        "\r\n",
        "Add one more element to the cars array:"
      ]
    },
    {
      "cell_type": "code",
      "metadata": {
        "colab": {
          "base_uri": "https://localhost:8080/"
        },
        "id": "elwjsvx8C_Io",
        "outputId": "78278551-63f0-45a4-c033-4ebb08e3c932"
      },
      "source": [
        "cars = [\"Ford\", \"Volvo\", \"BMW\"]\r\n",
        "\r\n",
        "cars.append(\"Honda\")\r\n",
        "\r\n",
        "print(cars)\r\n"
      ],
      "execution_count": null,
      "outputs": [
        {
          "output_type": "stream",
          "text": [
            "['Ford', 'Volvo', 'BMW', 'Honda']\n"
          ],
          "name": "stdout"
        }
      ]
    },
    {
      "cell_type": "markdown",
      "metadata": {
        "id": "XF4RL7l7DCtB"
      },
      "source": [
        "**57) Python Classes and Objects**\r\n",
        "\r\n",
        "Python is an object oriented programming language.\r\n",
        "\r\n",
        "Almost everything in Python is an object, with its properties and methods.\r\n",
        "\r\n",
        "A Class is like an object constructor, or a \"blueprint\" for creating objects.\r\n"
      ]
    },
    {
      "cell_type": "markdown",
      "metadata": {
        "id": "tdxHl6WVDTBD"
      },
      "source": [
        "**i) Create a Class**\r\n",
        "\r\n",
        "To create a class, use the keyword **class**:\r\n",
        "\r\n",
        "**Example**\r\n",
        "\r\n",
        "Create a class named MyClass, with a property named x:"
      ]
    },
    {
      "cell_type": "code",
      "metadata": {
        "colab": {
          "base_uri": "https://localhost:8080/"
        },
        "id": "Mo1p5KnBDcuL",
        "outputId": "7a7bc114-158c-4622-aceb-950c1612f98a"
      },
      "source": [
        "class MyClass:\r\n",
        "  x = 5\r\n",
        "\r\n",
        "print(MyClass)\r\n"
      ],
      "execution_count": null,
      "outputs": [
        {
          "output_type": "stream",
          "text": [
            "<class '__main__.MyClass'>\n"
          ],
          "name": "stdout"
        }
      ]
    },
    {
      "cell_type": "markdown",
      "metadata": {
        "id": "QOgvGTK-Diee"
      },
      "source": [
        "**ii) Create Object**\r\n",
        "\r\n",
        "Now we can use the class named MyClass to create objects:\r\n",
        "\r\n",
        "**Example**\r\n",
        "\r\n",
        "Create an object named p1, and print the value of x:"
      ]
    },
    {
      "cell_type": "code",
      "metadata": {
        "colab": {
          "base_uri": "https://localhost:8080/"
        },
        "id": "ynKNa7BxDps6",
        "outputId": "bdcb11f6-5a0f-440d-e857-b175b38d61cf"
      },
      "source": [
        "class MyClass:\r\n",
        "  x = 5\r\n",
        "\r\n",
        "p1 = MyClass()\r\n",
        "print(p1.x)\r\n"
      ],
      "execution_count": null,
      "outputs": [
        {
          "output_type": "stream",
          "text": [
            "5\n"
          ],
          "name": "stdout"
        }
      ]
    },
    {
      "cell_type": "markdown",
      "metadata": {
        "id": "p3t4e8a6Dvwi"
      },
      "source": [
        "**iii) Modify Object Properties**\r\n",
        "\r\n",
        "You can modify properties on objects like this:\r\n",
        "\r\n",
        "**Example**\r\n",
        "\r\n",
        "Set the age of p1 to 40:"
      ]
    },
    {
      "cell_type": "code",
      "metadata": {
        "colab": {
          "base_uri": "https://localhost:8080/"
        },
        "id": "7sOlheN2D7Xi",
        "outputId": "761f4f6e-78fa-477f-e5ec-9fbd927d2e87"
      },
      "source": [
        "class Person:\r\n",
        "  def __init__(self, name, age):\r\n",
        "    self.name = name\r\n",
        "    self.age = age\r\n",
        "\r\n",
        "  def myfunc(self):\r\n",
        "    print(\"Hello my name is \" + self.name)\r\n",
        "\r\n",
        "p1 = Person(\"John\", 36)\r\n",
        "\r\n",
        "p1.age = 40\r\n",
        "\r\n",
        "print(p1.age)\r\n"
      ],
      "execution_count": null,
      "outputs": [
        {
          "output_type": "stream",
          "text": [
            "40\n"
          ],
          "name": "stdout"
        }
      ]
    },
    {
      "cell_type": "markdown",
      "metadata": {
        "id": "GnZijOKjD_UK"
      },
      "source": [
        "**58) Python Inheritance**\r\n",
        "\r\n",
        "Inheritance allows us to define a class that inherits all the methods and properties from another class.\r\n",
        "\r\n",
        "**Parent class** is the class being inherited from, also called base class.\r\n",
        "\r\n",
        "**Child class** is the class that inherits from another class, also called derived class.\r\n",
        "\r\n"
      ]
    },
    {
      "cell_type": "markdown",
      "metadata": {
        "id": "EPKIIAfoENAJ"
      },
      "source": [
        "**i) Create a Parent Class**\r\n",
        "\r\n",
        "Any class can be a parent class, so the syntax is the same as creating any other class:\r\n",
        "\r\n",
        "**Example**\r\n",
        "\r\n",
        "Create a class named **Person**, with **firstname** and **lastname** properties, and a printname method:"
      ]
    },
    {
      "cell_type": "code",
      "metadata": {
        "colab": {
          "base_uri": "https://localhost:8080/"
        },
        "id": "-UH2VqztEcJn",
        "outputId": "0aae4f00-22ec-44ee-999f-9cef6a2fbb6d"
      },
      "source": [
        "class Person:\r\n",
        "  def __init__(self, fname, lname):\r\n",
        "    self.firstname = fname\r\n",
        "    self.lastname = lname\r\n",
        "\r\n",
        "  def printname(self):\r\n",
        "    print(self.firstname, self.lastname)\r\n",
        "\r\n",
        "#Use the Person class to create an object, and then execute the printname method:\r\n",
        "\r\n",
        "x = Person(\"John\", \"Doe\")\r\n",
        "x.printname()\r\n"
      ],
      "execution_count": null,
      "outputs": [
        {
          "output_type": "stream",
          "text": [
            "John Doe\n"
          ],
          "name": "stdout"
        }
      ]
    },
    {
      "cell_type": "markdown",
      "metadata": {
        "id": "fKsHNe5zEeYZ"
      },
      "source": [
        "**ii) Use the super() Function**\r\n",
        "\r\n",
        "Python also has a **super()**function that will make the child class inherit all the methods and properties from its parent:\r\n",
        "\r\n",
        "**Example**"
      ]
    },
    {
      "cell_type": "code",
      "metadata": {
        "colab": {
          "base_uri": "https://localhost:8080/"
        },
        "id": "RCUFSecPEoaI",
        "outputId": "0ef26139-a764-40aa-dd68-091bc3e55332"
      },
      "source": [
        "class Person:\r\n",
        "  def __init__(self, fname, lname):\r\n",
        "    self.firstname = fname\r\n",
        "    self.lastname = lname\r\n",
        "\r\n",
        "  def printname(self):\r\n",
        "    print(self.firstname, self.lastname)\r\n",
        "\r\n",
        "class Student(Person):\r\n",
        "  def __init__(self, fname, lname):\r\n",
        "    super().__init__(fname, lname)\r\n",
        "\r\n",
        "x = Student(\"Mike\", \"Olsen\")\r\n",
        "x.printname()\r\n"
      ],
      "execution_count": null,
      "outputs": [
        {
          "output_type": "stream",
          "text": [
            "Mike Olsen\n"
          ],
          "name": "stdout"
        }
      ]
    },
    {
      "cell_type": "markdown",
      "metadata": {
        "id": "m22toLS7EsE-"
      },
      "source": [
        "**iii) Add Properties**\r\n",
        "\r\n",
        "**Example**\r\n",
        "\r\n",
        "Add a property called **graduationyear** to the **Student** class:"
      ]
    },
    {
      "cell_type": "code",
      "metadata": {
        "colab": {
          "base_uri": "https://localhost:8080/"
        },
        "id": "shfo1sYdE1Wf",
        "outputId": "50d6b3ca-79ba-44a2-951d-6a9bee98d618"
      },
      "source": [
        "class Person:\r\n",
        "  def __init__(self, fname, lname):\r\n",
        "    self.firstname = fname\r\n",
        "    self.lastname = lname\r\n",
        "\r\n",
        "  def printname(self):\r\n",
        "    print(self.firstname, self.lastname)\r\n",
        "\r\n",
        "class Student(Person):\r\n",
        "  def __init__(self, fname, lname):\r\n",
        "    super().__init__(fname, lname)\r\n",
        "    self.graduationyear = 2019\r\n",
        "\r\n",
        "x = Student(\"Mike\", \"Olsen\")\r\n",
        "print(x.graduationyear)"
      ],
      "execution_count": null,
      "outputs": [
        {
          "output_type": "stream",
          "text": [
            "2019\n"
          ],
          "name": "stdout"
        }
      ]
    },
    {
      "cell_type": "markdown",
      "metadata": {
        "id": "EbGM0Ps5E5fs"
      },
      "source": [
        "**iv) Add Methods**\r\n",
        "\r\n",
        "**Example**\r\n",
        "\r\n",
        "Add a method called **welcome** to the **Student** class:"
      ]
    },
    {
      "cell_type": "code",
      "metadata": {
        "colab": {
          "base_uri": "https://localhost:8080/"
        },
        "id": "0dFVp5IpFDM8",
        "outputId": "9255fb89-acf8-47e8-afb7-61bf7e905331"
      },
      "source": [
        "class Person:\r\n",
        "  def __init__(self, fname, lname):\r\n",
        "    self.firstname = fname\r\n",
        "    self.lastname = lname\r\n",
        "\r\n",
        "  def printname(self):\r\n",
        "    print(self.firstname, self.lastname)\r\n",
        "\r\n",
        "class Student(Person):\r\n",
        "  def __init__(self, fname, lname, year):\r\n",
        "    super().__init__(fname, lname)\r\n",
        "    self.graduationyear = year\r\n",
        "\r\n",
        "  def welcome(self):\r\n",
        "    print(\"Welcome\", self.firstname, self.lastname, \"to the class of\", self.graduationyear)\r\n",
        "\r\n",
        "x = Student(\"Mike\", \"Olsen\", 2019)\r\n",
        "x.welcome()\r\n"
      ],
      "execution_count": null,
      "outputs": [
        {
          "output_type": "stream",
          "text": [
            "Welcome Mike Olsen to the class of 2019\n"
          ],
          "name": "stdout"
        }
      ]
    },
    {
      "cell_type": "markdown",
      "metadata": {
        "id": "EaU5uMiVFLya"
      },
      "source": [
        "**59) Python Iterators**\r\n",
        "\r\n",
        "An iterator is an object that contains a countable number of values.\r\n",
        "\r\n",
        "An iterator is an object that can be iterated upon, meaning that you can traverse through all the values.\r\n",
        "\r\n",
        "Technically, in Python, an iterator is an object which implements the iterator protocol, which consist of the methods __iter__() and __next__()."
      ]
    },
    {
      "cell_type": "markdown",
      "metadata": {
        "id": "Pwr4hZxnFTr6"
      },
      "source": [
        "**i) Iterator vs Iterable**\r\n",
        "\r\n",
        "Lists, tuples, dictionaries, and sets are all iterable objects. They are iterable containers which you can get an iterator from.\r\n",
        "\r\n",
        "All these objects have a **iter()** method which is used to get an iterator:\r\n",
        "\r\n",
        "**Example**\r\n",
        "\r\n",
        "Return an iterator from a tuple, and print each value:"
      ]
    },
    {
      "cell_type": "code",
      "metadata": {
        "colab": {
          "base_uri": "https://localhost:8080/"
        },
        "id": "9rARQ-AGFdgA",
        "outputId": "c00956d3-37e2-44fa-aef3-d44855b6750a"
      },
      "source": [
        "mytuple = (\"apple\", \"banana\", \"cherry\")\r\n",
        "myit = iter(mytuple)\r\n",
        "\r\n",
        "print(next(myit))\r\n",
        "print(next(myit))\r\n",
        "print(next(myit))\r\n"
      ],
      "execution_count": null,
      "outputs": [
        {
          "output_type": "stream",
          "text": [
            "apple\n",
            "banana\n",
            "cherry\n"
          ],
          "name": "stdout"
        }
      ]
    },
    {
      "cell_type": "markdown",
      "metadata": {
        "id": "ErK9Ty1BFhfR"
      },
      "source": [
        "**ii) Looping Through an Iterator**\r\n",
        "\r\n",
        "We can also use a **for** loop to iterate through an iterable object:\r\n",
        "\r\n",
        "**Example**\r\n",
        "\r\n",
        "Iterate the values of a tuple:"
      ]
    },
    {
      "cell_type": "code",
      "metadata": {
        "colab": {
          "base_uri": "https://localhost:8080/"
        },
        "id": "EZJGCjWfFrDj",
        "outputId": "3bbcc5e6-afae-4907-e4dc-025636f686fb"
      },
      "source": [
        "mytuple = (\"apple\", \"banana\", \"cherry\")\r\n",
        "\r\n",
        "for x in mytuple:\r\n",
        "  print(x)\r\n"
      ],
      "execution_count": null,
      "outputs": [
        {
          "output_type": "stream",
          "text": [
            "apple\n",
            "banana\n",
            "cherry\n"
          ],
          "name": "stdout"
        }
      ]
    },
    {
      "cell_type": "markdown",
      "metadata": {
        "id": "xX9ZAg_XF3HB"
      },
      "source": [
        "**iii) Create an Iterator**\r\n",
        "\r\n",
        "To create an object/class as an iterator you have to implement the methods __iter__() and __next__() to your object.\r\n",
        "\r\n",
        "As you have learned in the Python Classes/Objects chapter, all classes have a function called __init__(), which allows you to do some initializing when the object is being created.\r\n",
        "\r\n",
        "The __iter__() method acts similar, you can do operations (initializing etc.), but must always return the iterator object itself.\r\n",
        "\r\n",
        "The __next__() method also allows you to do operations, and must return the next item in the sequence."
      ]
    },
    {
      "cell_type": "markdown",
      "metadata": {
        "id": "obVXPH9qF6xG"
      },
      "source": [
        "**Example**\r\n",
        "\r\n",
        "Create an iterator that returns numbers, starting with 1, and each sequence will increase by one (returning 1,2,3,4,5 etc.):"
      ]
    },
    {
      "cell_type": "code",
      "metadata": {
        "colab": {
          "base_uri": "https://localhost:8080/"
        },
        "id": "Dw9tBeU9F__T",
        "outputId": "df2ea9bf-99b7-40cb-d29b-d05ed017b98f"
      },
      "source": [
        "class MyNumbers:\r\n",
        "  def __iter__(self):\r\n",
        "    self.a = 1\r\n",
        "    return self\r\n",
        "\r\n",
        "  def __next__(self):\r\n",
        "    x = self.a\r\n",
        "    self.a += 1\r\n",
        "    return x\r\n",
        "\r\n",
        "myclass = MyNumbers()\r\n",
        "myiter = iter(myclass)\r\n",
        "\r\n",
        "print(next(myiter))\r\n",
        "print(next(myiter))\r\n",
        "print(next(myiter))\r\n",
        "print(next(myiter))\r\n",
        "print(next(myiter))\r\n"
      ],
      "execution_count": null,
      "outputs": [
        {
          "output_type": "stream",
          "text": [
            "1\n",
            "2\n",
            "3\n",
            "4\n",
            "5\n"
          ],
          "name": "stdout"
        }
      ]
    },
    {
      "cell_type": "markdown",
      "metadata": {
        "id": "dZkohEQxGDzq"
      },
      "source": [
        "**iv) StopIteration**\r\n",
        "\r\n",
        "The example above would continue forever if you had enough next() statements, or if it was used in a for loop.\r\n",
        "\r\n",
        "To prevent the iteration to go on forever, we can use the StopIteration statement.\r\n",
        "\r\n",
        "In the __next__() method, we can add a terminating condition to raise an error if the iteration is done a specified number of times:\r\n",
        "\r\n",
        "**Example**\r\n",
        "\r\n",
        "Stop after 20 iterations:"
      ]
    },
    {
      "cell_type": "code",
      "metadata": {
        "colab": {
          "base_uri": "https://localhost:8080/"
        },
        "id": "16iEfLQgGLnG",
        "outputId": "4d9a1135-60ce-48e7-af0d-fa95d806ddaf"
      },
      "source": [
        "class MyNumbers:\r\n",
        "  def __iter__(self):\r\n",
        "    self.a = 1\r\n",
        "    return self\r\n",
        "\r\n",
        "  def __next__(self):\r\n",
        "    if self.a <= 20:\r\n",
        "      x = self.a\r\n",
        "      self.a += 1\r\n",
        "      return x\r\n",
        "    else:\r\n",
        "      raise StopIteration\r\n",
        "\r\n",
        "myclass = MyNumbers()\r\n",
        "myiter = iter(myclass)\r\n",
        "\r\n",
        "for x in myiter:\r\n",
        "  print(x)\r\n"
      ],
      "execution_count": null,
      "outputs": [
        {
          "output_type": "stream",
          "text": [
            "1\n",
            "2\n",
            "3\n",
            "4\n",
            "5\n",
            "6\n",
            "7\n",
            "8\n",
            "9\n",
            "10\n",
            "11\n",
            "12\n",
            "13\n",
            "14\n",
            "15\n",
            "16\n",
            "17\n",
            "18\n",
            "19\n",
            "20\n"
          ],
          "name": "stdout"
        }
      ]
    },
    {
      "cell_type": "markdown",
      "metadata": {
        "id": "ra0iBxdGGR3O"
      },
      "source": [
        "**60) Python Scope**\r\n",
        "\r\n",
        " variable is only available from inside the region it is created. This is called **scope**."
      ]
    },
    {
      "cell_type": "markdown",
      "metadata": {
        "id": "ojSOW1tSGhiO"
      },
      "source": [
        "**i) Local Scope**\r\n",
        "\r\n",
        "A variable created inside a function belongs to the local scope of that function, and can only be used inside that function.\r\n",
        "\r\n",
        "**Example**\r\n",
        "\r\n",
        "A variable created inside a function is available inside that function:"
      ]
    },
    {
      "cell_type": "code",
      "metadata": {
        "colab": {
          "base_uri": "https://localhost:8080/"
        },
        "id": "NjBV5719GoQU",
        "outputId": "4a32c77d-136d-4005-bc18-0d4e81b7e86e"
      },
      "source": [
        "def myfunc():\r\n",
        "  x = 300\r\n",
        "  print(x)\r\n",
        "\r\n",
        "myfunc()"
      ],
      "execution_count": null,
      "outputs": [
        {
          "output_type": "stream",
          "text": [
            "300\n"
          ],
          "name": "stdout"
        }
      ]
    },
    {
      "cell_type": "markdown",
      "metadata": {
        "id": "RGEohcgDGrv2"
      },
      "source": [
        "**ii) Function Inside Function**\r\n",
        "\r\n",
        "As explained in the example above, the variable x is not available outside the function, but it is available for any function inside the function:\r\n",
        "\r\n",
        "**Example**\r\n",
        "\r\n",
        "The local variable can be accessed from a function within the function:"
      ]
    },
    {
      "cell_type": "code",
      "metadata": {
        "colab": {
          "base_uri": "https://localhost:8080/"
        },
        "id": "NfAMEeI8Gyi8",
        "outputId": "572b3234-9f2d-4b6e-fe03-912a4c63e77c"
      },
      "source": [
        "def myfunc():\r\n",
        "  x = 300\r\n",
        "  def myinnerfunc():\r\n",
        "    print(x)\r\n",
        "  myinnerfunc()\r\n",
        "\r\n",
        "myfunc()"
      ],
      "execution_count": null,
      "outputs": [
        {
          "output_type": "stream",
          "text": [
            "300\n"
          ],
          "name": "stdout"
        }
      ]
    },
    {
      "cell_type": "markdown",
      "metadata": {
        "id": "aMo-2CzqG2B-"
      },
      "source": [
        "**iii) Global Scope**\r\n",
        "\r\n",
        "A variable created in the main body of the Python code is a global variable and belongs to the global scope.\r\n",
        "\r\n",
        "Global variables are available from within any scope, global and local.\r\n",
        "\r\n",
        "**Example**\r\n",
        "\r\n",
        "A variable created outside of a function is global and can be used by anyone:"
      ]
    },
    {
      "cell_type": "code",
      "metadata": {
        "colab": {
          "base_uri": "https://localhost:8080/"
        },
        "id": "51BzTTrOG99f",
        "outputId": "bc57f637-e229-4846-eca0-d799b66d9735"
      },
      "source": [
        "x = 300\r\n",
        "\r\n",
        "def myfunc():\r\n",
        "  print(x)\r\n",
        "\r\n",
        "myfunc()\r\n",
        "\r\n",
        "print(x)"
      ],
      "execution_count": null,
      "outputs": [
        {
          "output_type": "stream",
          "text": [
            "300\n",
            "300\n"
          ],
          "name": "stdout"
        }
      ]
    },
    {
      "cell_type": "markdown",
      "metadata": {
        "id": "RSBdBmesHDpZ"
      },
      "source": [
        "**iv) Naming Variables**\r\n",
        "\r\n",
        "If you operate with the same variable name inside and outside of a function, Python will treat them as two separate variables, one available in the global scope (outside the function) and one available in the local scope (inside the function):\r\n",
        "\r\n",
        "**Example**\r\n",
        "\r\n",
        "The function will print the local x, and then the code will print the global x:"
      ]
    },
    {
      "cell_type": "code",
      "metadata": {
        "colab": {
          "base_uri": "https://localhost:8080/"
        },
        "id": "pRFcE5uZHMpQ",
        "outputId": "281e1661-67b4-45de-d88a-f9c5231b9b27"
      },
      "source": [
        "x = 300\r\n",
        "\r\n",
        "def myfunc():\r\n",
        "  x = 200\r\n",
        "  print(x)\r\n",
        "\r\n",
        "myfunc()\r\n",
        "\r\n",
        "print(x)"
      ],
      "execution_count": null,
      "outputs": [
        {
          "output_type": "stream",
          "text": [
            "200\n",
            "300\n"
          ],
          "name": "stdout"
        }
      ]
    },
    {
      "cell_type": "markdown",
      "metadata": {
        "id": "Zrmi8dowHWDw"
      },
      "source": [
        "**61) Python Modules**\r\n",
        "\r\n",
        "**What is a Module?**\r\n",
        "\r\n",
        "Consider a module to be the same as a code library.\r\n",
        "\r\n",
        "A file containing a set of functions you want to include in your application."
      ]
    },
    {
      "cell_type": "markdown",
      "metadata": {
        "id": "r9vwkgqtHd7a"
      },
      "source": [
        "**i) Create a Module**\r\n",
        "\r\n",
        "To create a module just save the code you want in a file with the file extension .**py**:\r\n",
        "\r\n",
        "**Example**\r\n",
        "\r\n",
        "Save this code in a file named mymodule.**py**"
      ]
    },
    {
      "cell_type": "code",
      "metadata": {
        "id": "bEPhfTh8Hmhk"
      },
      "source": [
        "def greeting(name):\r\n",
        "  print(\"Hello, \" + name)"
      ],
      "execution_count": null,
      "outputs": []
    },
    {
      "cell_type": "markdown",
      "metadata": {
        "id": "x8d46BYMHv2-"
      },
      "source": [
        "**ii) Use a Module**\r\n",
        "\r\n",
        "First upload the file"
      ]
    },
    {
      "cell_type": "code",
      "metadata": {
        "colab": {
          "resources": {
            "http://localhost:8080/nbextensions/google.colab/files.js": {
              "data": "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",
              "ok": true,
              "headers": [
                [
                  "content-type",
                  "application/javascript"
                ]
              ],
              "status": 200,
              "status_text": ""
            }
          },
          "base_uri": "https://localhost:8080/",
          "height": 89
        },
        "id": "QmVgo3_-PtLl",
        "outputId": "b8feef4f-e835-473a-8e0d-c3811f045964"
      },
      "source": [
        "from google.colab import files\r\n",
        "files.upload()\r\n"
      ],
      "execution_count": null,
      "outputs": [
        {
          "output_type": "display_data",
          "data": {
            "text/html": [
              "\n",
              "     <input type=\"file\" id=\"files-e28eb57e-bfcf-4631-9b23-0923ca65e509\" name=\"files[]\" multiple disabled\n",
              "        style=\"border:none\" />\n",
              "     <output id=\"result-e28eb57e-bfcf-4631-9b23-0923ca65e509\">\n",
              "      Upload widget is only available when the cell has been executed in the\n",
              "      current browser session. Please rerun this cell to enable.\n",
              "      </output>\n",
              "      <script src=\"/nbextensions/google.colab/files.js\"></script> "
            ],
            "text/plain": [
              "<IPython.core.display.HTML object>"
            ]
          },
          "metadata": {
            "tags": []
          }
        },
        {
          "output_type": "stream",
          "text": [
            "Saving mymodule.py to mymodule (1).py\n"
          ],
          "name": "stdout"
        },
        {
          "output_type": "execute_result",
          "data": {
            "text/plain": [
              "{'mymodule.py': b'def greeting(name):\\r\\n  print(\"Hello, \" + name)'}"
            ]
          },
          "metadata": {
            "tags": []
          },
          "execution_count": 11
        }
      ]
    },
    {
      "cell_type": "markdown",
      "metadata": {
        "id": "0WRghqe8TyI8"
      },
      "source": [
        "Now we can use the module we just created, by using the **import** statement:\r\n",
        "\r\n",
        "**Example**\r\n",
        "\r\n",
        "Import the module named mymodule, and call the greeting function:"
      ]
    },
    {
      "cell_type": "code",
      "metadata": {
        "colab": {
          "base_uri": "https://localhost:8080/"
        },
        "id": "bIQC06lmThda",
        "outputId": "4aca54c7-e7ac-43f0-e0f4-e1bec249e3cd"
      },
      "source": [
        "import mymodule\r\n",
        "mymodule.greeting(\"Jonathan\")"
      ],
      "execution_count": null,
      "outputs": [
        {
          "output_type": "stream",
          "text": [
            "Hello, Jonathan\n"
          ],
          "name": "stdout"
        }
      ]
    },
    {
      "cell_type": "markdown",
      "metadata": {
        "id": "5nwmGprKQ3jF"
      },
      "source": [
        "**iii) Variables in Module**\r\n",
        "\r\n",
        "The module can contain functions, as already described, but also variables of all types (arrays, dictionaries, objects etc):\r\n",
        "\r\n",
        "**Example**\r\n",
        "\r\n",
        "Save this code in the file mymodule.py"
      ]
    },
    {
      "cell_type": "code",
      "metadata": {
        "id": "fPja188VRC1O"
      },
      "source": [
        "person1 = {\r\n",
        "  \"name\": \"John\",\r\n",
        "  \"age\": 36,\r\n",
        "  \"country\": \"Norway\"\r\n",
        "}"
      ],
      "execution_count": null,
      "outputs": []
    },
    {
      "cell_type": "markdown",
      "metadata": {
        "id": "Io-LaMFaRP3i"
      },
      "source": [
        "First upload the file"
      ]
    },
    {
      "cell_type": "code",
      "metadata": {
        "colab": {
          "resources": {
            "http://localhost:8080/nbextensions/google.colab/files.js": {
              "data": "Ly8gQ29weXJpZ2h0IDIwMTcgR29vZ2xlIExMQwovLwovLyBMaWNlbnNlZCB1bmRlciB0aGUgQXBhY2hlIExpY2Vuc2UsIFZlcnNpb24gMi4wICh0aGUgIkxpY2Vuc2UiKTsKLy8geW91IG1heSBub3QgdXNlIHRoaXMgZmlsZSBleGNlcHQgaW4gY29tcGxpYW5jZSB3aXRoIHRoZSBMaWNlbnNlLgovLyBZb3UgbWF5IG9idGFpbiBhIGNvcHkgb2YgdGhlIExpY2Vuc2UgYXQKLy8KLy8gICAgICBodHRwOi8vd3d3LmFwYWNoZS5vcmcvbGljZW5zZXMvTElDRU5TRS0yLjAKLy8KLy8gVW5sZXNzIHJlcXVpcmVkIGJ5IGFwcGxpY2FibGUgbGF3IG9yIGFncmVlZCB0byBpbiB3cml0aW5nLCBzb2Z0d2FyZQovLyBkaXN0cmlidXRlZCB1bmRlciB0aGUgTGljZW5zZSBpcyBkaXN0cmlidXRlZCBvbiBhbiAiQVMgSVMiIEJBU0lTLAovLyBXSVRIT1VUIFdBUlJBTlRJRVMgT1IgQ09ORElUSU9OUyBPRiBBTlkgS0lORCwgZWl0aGVyIGV4cHJlc3Mgb3IgaW1wbGllZC4KLy8gU2VlIHRoZSBMaWNlbnNlIGZvciB0aGUgc3BlY2lmaWMgbGFuZ3VhZ2UgZ292ZXJuaW5nIHBlcm1pc3Npb25zIGFuZAovLyBsaW1pdGF0aW9ucyB1bmRlciB0aGUgTGljZW5zZS4KCi8qKgogKiBAZmlsZW92ZXJ2aWV3IEhlbHBlcnMgZm9yIGdvb2dsZS5jb2xhYiBQeXRob24gbW9kdWxlLgogKi8KKGZ1bmN0aW9uKHNjb3BlKSB7CmZ1bmN0aW9uIHNwYW4odGV4dCwgc3R5bGVBdHRyaWJ1dGVzID0ge30pIHsKICBjb25zdCBlbGVtZW50ID0gZG9jdW1lbnQuY3JlYXRlRWxlbWVudCgnc3BhbicpOwogIGVsZW1lbnQudGV4dENvbnRlbnQgPSB0ZXh0OwogIGZvciAoY29uc3Qga2V5IG9mIE9iamVjdC5rZXlzKHN0eWxlQXR0cmlidXRlcykpIHsKICAgIGVsZW1lbnQuc3R5bGVba2V5XSA9IHN0eWxlQXR0cmlidXRlc1trZXldOwogIH0KICByZXR1cm4gZWxlbWVudDsKfQoKLy8gTWF4IG51bWJlciBvZiBieXRlcyB3aGljaCB3aWxsIGJlIHVwbG9hZGVkIGF0IGEgdGltZS4KY29uc3QgTUFYX1BBWUxPQURfU0laRSA9IDEwMCAqIDEwMjQ7CgpmdW5jdGlvbiBfdXBsb2FkRmlsZXMoaW5wdXRJZCwgb3V0cHV0SWQpIHsKICBjb25zdCBzdGVwcyA9IHVwbG9hZEZpbGVzU3RlcChpbnB1dElkLCBvdXRwdXRJZCk7CiAgY29uc3Qgb3V0cHV0RWxlbWVudCA9IGRvY3VtZW50LmdldEVsZW1lbnRCeUlkKG91dHB1dElkKTsKICAvLyBDYWNoZSBzdGVwcyBvbiB0aGUgb3V0cHV0RWxlbWVudCB0byBtYWtlIGl0IGF2YWlsYWJsZSBmb3IgdGhlIG5leHQgY2FsbAogIC8vIHRvIHVwbG9hZEZpbGVzQ29udGludWUgZnJvbSBQeXRob24uCiAgb3V0cHV0RWxlbWVudC5zdGVwcyA9IHN0ZXBzOwoKICByZXR1cm4gX3VwbG9hZEZpbGVzQ29udGludWUob3V0cHV0SWQpOwp9CgovLyBUaGlzIGlzIHJvdWdobHkgYW4gYXN5bmMgZ2VuZXJhdG9yIChub3Qgc3VwcG9ydGVkIGluIHRoZSBicm93c2VyIHlldCksCi8vIHdoZXJlIHRoZXJlIGFyZSBtdWx0aXBsZSBhc3luY2hyb25vdXMgc3RlcHMgYW5kIHRoZSBQeXRob24gc2lkZSBpcyBnb2luZwovLyB0byBwb2xsIGZvciBjb21wbGV0aW9uIG9mIGVhY2ggc3RlcC4KLy8gVGhpcyB1c2VzIGEgUHJvbWlzZSB0byBibG9jayB0aGUgcHl0aG9uIHNpZGUgb24gY29tcGxldGlvbiBvZiBlYWNoIHN0ZXAsCi8vIHRoZW4gcGFzc2VzIHRoZSByZXN1bHQgb2YgdGhlIHByZXZpb3VzIHN0ZXAgYXMgdGhlIGlucHV0IHRvIHRoZSBuZXh0IHN0ZXAuCmZ1bmN0aW9uIF91cGxvYWRGaWxlc0NvbnRpbnVlKG91dHB1dElkKSB7CiAgY29uc3Qgb3V0cHV0RWxlbWVudCA9IGRvY3VtZW50LmdldEVsZW1lbnRCeUlkKG91dHB1dElkKTsKICBjb25zdCBzdGVwcyA9IG91dHB1dEVsZW1lbnQuc3RlcHM7CgogIGNvbnN0IG5leHQgPSBzdGVwcy5uZXh0KG91dHB1dEVsZW1lbnQubGFzdFByb21pc2VWYWx1ZSk7CiAgcmV0dXJuIFByb21pc2UucmVzb2x2ZShuZXh0LnZhbHVlLnByb21pc2UpLnRoZW4oKHZhbHVlKSA9PiB7CiAgICAvLyBDYWNoZSB0aGUgbGFzdCBwcm9taXNlIHZhbHVlIHRvIG1ha2UgaXQgYXZhaWxhYmxlIHRvIHRoZSBuZXh0CiAgICAvLyBzdGVwIG9mIHRoZSBnZW5lcmF0b3IuCiAgICBvdXRwdXRFbGVtZW50Lmxhc3RQcm9taXNlVmFsdWUgPSB2YWx1ZTsKICAgIHJldHVybiBuZXh0LnZhbHVlLnJlc3BvbnNlOwogIH0pOwp9CgovKioKICogR2VuZXJhdG9yIGZ1bmN0aW9uIHdoaWNoIGlzIGNhbGxlZCBiZXR3ZWVuIGVhY2ggYXN5bmMgc3RlcCBvZiB0aGUgdXBsb2FkCiAqIHByb2Nlc3MuCiAqIEBwYXJhbSB7c3RyaW5nfSBpbnB1dElkIEVsZW1lbnQgSUQgb2YgdGhlIGlucHV0IGZpbGUgcGlja2VyIGVsZW1lbnQuCiAqIEBwYXJhbSB7c3RyaW5nfSBvdXRwdXRJZCBFbGVtZW50IElEIG9mIHRoZSBvdXRwdXQgZGlzcGxheS4KICogQHJldHVybiB7IUl0ZXJhYmxlPCFPYmplY3Q+fSBJdGVyYWJsZSBvZiBuZXh0IHN0ZXBzLgogKi8KZnVuY3Rpb24qIHVwbG9hZEZpbGVzU3RlcChpbnB1dElkLCBvdXRwdXRJZCkgewogIGNvbnN0IGlucHV0RWxlbWVudCA9IGRvY3VtZW50LmdldEVsZW1lbnRCeUlkKGlucHV0SWQpOwogIGlucHV0RWxlbWVudC5kaXNhYmxlZCA9IGZhbHNlOwoKICBjb25zdCBvdXRwdXRFbGVtZW50ID0gZG9jdW1lbnQuZ2V0RWxlbWVudEJ5SWQob3V0cHV0SWQpOwogIG91dHB1dEVsZW1lbnQuaW5uZXJIVE1MID0gJyc7CgogIGNvbnN0IHBpY2tlZFByb21pc2UgPSBuZXcgUHJvbWlzZSgocmVzb2x2ZSkgPT4gewogICAgaW5wdXRFbGVtZW50LmFkZEV2ZW50TGlzdGVuZXIoJ2NoYW5nZScsIChlKSA9PiB7CiAgICAgIHJlc29sdmUoZS50YXJnZXQuZmlsZXMpOwogICAgfSk7CiAgfSk7CgogIGNvbnN0IGNhbmNlbCA9IGRvY3VtZW50LmNyZWF0ZUVsZW1lbnQoJ2J1dHRvbicpOwogIGlucHV0RWxlbWVudC5wYXJlbnRFbGVtZW50LmFwcGVuZENoaWxkKGNhbmNlbCk7CiAgY2FuY2VsLnRleHRDb250ZW50ID0gJ0NhbmNlbCB1cGxvYWQnOwogIGNvbnN0IGNhbmNlbFByb21pc2UgPSBuZXcgUHJvbWlzZSgocmVzb2x2ZSkgPT4gewogICAgY2FuY2VsLm9uY2xpY2sgPSAoKSA9PiB7CiAgICAgIHJlc29sdmUobnVsbCk7CiAgICB9OwogIH0pOwoKICAvLyBXYWl0IGZvciB0aGUgdXNlciB0byBwaWNrIHRoZSBmaWxlcy4KICBjb25zdCBmaWxlcyA9IHlpZWxkIHsKICAgIHByb21pc2U6IFByb21pc2UucmFjZShbcGlja2VkUHJvbWlzZSwgY2FuY2VsUHJvbWlzZV0pLAogICAgcmVzcG9uc2U6IHsKICAgICAgYWN0aW9uOiAnc3RhcnRpbmcnLAogICAgfQogIH07CgogIGNhbmNlbC5yZW1vdmUoKTsKCiAgLy8gRGlzYWJsZSB0aGUgaW5wdXQgZWxlbWVudCBzaW5jZSBmdXJ0aGVyIHBpY2tzIGFyZSBub3QgYWxsb3dlZC4KICBpbnB1dEVsZW1lbnQuZGlzYWJsZWQgPSB0cnVlOwoKICBpZiAoIWZpbGVzKSB7CiAgICByZXR1cm4gewogICAgICByZXNwb25zZTogewogICAgICAgIGFjdGlvbjogJ2NvbXBsZXRlJywKICAgICAgfQogICAgfTsKICB9CgogIGZvciAoY29uc3QgZmlsZSBvZiBmaWxlcykgewogICAgY29uc3QgbGkgPSBkb2N1bWVudC5jcmVhdGVFbGVtZW50KCdsaScpOwogICAgbGkuYXBwZW5kKHNwYW4oZmlsZS5uYW1lLCB7Zm9udFdlaWdodDogJ2JvbGQnfSkpOwogICAgbGkuYXBwZW5kKHNwYW4oCiAgICAgICAgYCgke2ZpbGUudHlwZSB8fCAnbi9hJ30pIC0gJHtmaWxlLnNpemV9IGJ5dGVzLCBgICsKICAgICAgICBgbGFzdCBtb2RpZmllZDogJHsKICAgICAgICAgICAgZmlsZS5sYXN0TW9kaWZpZWREYXRlID8gZmlsZS5sYXN0TW9kaWZpZWREYXRlLnRvTG9jYWxlRGF0ZVN0cmluZygpIDoKICAgICAgICAgICAgICAgICAgICAgICAgICAgICAgICAgICAgJ24vYSd9IC0gYCkpOwogICAgY29uc3QgcGVyY2VudCA9IHNwYW4oJzAlIGRvbmUnKTsKICAgIGxpLmFwcGVuZENoaWxkKHBlcmNlbnQpOwoKICAgIG91dHB1dEVsZW1lbnQuYXBwZW5kQ2hpbGQobGkpOwoKICAgIGNvbnN0IGZpbGVEYXRhUHJvbWlzZSA9IG5ldyBQcm9taXNlKChyZXNvbHZlKSA9PiB7CiAgICAgIGNvbnN0IHJlYWRlciA9IG5ldyBGaWxlUmVhZGVyKCk7CiAgICAgIHJlYWRlci5vbmxvYWQgPSAoZSkgPT4gewogICAgICAgIHJlc29sdmUoZS50YXJnZXQucmVzdWx0KTsKICAgICAgfTsKICAgICAgcmVhZGVyLnJlYWRBc0FycmF5QnVmZmVyKGZpbGUpOwogICAgfSk7CiAgICAvLyBXYWl0IGZvciB0aGUgZGF0YSB0byBiZSByZWFkeS4KICAgIGxldCBmaWxlRGF0YSA9IHlpZWxkIHsKICAgICAgcHJvbWlzZTogZmlsZURhdGFQcm9taXNlLAogICAgICByZXNwb25zZTogewogICAgICAgIGFjdGlvbjogJ2NvbnRpbnVlJywKICAgICAgfQogICAgfTsKCiAgICAvLyBVc2UgYSBjaHVua2VkIHNlbmRpbmcgdG8gYXZvaWQgbWVzc2FnZSBzaXplIGxpbWl0cy4gU2VlIGIvNjIxMTU2NjAuCiAgICBsZXQgcG9zaXRpb24gPSAwOwogICAgd2hpbGUgKHBvc2l0aW9uIDwgZmlsZURhdGEuYnl0ZUxlbmd0aCkgewogICAgICBjb25zdCBsZW5ndGggPSBNYXRoLm1pbihmaWxlRGF0YS5ieXRlTGVuZ3RoIC0gcG9zaXRpb24sIE1BWF9QQVlMT0FEX1NJWkUpOwogICAgICBjb25zdCBjaHVuayA9IG5ldyBVaW50OEFycmF5KGZpbGVEYXRhLCBwb3NpdGlvbiwgbGVuZ3RoKTsKICAgICAgcG9zaXRpb24gKz0gbGVuZ3RoOwoKICAgICAgY29uc3QgYmFzZTY0ID0gYnRvYShTdHJpbmcuZnJvbUNoYXJDb2RlLmFwcGx5KG51bGwsIGNodW5rKSk7CiAgICAgIHlpZWxkIHsKICAgICAgICByZXNwb25zZTogewogICAgICAgICAgYWN0aW9uOiAnYXBwZW5kJywKICAgICAgICAgIGZpbGU6IGZpbGUubmFtZSwKICAgICAgICAgIGRhdGE6IGJhc2U2NCwKICAgICAgICB9LAogICAgICB9OwogICAgICBwZXJjZW50LnRleHRDb250ZW50ID0KICAgICAgICAgIGAke01hdGgucm91bmQoKHBvc2l0aW9uIC8gZmlsZURhdGEuYnl0ZUxlbmd0aCkgKiAxMDApfSUgZG9uZWA7CiAgICB9CiAgfQoKICAvLyBBbGwgZG9uZS4KICB5aWVsZCB7CiAgICByZXNwb25zZTogewogICAgICBhY3Rpb246ICdjb21wbGV0ZScsCiAgICB9CiAgfTsKfQoKc2NvcGUuZ29vZ2xlID0gc2NvcGUuZ29vZ2xlIHx8IHt9OwpzY29wZS5nb29nbGUuY29sYWIgPSBzY29wZS5nb29nbGUuY29sYWIgfHwge307CnNjb3BlLmdvb2dsZS5jb2xhYi5fZmlsZXMgPSB7CiAgX3VwbG9hZEZpbGVzLAogIF91cGxvYWRGaWxlc0NvbnRpbnVlLAp9Owp9KShzZWxmKTsK",
              "ok": true,
              "headers": [
                [
                  "content-type",
                  "application/javascript"
                ]
              ],
              "status": 200,
              "status_text": ""
            }
          },
          "base_uri": "https://localhost:8080/",
          "height": 89
        },
        "id": "DsXuMWjmRVm8",
        "outputId": "8af49806-c208-422f-8249-3b224b9d9c61"
      },
      "source": [
        "from google.colab import files\r\n",
        "files.upload()\r\n"
      ],
      "execution_count": null,
      "outputs": [
        {
          "output_type": "display_data",
          "data": {
            "text/html": [
              "\n",
              "     <input type=\"file\" id=\"files-2e52ae04-5abb-4ba3-b443-806d80233c38\" name=\"files[]\" multiple disabled\n",
              "        style=\"border:none\" />\n",
              "     <output id=\"result-2e52ae04-5abb-4ba3-b443-806d80233c38\">\n",
              "      Upload widget is only available when the cell has been executed in the\n",
              "      current browser session. Please rerun this cell to enable.\n",
              "      </output>\n",
              "      <script src=\"/nbextensions/google.colab/files.js\"></script> "
            ],
            "text/plain": [
              "<IPython.core.display.HTML object>"
            ]
          },
          "metadata": {
            "tags": []
          }
        },
        {
          "output_type": "stream",
          "text": [
            "Saving mymodule1.py to mymodule1 (1).py\n"
          ],
          "name": "stdout"
        },
        {
          "output_type": "execute_result",
          "data": {
            "text/plain": [
              "{'mymodule1.py': b'person1 = {\\r\\n  \"name\": \"John\",\\r\\n  \"age\": 36,\\r\\n  \"country\": \"Norway\"\\r\\n}'}"
            ]
          },
          "metadata": {
            "tags": []
          },
          "execution_count": 12
        }
      ]
    },
    {
      "cell_type": "markdown",
      "metadata": {
        "id": "Pl0Fs4GaUTS8"
      },
      "source": [
        "**Example**\r\n",
        "\r\n",
        "Import the module named mymodule1, and access the person1 dictionary:"
      ]
    },
    {
      "cell_type": "code",
      "metadata": {
        "colab": {
          "base_uri": "https://localhost:8080/"
        },
        "id": "MYkF5g_pTHuA",
        "outputId": "da9e4b8c-6dfb-4041-85a3-d303dd7d1ad8"
      },
      "source": [
        "import mymodule1\r\n",
        "a = mymodule1.person1[\"age\"]\r\n",
        "print(a)"
      ],
      "execution_count": null,
      "outputs": [
        {
          "output_type": "stream",
          "text": [
            "36\n"
          ],
          "name": "stdout"
        }
      ]
    },
    {
      "cell_type": "markdown",
      "metadata": {
        "id": "xE3IhYlM7-VE"
      },
      "source": [
        "**iv)Built-in Modules**\r\n",
        "\r\n",
        "There are several built-in modules in Python, which you can import whenever you like.\r\n",
        "\r\n",
        "**Example**\r\n",
        "\r\n",
        "Import and use the **platform** module:"
      ]
    },
    {
      "cell_type": "code",
      "metadata": {
        "colab": {
          "base_uri": "https://localhost:8080/"
        },
        "id": "Q9AZOVKE7pUE",
        "outputId": "ec9c4277-bf2e-4c28-e175-cb026469654b"
      },
      "source": [
        "import platform\r\n",
        "\r\n",
        "x = platform.system()\r\n",
        "print(x)\r\n"
      ],
      "execution_count": null,
      "outputs": [
        {
          "output_type": "stream",
          "text": [
            "Linux\n"
          ],
          "name": "stdout"
        }
      ]
    },
    {
      "cell_type": "markdown",
      "metadata": {
        "id": "xonLppb68P8w"
      },
      "source": [
        "**v) Using the dir() Function**\r\n",
        "\r\n",
        "There is a built-in function to list all the function names (or variable names) in a module. The dir() function:\r\n",
        "\r\n",
        "**Example**\r\n",
        "\r\n",
        "List all the defined names belonging to the platform module:"
      ]
    },
    {
      "cell_type": "code",
      "metadata": {
        "colab": {
          "base_uri": "https://localhost:8080/"
        },
        "id": "VmFLL6-R8Qge",
        "outputId": "12dc7e20-85d9-4bce-b924-276e718c755e"
      },
      "source": [
        "import platform\r\n",
        "\r\n",
        "x = dir(platform)\r\n",
        "print(x)"
      ],
      "execution_count": null,
      "outputs": [
        {
          "output_type": "stream",
          "text": [
            "['DEV_NULL', '_UNIXCONFDIR', '_WIN32_CLIENT_RELEASES', '_WIN32_SERVER_RELEASES', '__builtins__', '__cached__', '__copyright__', '__doc__', '__file__', '__loader__', '__name__', '__package__', '__spec__', '__version__', '_codename_file_re', '_comparable_version', '_component_re', '_default_architecture', '_dist_try_harder', '_distributor_id_file_re', '_follow_symlinks', '_ironpython26_sys_version_parser', '_ironpython_sys_version_parser', '_java_getprop', '_libc_search', '_linux_distribution', '_lsb_release_version', '_mac_ver_xml', '_node', '_norm_version', '_parse_release_file', '_platform', '_platform_cache', '_pypy_sys_version_parser', '_release_file_re', '_release_filename', '_release_version', '_supported_dists', '_sys_version', '_sys_version_cache', '_sys_version_parser', '_syscmd_file', '_syscmd_uname', '_syscmd_ver', '_uname_cache', '_ver_output', '_ver_stages', 'architecture', 'collections', 'dist', 'java_ver', 'libc_ver', 'linux_distribution', 'mac_ver', 'machine', 'node', 'os', 'platform', 'popen', 'processor', 'python_branch', 'python_build', 'python_compiler', 'python_implementation', 'python_revision', 'python_version', 'python_version_tuple', 're', 'release', 'subprocess', 'sys', 'system', 'system_alias', 'uname', 'uname_result', 'version', 'warnings', 'win32_ver']\n"
          ],
          "name": "stdout"
        }
      ]
    },
    {
      "cell_type": "markdown",
      "metadata": {
        "id": "5W1GKQHN8gbE"
      },
      "source": [
        "**62) Python Math**\r\n",
        "\r\n",
        "Python has a set of built-in math functions, including an extensive math module, that allows you to perform mathematical tasks on numbers."
      ]
    },
    {
      "cell_type": "markdown",
      "metadata": {
        "id": "uwNKgHBH9Ieo"
      },
      "source": [
        "**i) Built-in Math Functions**\r\n",
        "\r\n",
        "The **min()** and **max()** functions can be used to find the lowest or highest value in an iterable:\r\n",
        "\r\n",
        "**Example**"
      ]
    },
    {
      "cell_type": "code",
      "metadata": {
        "colab": {
          "base_uri": "https://localhost:8080/"
        },
        "id": "ulYWAE1v9TSr",
        "outputId": "3350d66a-59de-4fda-82a3-d3729b41d19b"
      },
      "source": [
        "x = min(5, 10, 25)\r\n",
        "y = max(5, 10, 25)\r\n",
        "\r\n",
        "print(x)\r\n",
        "print(y)"
      ],
      "execution_count": null,
      "outputs": [
        {
          "output_type": "stream",
          "text": [
            "5\n",
            "25\n"
          ],
          "name": "stdout"
        }
      ]
    },
    {
      "cell_type": "markdown",
      "metadata": {
        "id": "sRg9OOh69W8J"
      },
      "source": [
        "The **pow(x, y)** function returns the value of x to the power of y (xy).\r\n",
        "\r\n",
        "**Example**\r\n",
        "\r\n",
        "Return the value of 4 to the power of 3 (same as 4 * 4 * 4):"
      ]
    },
    {
      "cell_type": "code",
      "metadata": {
        "colab": {
          "base_uri": "https://localhost:8080/"
        },
        "id": "kPbssBfJ9hfX",
        "outputId": "c2649ffd-1a68-4cca-e6dd-7020d7040aca"
      },
      "source": [
        "x = pow(4, 3)\r\n",
        "\r\n",
        "print(x)"
      ],
      "execution_count": null,
      "outputs": [
        {
          "output_type": "stream",
          "text": [
            "64\n"
          ],
          "name": "stdout"
        }
      ]
    },
    {
      "cell_type": "markdown",
      "metadata": {
        "id": "ytjQcqL49kp4"
      },
      "source": [
        "**ii) The Math Module**\r\n",
        "\r\n",
        "Python has also a built-in module called math, which extends the list of mathematical functions.\r\n",
        "\r\n",
        "To use it, you must import the math module:"
      ]
    },
    {
      "cell_type": "markdown",
      "metadata": {
        "id": "OR-uhhvL9tjQ"
      },
      "source": [
        "**import math**"
      ]
    },
    {
      "cell_type": "markdown",
      "metadata": {
        "id": "N6FVuz9Z9wzY"
      },
      "source": [
        "When you have imported the **math** module, you can start using methods and constants of the module.\r\n",
        "\r\n",
        "The **math.sqrt()** method for example, returns the square root of a number:\r\n",
        "\r\n",
        "**Example**"
      ]
    },
    {
      "cell_type": "code",
      "metadata": {
        "colab": {
          "base_uri": "https://localhost:8080/"
        },
        "id": "RCz5bJQQ97Pc",
        "outputId": "2db9647b-a1c5-4dc4-8e30-1e1014167465"
      },
      "source": [
        "import math\r\n",
        "\r\n",
        "x = math.sqrt(64)\r\n",
        "\r\n",
        "print(x)"
      ],
      "execution_count": null,
      "outputs": [
        {
          "output_type": "stream",
          "text": [
            "8.0\n"
          ],
          "name": "stdout"
        }
      ]
    }
  ]
}